{
 "cells": [
  {
   "cell_type": "markdown",
   "metadata": {},
   "source": [
    "# Librerías #\n",
    "Python tiene una comunidad muy grande; algunos de sus miembros se enfocaron en hacer paquetes con herramientas útiles para la solución de todo tipo de problemas: desde matemáticas hasta astronomía, pasando por aprendizaje de máquina y análisis búrsatil. La sintaxis para importar alguna librería es la siguiente:\n",
    "\n",
    "```python\n",
    "import nombre_libreria\n",
    "```\n",
    "Este código importa todos los métodos y atributos de una librería. Digamos que `love` es un método de esa librería. Se ejecuta en el código de la siguiente manera:\n",
    "\n",
    "```python\n",
    "nombre_libreria.love()\n",
    "```\n",
    "Para ahorrar caracteres, se le puede asociar un seudónimo a la librería de la siguiente manera,\n",
    "```python\n",
    "import nombre_libreria as nl\n",
    "```\n",
    "y el método se ejecutará en nuestro programa como `nl.love()`. Podemos importar únicamente el método `love` de la librería, nada más\n",
    "```python\n",
    "from nombre_libreria import love\n",
    "```\n",
    "Una práctica no tan recomendada es importar todo el contenido de una librería directamente al código del siguiente modo:\n",
    "```python\n",
    "from nombre_libreria import *\n",
    "```\n",
    "No tan recomendada porque puede causar imprevistos si se hace con varias librerías que tengan nombres en común. A practicar."
   ]
  },
  {
   "cell_type": "code",
   "execution_count": null,
   "metadata": {
    "collapsed": false
   },
   "outputs": [],
   "source": [
    "import this"
   ]
  },
  {
   "cell_type": "markdown",
   "metadata": {},
   "source": [
    "# Time #\n",
    "A veces es necesario medir el tiempo que tarda en ejecutarse un segmento de código en Python. Para eso y algunas otras cosas más sirve la librería `time`."
   ]
  },
  {
   "cell_type": "code",
   "execution_count": null,
   "metadata": {
    "collapsed": false
   },
   "outputs": [],
   "source": [
    "import time\n",
    "start=time.time() \n",
    "for x in range(100000):\n",
    "    x**2\n",
    "end=time.time()\n",
    "print(\"Tardó %f segundos en terminar\"%(end-start))"
   ]
  },
  {
   "cell_type": "markdown",
   "metadata": {},
   "source": [
    "# Math #\n",
    "Python por defecto carece de funciones matemáticas avanzadas, o de las constantes matemáticas usuales. `math` es un paquete sencillo, pero bastante completo, que contiene la mayoría de las funciones y constantes matemáticas más comunes."
   ]
  },
  {
   "cell_type": "code",
   "execution_count": null,
   "metadata": {
    "collapsed": false
   },
   "outputs": [],
   "source": [
    "import math\n",
    "\n",
    "print(math.cos(math.pi))\n",
    "print(math.log(math.e))\n",
    "print(math.factorial(40))\n",
    "print(1/math.inf)"
   ]
  },
  {
   "cell_type": "markdown",
   "metadata": {},
   "source": [
    "# Sys, Os #\n",
    "Los programas de Python se ejecutan en un entorno aparte del sistema operativo. A veces es necesario interactuar con el sistema operativo en un programa, para "
   ]
  },
  {
   "cell_type": "code",
   "execution_count": null,
   "metadata": {
    "collapsed": false
   },
   "outputs": [],
   "source": [
    "import sys, os\n",
    "\n",
    "print(\"El máximo entero que admite Python es %i\"%sys.maxsize)\n",
    "print(\"Está trabajando en %s\"%os.getcwd())\n",
    "print(\"Información de este computador: %s\"%str(os.uname()))"
   ]
  },
  {
   "cell_type": "code",
   "execution_count": null,
   "metadata": {
    "collapsed": true
   },
   "outputs": [],
   "source": [
    "#Creemos una carpeta acá\n",
    "\n",
    "os.mkdir(\"Magia/\")"
   ]
  },
  {
   "cell_type": "code",
   "execution_count": null,
   "metadata": {
    "collapsed": false
   },
   "outputs": [],
   "source": [
    "print(\"La arquitectura de Python se encuentra en \"+sys.prefix)"
   ]
  },
  {
   "cell_type": "markdown",
   "metadata": {},
   "source": [
    "# Random #\n",
    "Construir números aleatorios en un lenguaje de programación es todo un arte. Una librería que nos permite generarlos sin enfocarnos en cómo lo hace es `random`. "
   ]
  },
  {
   "cell_type": "code",
   "execution_count": null,
   "metadata": {
    "collapsed": false
   },
   "outputs": [],
   "source": [
    "import random"
   ]
  },
  {
   "cell_type": "code",
   "execution_count": null,
   "metadata": {
    "collapsed": false
   },
   "outputs": [],
   "source": [
    "random.randint(1,100)"
   ]
  },
  {
   "cell_type": "code",
   "execution_count": null,
   "metadata": {
    "collapsed": false
   },
   "outputs": [],
   "source": [
    "random.seed(12324)\n",
    "random.randint(1,100)"
   ]
  },
  {
   "cell_type": "code",
   "execution_count": null,
   "metadata": {
    "collapsed": false
   },
   "outputs": [],
   "source": [
    "#El axioma de elección en su estado más puro\n",
    "random.choice([1,\"Hola\", True, [32,3]])"
   ]
  },
  {
   "cell_type": "code",
   "execution_count": null,
   "metadata": {
    "collapsed": false
   },
   "outputs": [],
   "source": [
    "#Tomamos aleatoriamente 3 elementos de la lista\n",
    "random.sample([1,\"Hola\", True, [32,3]], 3)"
   ]
  },
  {
   "cell_type": "code",
   "execution_count": null,
   "metadata": {
    "collapsed": false
   },
   "outputs": [],
   "source": [
    "#Un número flotante al azar entre 3 y 5\n",
    "random.uniform(3, 5)"
   ]
  }
 ],
 "metadata": {
  "kernelspec": {
   "display_name": "Python [anaconda3]",
   "language": "python",
   "name": "Python [anaconda3]"
  },
  "language_info": {
   "codemirror_mode": {
    "name": "ipython",
    "version": 3
   },
   "file_extension": ".py",
   "mimetype": "text/x-python",
   "name": "python",
   "nbconvert_exporter": "python",
   "pygments_lexer": "ipython3",
   "version": "3.5.2"
  }
 },
 "nbformat": 4,
 "nbformat_minor": 0
}
