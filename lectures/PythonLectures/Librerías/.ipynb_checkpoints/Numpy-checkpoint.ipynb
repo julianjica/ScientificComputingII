{
 "cells": [
  {
   "cell_type": "markdown",
   "metadata": {},
   "source": [
    "# Numpy #\n",
    "Es quizá la librería más importante de Python afín a la computación científica, pero su utilidad no radica en este campo únicamente. Tiene funciones muy importantes en lo que respecta a análisis de archivos de texto, excel, entre otros. Además, sirve para llevar a otro nivel la matemática en la programación."
   ]
  },
  {
   "cell_type": "code",
   "execution_count": null,
   "metadata": {
    "collapsed": true
   },
   "outputs": [],
   "source": [
    "import numpy as np"
   ]
  },
  {
   "cell_type": "markdown",
   "metadata": {},
   "source": [
    "## Arreglos ##\n",
    "El objeto más importante de Numpy es el arreglo multidimensional. Es como una lista, pero sólo puede tener un tipo de dato dentro y no se puede alterar su tamaño, como si fuera un arreglo de algún lenguaje de bajo nivel."
   ]
  },
  {
   "cell_type": "code",
   "execution_count": null,
   "metadata": {
    "collapsed": true
   },
   "outputs": [],
   "source": [
    "a=np.array([1,2,3,4])\n",
    "b=np.array([[1,2,3,4],[5,6,7,8],[9,10,11,12],[13,14,15,16]])"
   ]
  },
  {
   "cell_type": "markdown",
   "metadata": {},
   "source": [
    "Los arreglos se comportan de manera distinta que las listas, como por ejemplo:"
   ]
  },
  {
   "cell_type": "code",
   "execution_count": null,
   "metadata": {
    "collapsed": false
   },
   "outputs": [],
   "source": [
    "print(\"Se multiplican todos los elementos por 3, en vez de concatenar tres veces\")\n",
    "print(3*a) \n",
    "\n",
    "print(\"Se multiplica cada fila de la matriz por el vector a\")\n",
    "print(a*b)\n",
    "\n",
    "print(\"Se eleva cada elemento de los arreglos al cuadrado\")\n",
    "print(a**2, a*a)"
   ]
  },
  {
   "cell_type": "markdown",
   "metadata": {},
   "source": [
    "Es posible \"deformar\" un arreglo para cambiar su \"forma\". Por ejemplo:"
   ]
  },
  {
   "cell_type": "code",
   "execution_count": null,
   "metadata": {
    "collapsed": false
   },
   "outputs": [],
   "source": [
    "print(a.reshape(2,2))\n",
    "print(b.reshape(2,8))"
   ]
  },
  {
   "cell_type": "markdown",
   "metadata": {},
   "source": [
    "La forma de un arreglo de *numpy* se puede determinar mediante la instrucción:\n",
    "```python\n",
    "a.shape\n",
    "```\n",
    "y para saber la dimensión (cantidad de listas anidadas), se usa\n",
    "```python\n",
    "a.ndim\n",
    "```"
   ]
  },
  {
   "cell_type": "code",
   "execution_count": null,
   "metadata": {
    "collapsed": false
   },
   "outputs": [],
   "source": [
    "c=np.array([1])\n",
    "print(c.ndim)\n",
    "\n",
    "c=np.array([[1]])\n",
    "print(c.ndim)\n",
    "\n",
    "c=np.array([[[1]]])\n",
    "print(c.ndim)"
   ]
  },
  {
   "cell_type": "markdown",
   "metadata": {},
   "source": [
    "Para saber el número total de elementos en un arreglo, se usa\n",
    "```python\n",
    "a.size\n",
    "```"
   ]
  },
  {
   "cell_type": "markdown",
   "metadata": {},
   "source": [
    "A pesar de que no se puede modificar el tamaño de un arreglo, se puede modificar su contenido del mismo modo a como se haría con una lista"
   ]
  },
  {
   "cell_type": "code",
   "execution_count": null,
   "metadata": {
    "collapsed": false
   },
   "outputs": [],
   "source": [
    "m=np.array([2,3,4,5], dtype=int) #Se le ingresa como kwarg el tipo de dato dentro del arreglo\n",
    "m[2]=60\n",
    "print(m)"
   ]
  },
  {
   "cell_type": "markdown",
   "metadata": {},
   "source": [
    "## Booleanos y arreglos ##\n",
    "Los arreglos de Numpy son muy versátiles trabajando con booleanos."
   ]
  },
  {
   "cell_type": "code",
   "execution_count": 74,
   "metadata": {
    "collapsed": false
   },
   "outputs": [
    {
     "name": "stdout",
     "output_type": "stream",
     "text": [
      "[False False False  True  True  True  True]\n"
     ]
    }
   ],
   "source": [
    "a=np.arange(3,10)\n",
    "print(a>5)"
   ]
  },
  {
   "cell_type": "markdown",
   "metadata": {},
   "source": [
    "Podemos usar una condición para seleccionar elementos de un arreglo"
   ]
  },
  {
   "cell_type": "code",
   "execution_count": 82,
   "metadata": {
    "collapsed": false
   },
   "outputs": [
    {
     "name": "stdout",
     "output_type": "stream",
     "text": [
      "[4 6 7 8 9]\n"
     ]
    }
   ],
   "source": [
    "# \"|\" simboliza or, \"&\" simboliza and\n",
    "print(a[(a%2==0) | (a>5)]) "
   ]
  },
  {
   "cell_type": "markdown",
   "metadata": {},
   "source": [
    "El código anterior implica de fondo que los booleanos se pueden usar como índices de un arreglo"
   ]
  },
  {
   "cell_type": "code",
   "execution_count": 84,
   "metadata": {
    "collapsed": false
   },
   "outputs": [
    {
     "name": "stdout",
     "output_type": "stream",
     "text": [
      "[3 4 8 9]\n"
     ]
    }
   ],
   "source": [
    "print(a[np.array([True,True,False,False,False,True,True])])"
   ]
  },
  {
   "cell_type": "markdown",
   "metadata": {},
   "source": [
    "## Arreglos \"vacíos\" y/o útiles ##\n",
    "Generalmente no se sabe la información que debe contener un arreglo, por lo que se desea crear un arreglo provisional, y llenarlo más adelante. También puede que se necesite alguno de los arreglos mencionados a continuación. "
   ]
  },
  {
   "cell_type": "code",
   "execution_count": null,
   "metadata": {
    "collapsed": false
   },
   "outputs": [],
   "source": [
    "a=np.empty((5,6,6)) #Arreglo con información arbitraria, de \"forma\" (5,6,6)\n",
    "b=np.zeros((2,2), dtype=complex) #Arreglo de ceros complejos, de \"forma\" (2,2)\n",
    "c=np.ones((1,2), dtype=float) #Arreglo de unos flotantes, de \"forma\" (1,2)"
   ]
  },
  {
   "cell_type": "code",
   "execution_count": null,
   "metadata": {
    "collapsed": false
   },
   "outputs": [],
   "source": [
    "print(a)"
   ]
  },
  {
   "cell_type": "code",
   "execution_count": null,
   "metadata": {
    "collapsed": false
   },
   "outputs": [],
   "source": [
    "print(b)"
   ]
  },
  {
   "cell_type": "code",
   "execution_count": null,
   "metadata": {
    "collapsed": false
   },
   "outputs": [],
   "source": [
    "print(c)"
   ]
  },
  {
   "cell_type": "markdown",
   "metadata": {},
   "source": [
    "*arange* recrea `range`, pero en vez de generar un objeto `range` genera un arreglo de numpy. *linspace* es útil cuando se desea hacer una partición equispaciada de tamaño n de un intervalo. "
   ]
  },
  {
   "cell_type": "code",
   "execution_count": null,
   "metadata": {
    "collapsed": false
   },
   "outputs": [],
   "source": [
    "a=np.arange(2,7,3)\n",
    "b=np.linspace(2,8,20)\n",
    "print(a)\n",
    "print(b)"
   ]
  },
  {
   "cell_type": "markdown",
   "metadata": {},
   "source": [
    "## Operaciones matemáticas con arreglos ##\n",
    "Numpy contiene casi todas las funciones, constantes y operaciones matemáticas que conoces. Aplicarlas a arreglos es bastante intuitivo."
   ]
  },
  {
   "cell_type": "code",
   "execution_count": null,
   "metadata": {
    "collapsed": false
   },
   "outputs": [],
   "source": [
    "a=np.array([2,3,4,5,6])\n",
    "b=np.array([8,7,6,5,4])\n",
    "\n",
    "print(np.sin(a))\n",
    "print(b-a)\n",
    "print(np.pi**a)"
   ]
  },
  {
   "cell_type": "markdown",
   "metadata": {},
   "source": [
    "## Álgebra Lineal ##\n",
    "Numpy es bastante sólido en lo que refiere al trabajo con matrices, haciéndole competencia Matlab. Un arreglo se comporta como una matriz cuando se le pide hacerlo."
   ]
  },
  {
   "cell_type": "code",
   "execution_count": null,
   "metadata": {
    "collapsed": false
   },
   "outputs": [],
   "source": [
    "a=np.arange(1,17).reshape(4,4)\n",
    "b=np.identity(4) # La matriz identidad (4x4)\n",
    "c=np.arange(3,17+2).reshape(4,4)\n",
    "d=np.array([2,1,3,4]).reshape(2,2)\n",
    "\n",
    "print(a.dot(b)) #Multiplicamos a con b (matricialmente)"
   ]
  },
  {
   "cell_type": "code",
   "execution_count": null,
   "metadata": {
    "collapsed": false
   },
   "outputs": [],
   "source": [
    "#En general, el producto de matrices no es conmutativo\n",
    "print(\"a*c\")\n",
    "print(a.dot(c))\n",
    "print(\"c*a\")\n",
    "print(c.dot(a))"
   ]
  },
  {
   "cell_type": "code",
   "execution_count": null,
   "metadata": {
    "collapsed": false
   },
   "outputs": [],
   "source": [
    "print(a.transpose()) #La transpuesta de una matriz\n",
    "print(a.trace()) #La traza de una matriz\n",
    "print(np.linalg.inv(d)) #La inversa de una matriz"
   ]
  },
  {
   "cell_type": "code",
   "execution_count": null,
   "metadata": {
    "collapsed": false
   },
   "outputs": [],
   "source": [
    "#En ciertas versiones de Numpy se puede usar @ para denotar la multiplicación matricial\n",
    "print(d @ np.linalg.inv(d))"
   ]
  },
  {
   "cell_type": "code",
   "execution_count": null,
   "metadata": {
    "collapsed": false
   },
   "outputs": [],
   "source": [
    "print(np.linalg.det(a)) #Determinante de la matriz a"
   ]
  },
  {
   "cell_type": "markdown",
   "metadata": {},
   "source": [
    "### Sistemas de ecuaciones lineales ###\n",
    "Suponga que se quiere hallar los valores de $x,y,z$ que satisfacen\n",
    "$$3x+y+z=4$$\n",
    "$$2x+z=3$$\n",
    "$$6x+4y+3z=0$$\n",
    "Este sistema puede verse como un producto de matrices del siguiente modo\n",
    "\n",
    "\n",
    "$$\\begin{bmatrix}\n",
    "    3&1&1 \\\\\n",
    "    2&0&1 \\\\\n",
    "    6&4&3 \n",
    "\\end{bmatrix}\\begin{bmatrix}\n",
    "x\\\\\n",
    "y\\\\\n",
    "z\n",
    "\\end{bmatrix}=\\begin{bmatrix}\n",
    "4\\\\\n",
    "3\\\\\n",
    "0\n",
    "\\end{bmatrix}\n",
    "$$\n",
    "\n",
    "El módulo de álgebra lineal de Numpy puede afrontar estos típicos problemas de Facebook."
   ]
  },
  {
   "cell_type": "code",
   "execution_count": 70,
   "metadata": {
    "collapsed": true
   },
   "outputs": [],
   "source": [
    "a=np.array([[3,1,1],[2,0,1],[6,4,3]])\n",
    "b=np.array([4,3,0])"
   ]
  },
  {
   "cell_type": "code",
   "execution_count": 72,
   "metadata": {
    "collapsed": false
   },
   "outputs": [
    {
     "name": "stdout",
     "output_type": "stream",
     "text": [
      "[ 3.25 -2.25 -3.5 ]\n"
     ]
    }
   ],
   "source": [
    "m=np.linalg.solve(a,b)\n",
    "print(m)"
   ]
  },
  {
   "cell_type": "code",
   "execution_count": 73,
   "metadata": {
    "collapsed": false
   },
   "outputs": [
    {
     "name": "stdout",
     "output_type": "stream",
     "text": [
      "[4. 3. 0.]\n"
     ]
    }
   ],
   "source": [
    "print(a @ m)"
   ]
  }
 ],
 "metadata": {
  "anaconda-cloud": {},
  "kernelspec": {
   "display_name": "Python [anaconda3]",
   "language": "python",
   "name": "Python [anaconda3]"
  },
  "language_info": {
   "codemirror_mode": {
    "name": "ipython",
    "version": 3
   },
   "file_extension": ".py",
   "mimetype": "text/x-python",
   "name": "python",
   "nbconvert_exporter": "python",
   "pygments_lexer": "ipython3",
   "version": "3.5.2"
  }
 },
 "nbformat": 4,
 "nbformat_minor": 0
}
