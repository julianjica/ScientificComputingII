{
 "cells": [
  {
   "cell_type": "markdown",
   "metadata": {},
   "source": [
    "# Scipy #\n",
    "Por sus siglas: Scientific Python es una de las librerías más importantes cuando se desea hacer cálculos complejos, optimizar, calcular integrales, entre otras cosas. Además, posee una gran base de datos de constantes científicas, por lo que vale la pena echarle un vistazo. Primero abarquemos el módulo dedicado a realizar integrales."
   ]
  },
  {
   "cell_type": "markdown",
   "metadata": {},
   "source": [
    "## Integrales ##\n",
    "Scipy es la opción cuando Sympy no puede calcular numéricamente alguna integral. ¿Recuerda la integral definida\n",
    "\n",
    "$$\\int_0^{\\pi/8}\\sqrt{\\tan(x)}dx$$\n",
    "\n",
    "que no podíamos hacer con Sympy? intentemos calcular su valor numérico a través de Scipy."
   ]
  },
  {
   "cell_type": "code",
   "execution_count": null,
   "metadata": {
    "collapsed": true
   },
   "outputs": [],
   "source": [
    "from scipy import integrate"
   ]
  },
  {
   "cell_type": "markdown",
   "metadata": {},
   "source": [
    "Necesitamos la función tangente, y a $\\pi$:"
   ]
  },
  {
   "cell_type": "code",
   "execution_count": null,
   "metadata": {
    "collapsed": true
   },
   "outputs": [],
   "source": [
    "from numpy import tan, pi, e "
   ]
  },
  {
   "cell_type": "markdown",
   "metadata": {},
   "source": [
    "Definamos ahora la función que queremos integrar, como una función."
   ]
  },
  {
   "cell_type": "code",
   "execution_count": null,
   "metadata": {
    "collapsed": false
   },
   "outputs": [],
   "source": [
    "def tanRoot(x):\n",
    "    return tan(x)**.5"
   ]
  },
  {
   "cell_type": "markdown",
   "metadata": {},
   "source": [
    "Por supuesto, hay varios métodos numéricos disponibles para realizar una integración. Nosotros usaremos cuadraturas. El método es una réplica de una técnica de la librería de Fortran llamada QUADPACK."
   ]
  },
  {
   "cell_type": "code",
   "execution_count": null,
   "metadata": {
    "collapsed": false
   },
   "outputs": [],
   "source": [
    "result, error=integrate.quad(tanRoot, 0, pi/8.)"
   ]
  },
  {
   "cell_type": "code",
   "execution_count": null,
   "metadata": {
    "collapsed": false
   },
   "outputs": [],
   "source": [
    "print(\"La integral da %s +- %s\"%(result, error)) #Casting explícito"
   ]
  },
  {
   "cell_type": "markdown",
   "metadata": {},
   "source": [
    "La naturaleza del método numérico siempre involucra algún error, aunque la antiderivada del integrando sea elemental."
   ]
  },
  {
   "cell_type": "code",
   "execution_count": null,
   "metadata": {
    "collapsed": true
   },
   "outputs": [],
   "source": [
    "result, error=integrate.quad(lambda x: x**2, 0, 2)"
   ]
  },
  {
   "cell_type": "code",
   "execution_count": null,
   "metadata": {
    "collapsed": false
   },
   "outputs": [],
   "source": [
    "print(\"La integral da %s +- %s\"%(result, error))"
   ]
  },
  {
   "cell_type": "markdown",
   "metadata": {},
   "source": [
    "Claro, uno usa métodos numéricos cuando la integral es muy complicada de calcular, o peor aún, no tiene antiderivada en términos de funciones elementales."
   ]
  },
  {
   "cell_type": "code",
   "execution_count": null,
   "metadata": {
    "collapsed": true
   },
   "outputs": [],
   "source": [
    "result, error=integrate.quad(lambda x: e**(-x**2), 0, 6)"
   ]
  },
  {
   "cell_type": "code",
   "execution_count": null,
   "metadata": {
    "collapsed": false
   },
   "outputs": [],
   "source": [
    "print(\"La integral da %s +- %s\"%(result, error))"
   ]
  },
  {
   "cell_type": "markdown",
   "metadata": {},
   "source": [
    "Hora de involucrar el infinito. A través de un cambio de variable Scipy es capaz de calcular integrales impropias."
   ]
  },
  {
   "cell_type": "code",
   "execution_count": null,
   "metadata": {
    "collapsed": true
   },
   "outputs": [],
   "source": [
    "from numpy import inf"
   ]
  },
  {
   "cell_type": "markdown",
   "metadata": {},
   "source": [
    "### Función Gamma ###\n",
    "$$\\Gamma(x)=\\int_0^{\\infty} t^{x-1}e^{-t}dt, x>0$$"
   ]
  },
  {
   "cell_type": "code",
   "execution_count": null,
   "metadata": {
    "collapsed": true
   },
   "outputs": [],
   "source": [
    "def gamma(x,t):\n",
    "    return t**(x-1)*e**(-t)"
   ]
  },
  {
   "cell_type": "code",
   "execution_count": null,
   "metadata": {
    "collapsed": false
   },
   "outputs": [],
   "source": [
    "for x in range(1,11):\n",
    "    result, error=integrate.quad(lambda t: gamma(x, t), 0, inf) #lambda empieza a ser útil\n",
    "    print(\"%s +- %s\"%(result, error))"
   ]
  },
  {
   "cell_type": "markdown",
   "metadata": {},
   "source": [
    "¿Les suena esta secuencia?"
   ]
  },
  {
   "cell_type": "markdown",
   "metadata": {},
   "source": [
    "Una gráfica de Gamma nunca sobra."
   ]
  },
  {
   "cell_type": "code",
   "execution_count": null,
   "metadata": {
    "collapsed": true
   },
   "outputs": [],
   "source": [
    "import matplotlib.pyplot as plt\n",
    "import numpy as np"
   ]
  },
  {
   "cell_type": "code",
   "execution_count": null,
   "metadata": {
    "collapsed": true
   },
   "outputs": [],
   "source": [
    "%matplotlib inline"
   ]
  },
  {
   "cell_type": "code",
   "execution_count": null,
   "metadata": {
    "collapsed": false
   },
   "outputs": [],
   "source": [
    "x=np.linspace(1,10)\n",
    "y=[]\n",
    "err=[]\n",
    "\n",
    "#Separamos resultados y errores\n",
    "for z in x:\n",
    "    result, error=integrate.quad(lambda t: gamma(z, t), 0, inf)\n",
    "    y.append(result)\n",
    "    err.append(error)\n",
    "    \n",
    "y, err=np.array(y), np.array(err)"
   ]
  },
  {
   "cell_type": "code",
   "execution_count": null,
   "metadata": {
    "collapsed": false
   },
   "outputs": [],
   "source": [
    "plt.errorbar(x,y, yerr=err, marker=\".\")"
   ]
  },
  {
   "cell_type": "markdown",
   "metadata": {},
   "source": [
    "¿Y el error?"
   ]
  },
  {
   "cell_type": "markdown",
   "metadata": {},
   "source": [
    "## Derivadas ##\n",
    "Ahora probemos a calcular numéricamente algunas derivadas, a partir de diferencias centrales."
   ]
  },
  {
   "cell_type": "code",
   "execution_count": null,
   "metadata": {
    "collapsed": true
   },
   "outputs": [],
   "source": [
    "from scipy.misc import derivative"
   ]
  },
  {
   "cell_type": "code",
   "execution_count": null,
   "metadata": {
    "collapsed": false
   },
   "outputs": [],
   "source": [
    "derivative(lambda x: x**3, 3.0, dx=1e-3)"
   ]
  },
  {
   "cell_type": "markdown",
   "metadata": {},
   "source": [
    "La sintaxis es la siguiente\n",
    "```python\n",
    "derivative(funcion, punto_a_evaluar, dx=espaciamiento, n=orden_derivada,\n",
    "            order=cantidad_de_puntos) #Por defecto orden_derivada es 1\n",
    "```"
   ]
  },
  {
   "cell_type": "code",
   "execution_count": null,
   "metadata": {
    "collapsed": false
   },
   "outputs": [],
   "source": [
    "derivative(lambda x: x**3, 3.0, dx=1e-3, n=2, order=5)"
   ]
  },
  {
   "cell_type": "markdown",
   "metadata": {},
   "source": [
    "## Optimización ##\n",
    "\n",
    "Buena parte de la matemática aplicada se basa en encontrar los valores que maximizan o minimizan una función bajo ciertas restricciones. Veamos cómo se hace a través de Scipy."
   ]
  },
  {
   "cell_type": "code",
   "execution_count": null,
   "metadata": {
    "collapsed": true
   },
   "outputs": [],
   "source": [
    "from scipy import optimize"
   ]
  },
  {
   "cell_type": "markdown",
   "metadata": {},
   "source": [
    "Como ejercicio práctico, veamos cuándo \n",
    "$$sin(x)=x^2$$\n",
    "para $0<x<\\pi$. Gráficamente:"
   ]
  },
  {
   "cell_type": "code",
   "execution_count": null,
   "metadata": {
    "collapsed": false
   },
   "outputs": [],
   "source": [
    "x=np.linspace(0,pi/3, endpoint=False)\n",
    "\n",
    "plt.plot(x,x**2, label=r\"$x^2$\")\n",
    "plt.plot(x, np.sin(x), label=r\"$\\sin(x)$\")\n",
    "plt.legend()"
   ]
  },
  {
   "cell_type": "markdown",
   "metadata": {},
   "source": [
    "Resulta claro que queremos minimizar la función:"
   ]
  },
  {
   "cell_type": "code",
   "execution_count": null,
   "metadata": {
    "collapsed": true
   },
   "outputs": [],
   "source": [
    "def candidate(x):\n",
    "    return abs(x**2-np.sin(x))"
   ]
  },
  {
   "cell_type": "markdown",
   "metadata": {},
   "source": [
    "Y para ello hacemos:"
   ]
  },
  {
   "cell_type": "code",
   "execution_count": null,
   "metadata": {
    "collapsed": false
   },
   "outputs": [],
   "source": [
    "x_min = optimize.fmin(candidate, x0=4.) #x0 es el candidato inicial. Donde empieza el proceso.\n",
    "#Debe elegirse sabiamente, porque\n",
    "x_min_alt = optimize.fmin(candidate, x0=-1) "
   ]
  },
  {
   "cell_type": "code",
   "execution_count": null,
   "metadata": {
    "collapsed": false
   },
   "outputs": [],
   "source": [
    "x_min"
   ]
  },
  {
   "cell_type": "code",
   "execution_count": null,
   "metadata": {
    "collapsed": false
   },
   "outputs": [],
   "source": [
    "x_min_alt"
   ]
  },
  {
   "cell_type": "code",
   "execution_count": null,
   "metadata": {
    "collapsed": false
   },
   "outputs": [],
   "source": [
    "x=np.linspace(0,pi/3, endpoint=False)\n",
    "\n",
    "plt.plot(x,x**2, label=r\"$x^2$\")\n",
    "plt.plot(x, np.sin(x), label=r\"$\\sin(x)$\")\n",
    "plt.scatter(x_min, x_min**2)\n",
    "plt.legend()"
   ]
  },
  {
   "cell_type": "markdown",
   "metadata": {},
   "source": [
    "Para calcular el máximo, se puede multiplicar por menos la función, para transformar el problema en uno de minimización. Se pueden calcular puntos fijos usando `optimize.fixed_point`"
   ]
  },
  {
   "cell_type": "markdown",
   "metadata": {},
   "source": [
    "## Modelos ##\n",
    "Uno a veces tiene una idea de cuál debe ser la función que recrea un conjunto de datos, pero necesita calibrar algunas constantes del modelo. La manera más común de resolver estos problemas es a través de una función error y el método de mínimos cuadrados, siempre y cuando uno espere un modelo lineal. Ejemplifiquemos ésto calculando explícitamente algo, y viendo si, al sumarle algún error y usando el método de mínimos cuadrados llegamos a lo mismo."
   ]
  },
  {
   "cell_type": "code",
   "execution_count": null,
   "metadata": {
    "collapsed": true
   },
   "outputs": [],
   "source": [
    "def real(p, x):\n",
    "    m,b=p\n",
    "    return m*x+b\n",
    "\n",
    "def error(p, x, y, sigma):\n",
    "    return abs(y - real(p, x))/sigma #Mientras mayor el error, menor importará lo alejado que esté el modelo"
   ]
  },
  {
   "cell_type": "code",
   "execution_count": null,
   "metadata": {
    "collapsed": true
   },
   "outputs": [],
   "source": [
    "import matplotlib\n",
    "matplotlib.rcParams.update({\"errorbar.capsize\":2}) #Le ponemos gorrito a las barras de error"
   ]
  },
  {
   "cell_type": "code",
   "execution_count": null,
   "metadata": {
    "collapsed": false
   },
   "outputs": [],
   "source": [
    "valores_reales = [5, 11.]\n",
    "\n",
    "f=plt.figure(figsize=(8,8))\n",
    "\n",
    "x = np.sort(np.random.uniform(0., 100., size=100)) #muestra aleatoria de datos\n",
    "sigma = np.random.uniform(15, 30, size=100) #Y de errores\n",
    "y = real(valores_reales, x) + np.random.normal(0., sigma) #Le metemos error a los datos\n",
    "\n",
    "plt.errorbar(x, y, yerr=sigma, marker=\".\", linestyle='none')"
   ]
  },
  {
   "cell_type": "markdown",
   "metadata": {},
   "source": [
    "Usemos el método de mínimos cuadrados."
   ]
  },
  {
   "cell_type": "code",
   "execution_count": null,
   "metadata": {
    "collapsed": false
   },
   "outputs": [],
   "source": [
    "fit, ier = optimize.leastsq(error, x0=[1.,0.], args=(x, y, sigma))\n",
    "print(ier) #Nos dice si converge o no\n",
    "print(fit)"
   ]
  },
  {
   "cell_type": "code",
   "execution_count": null,
   "metadata": {
    "collapsed": false
   },
   "outputs": [],
   "source": [
    "f=plt.figure(figsize=(10,8))\n",
    "\n",
    "plt.errorbar(x, y, yerr=sigma, marker=\".\", linestyle='none')\n",
    "plt.plot(x, real(valores_reales, x), marker=None, label=\"Recta Real\")\n",
    "plt.plot(x, real(fit, x), marker=None, label=\"Recta por mínimos cuadrados\")\n",
    "plt.legend()"
   ]
  },
  {
   "cell_type": "markdown",
   "metadata": {},
   "source": [
    "Por supuesto, no todo en la vida son modelos lineales. Cuando se tiene la idea de la función que aproxima los datos, pero no algunas constantes, se usa `optimize.curvefit`. Ilustrémoslo a través de un ejemplo."
   ]
  },
  {
   "cell_type": "code",
   "execution_count": null,
   "metadata": {
    "collapsed": true
   },
   "outputs": [],
   "source": [
    "def curva(x, a, b):\n",
    "    return x**b*e**(a*x)"
   ]
  },
  {
   "cell_type": "code",
   "execution_count": null,
   "metadata": {
    "collapsed": false
   },
   "outputs": [],
   "source": [
    "a_real, b_real=2, 3\n",
    "x=np.linspace(1,10)\n",
    "y=curva(x, a_real, b_real)\n",
    "\n",
    "popt, pcov = optimize.curve_fit(curva, x, y) #optimización, covarianza"
   ]
  },
  {
   "cell_type": "code",
   "execution_count": null,
   "metadata": {
    "collapsed": false
   },
   "outputs": [],
   "source": [
    "popt"
   ]
  },
  {
   "cell_type": "code",
   "execution_count": null,
   "metadata": {
    "collapsed": false
   },
   "outputs": [],
   "source": [
    "plt.plot(x,y)"
   ]
  },
  {
   "cell_type": "markdown",
   "metadata": {},
   "source": [
    "Un ejemplo más:"
   ]
  },
  {
   "cell_type": "code",
   "execution_count": null,
   "metadata": {
    "collapsed": true
   },
   "outputs": [],
   "source": [
    "def curva(x, a, b):\n",
    "    return a*np.sinh(x)+b*np.cosh(x)"
   ]
  },
  {
   "cell_type": "code",
   "execution_count": null,
   "metadata": {
    "collapsed": true
   },
   "outputs": [],
   "source": [
    "x=np.linspace(1,10)\n",
    "y=curva(x, a_real, b_real)\n",
    "\n",
    "popt, pcov = optimize.curve_fit(curva, x, y) #optimización, covarianza"
   ]
  },
  {
   "cell_type": "code",
   "execution_count": null,
   "metadata": {
    "collapsed": false
   },
   "outputs": [],
   "source": [
    "plt.plot(x, y, label=\"Curva Real\")\n",
    "plt.plot(x, curva(x, popt[0], popt[1]), \"r--\",label=\"Curva aproximada\")\n",
    "plt.legend()"
   ]
  },
  {
   "cell_type": "code",
   "execution_count": null,
   "metadata": {
    "collapsed": false
   },
   "outputs": [],
   "source": [
    "popt"
   ]
  },
  {
   "cell_type": "markdown",
   "metadata": {},
   "source": [
    "## Interpolación ##\n",
    "Una última forma de recrear datos es la interpolación: encontrar el polinomio que pasa por un conjunto de puntos. En general se necesita un polinomio de grado $n-1$ para pasar por $n$ puntos, pero conviene usar el menor grado posible, para evitar cambios de concavidad y el aumento innecesario de la complejidad de un modelo. \n",
    "\n",
    "Scipy posee una sublibrería llamada `interpolation` dedicada a ésto, pero a mi parecer, es más intuitivo usar `polyfit` de Numpy."
   ]
  },
  {
   "cell_type": "code",
   "execution_count": null,
   "metadata": {
    "collapsed": true
   },
   "outputs": [],
   "source": [
    "from numpy import polyfit"
   ]
  },
  {
   "cell_type": "code",
   "execution_count": null,
   "metadata": {
    "collapsed": true
   },
   "outputs": [],
   "source": [
    "x=np.linspace(1,10,10)\n",
    "y=x**5+3*x**4+6*x**3-x**2+1"
   ]
  },
  {
   "cell_type": "code",
   "execution_count": null,
   "metadata": {
    "collapsed": false
   },
   "outputs": [],
   "source": [
    "plt.scatter(x,y)"
   ]
  },
  {
   "cell_type": "code",
   "execution_count": null,
   "metadata": {
    "collapsed": true
   },
   "outputs": [],
   "source": [
    "P=polyfit(x,y, 5) #5 es el grado del polinomio interpolador\n",
    "P3=polyfit(x,y, 3)\n",
    "P1=polyfit(x,y, 1)"
   ]
  },
  {
   "cell_type": "code",
   "execution_count": null,
   "metadata": {
    "collapsed": false
   },
   "outputs": [],
   "source": [
    "print(\"Los coeficientes del polinomio de grado 5 son\")\n",
    "P"
   ]
  },
  {
   "cell_type": "markdown",
   "metadata": {},
   "source": [
    "Para trabajar con estos coeficientes, usamos"
   ]
  },
  {
   "cell_type": "code",
   "execution_count": null,
   "metadata": {
    "collapsed": false
   },
   "outputs": [],
   "source": [
    "p = np.poly1d(P)\n",
    "p1 = np.poly1d(P1)\n",
    "p3= np.poly1d(P3)"
   ]
  },
  {
   "cell_type": "markdown",
   "metadata": {},
   "source": [
    "Que convierte `p` en una función que evalúa algún `x` según los coeficientes del polinomio."
   ]
  },
  {
   "cell_type": "code",
   "execution_count": null,
   "metadata": {
    "collapsed": false
   },
   "outputs": [],
   "source": [
    "f=plt.figure(figsize=(10,8))\n",
    "\n",
    "xarr=np.linspace(1,10)\n",
    "plt.scatter(x,y, label=\"Datos\")\n",
    "plt.plot(xarr, p(xarr), label=\"Interpolación grado 5\")\n",
    "plt.plot(xarr, p3(xarr), label=\"Interpolación grado 3\")\n",
    "plt.plot(xarr, p1(xarr), label=\"Interpolación grado 1\")\n",
    "\n",
    "plt.legend()\n",
    "plt.show()"
   ]
  },
  {
   "cell_type": "markdown",
   "metadata": {},
   "source": [
    "## Constantes Científicas ##\n",
    "Como se comentó, Scipy tiene varias constantes físicas relevantes en la librería `constants`. A continuación la lista de ellas:"
   ]
  },
  {
   "cell_type": "code",
   "execution_count": null,
   "metadata": {
    "collapsed": true
   },
   "outputs": [],
   "source": [
    "from scipy import constants"
   ]
  },
  {
   "cell_type": "code",
   "execution_count": null,
   "metadata": {
    "collapsed": false
   },
   "outputs": [],
   "source": [
    "constants.__all__"
   ]
  },
  {
   "cell_type": "markdown",
   "metadata": {},
   "source": [
    "Este es un diccionario de constantes físicas:"
   ]
  },
  {
   "cell_type": "code",
   "execution_count": null,
   "metadata": {
    "collapsed": false
   },
   "outputs": [],
   "source": [
    "d=constants.physical_constants\n",
    "for x in d:\n",
    "    print(x)"
   ]
  }
 ],
 "metadata": {
  "anaconda-cloud": {},
  "kernelspec": {
   "display_name": "Python [anaconda3]",
   "language": "python",
   "name": "Python [anaconda3]"
  },
  "language_info": {
   "codemirror_mode": {
    "name": "ipython",
    "version": 3
   },
   "file_extension": ".py",
   "mimetype": "text/x-python",
   "name": "python",
   "nbconvert_exporter": "python",
   "pygments_lexer": "ipython3",
   "version": "3.5.2"
  }
 },
 "nbformat": 4,
 "nbformat_minor": 0
}
