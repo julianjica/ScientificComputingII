{
 "cells": [
  {
   "cell_type": "markdown",
   "metadata": {},
   "source": [
    "# Fácil #"
   ]
  },
  {
   "cell_type": "markdown",
   "metadata": {},
   "source": [
    "1) Usando los arreglos de Numpy y los booleanos, muestre en pantalla todos los números impares de 1 a 3000."
   ]
  },
  {
   "cell_type": "code",
   "execution_count": null,
   "metadata": {
    "collapsed": true
   },
   "outputs": [],
   "source": []
  },
  {
   "cell_type": "markdown",
   "metadata": {},
   "source": [
    "2) Lance seis dados de seis caras, un montón de veces. ¿Numéricamente cuál es la probabilidad de que dos o más dados den el mismo número? Si lanza siete dados de seis caras, ¿Cuál es la probabilidad de que dos de ellos marquen caigan den el mismo número?"
   ]
  },
  {
   "cell_type": "code",
   "execution_count": null,
   "metadata": {
    "collapsed": true
   },
   "outputs": [],
   "source": []
  },
  {
   "cell_type": "markdown",
   "metadata": {},
   "source": [
    "3) Haga el producto punto entre dos arreglos unidimensionales de números."
   ]
  },
  {
   "cell_type": "code",
   "execution_count": null,
   "metadata": {
    "collapsed": true
   },
   "outputs": [],
   "source": []
  },
  {
   "cell_type": "markdown",
   "metadata": {},
   "source": [
    "4) Pregunta conceptual: ¿Es posible hacer arreglos de cadenas en Numpy? Si no lo es, ¿Por qué no es posible?"
   ]
  },
  {
   "cell_type": "code",
   "execution_count": null,
   "metadata": {
    "collapsed": true
   },
   "outputs": [],
   "source": []
  },
  {
   "cell_type": "markdown",
   "metadata": {},
   "source": [
    "5) Separe los cuadrados perfectos del siguiente arreglo."
   ]
  },
  {
   "cell_type": "code",
   "execution_count": null,
   "metadata": {
    "collapsed": true
   },
   "outputs": [],
   "source": [
    "a=np.array([4,5,7,49,34,36,21,16,101,121,169,100,82,33,81,64])"
   ]
  },
  {
   "cell_type": "markdown",
   "metadata": {},
   "source": [
    "# Intermedio #"
   ]
  },
  {
   "cell_type": "markdown",
   "metadata": {},
   "source": [
    "1) Una manera de aproximar $\\pi$ es mediante el método de Montecarlo, que usa números aleatorios. Suponga que lanza muchísimos dardos de manera aleatoria a la siguiente diana:\n",
    "![Diana](circle.png)\n",
    "El cociente entre los dardos que caen dentro del círculo y el total de dados que lanzó debería ser igual en el infinito al cociente entre las respectivas áreas. Si la longitud del lado del cuadrado es 1, procure aproximar $\\pi$ a sus primeras 4 cifras decimales."
   ]
  },
  {
   "cell_type": "code",
   "execution_count": null,
   "metadata": {
    "collapsed": true
   },
   "outputs": [],
   "source": []
  },
  {
   "cell_type": "markdown",
   "metadata": {},
   "source": [
    "2) Revise la documentación de `numpy.roots` https://docs.scipy.org/doc/numpy/reference/generated/numpy.roots.html. Haga un programa que reciba los coeficientes de un polinomio arbitrario y calcule sus raíces."
   ]
  },
  {
   "cell_type": "code",
   "execution_count": null,
   "metadata": {
    "collapsed": true
   },
   "outputs": [],
   "source": []
  },
  {
   "cell_type": "markdown",
   "metadata": {},
   "source": [
    "3) Haga un programa que resuelva un sistema de ecuaciones lineal suministrado por el usuario."
   ]
  },
  {
   "cell_type": "code",
   "execution_count": null,
   "metadata": {
    "collapsed": true
   },
   "outputs": [],
   "source": []
  },
  {
   "cell_type": "markdown",
   "metadata": {},
   "source": [
    "# Difícil #"
   ]
  },
  {
   "cell_type": "markdown",
   "metadata": {},
   "source": [
    "1) ¿Recuerda el método de Montecarlo en el punto 1 intermedio? Intente hacer un programa que calcule la integral definida\n",
    "\n",
    "$$\\int_1^2 f(x) dx$$\n",
    "donde $f\\geq 0$ es una función de variable real dada por el usuario. Use el mismo principio de corresponder el área de un cuadrado con el área dada por la función."
   ]
  },
  {
   "cell_type": "code",
   "execution_count": null,
   "metadata": {
    "collapsed": true
   },
   "outputs": [],
   "source": []
  },
  {
   "cell_type": "markdown",
   "metadata": {},
   "source": [
    "2) La información del archivo prueba23ago1.txt refiere a una medición hecha por el semillero de Talentos de la Facultad de Matemáticas de la Konrad Lorenz, correspondiente a la intensidad de ondas de radio emitidas por el sol en cierta región del espectro, 2014. Los datos en cuestión están en la tercera columna. Verifique a través de intervalos que los datos se ajustan a una campana de Gauss."
   ]
  },
  {
   "cell_type": "code",
   "execution_count": null,
   "metadata": {
    "collapsed": true
   },
   "outputs": [],
   "source": []
  },
  {
   "cell_type": "markdown",
   "metadata": {},
   "source": [
    "3) Mi compañero de termodinámica es amante de excel. Siempre guarda los datos de nuestros experimentos en xlsx. En Lab 1.xlsx tenemos que determinar que el comportamiento del potencial del termistor al aumentar la temperatura es lineal. ¿Nos ayudan?"
   ]
  },
  {
   "cell_type": "code",
   "execution_count": null,
   "metadata": {
    "collapsed": true
   },
   "outputs": [],
   "source": []
  }
 ],
 "metadata": {
  "kernelspec": {
   "display_name": "Python [anaconda3]",
   "language": "python",
   "name": "Python [anaconda3]"
  },
  "language_info": {
   "codemirror_mode": {
    "name": "ipython",
    "version": 3
   },
   "file_extension": ".py",
   "mimetype": "text/x-python",
   "name": "python",
   "nbconvert_exporter": "python",
   "pygments_lexer": "ipython3",
   "version": "3.5.2"
  }
 },
 "nbformat": 4,
 "nbformat_minor": 0
}
