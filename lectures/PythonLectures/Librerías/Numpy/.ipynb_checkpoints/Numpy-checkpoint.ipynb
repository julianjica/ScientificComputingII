{
 "cells": [
  {
   "cell_type": "markdown",
   "metadata": {},
   "source": [
    "# Numpy #\n",
    "Es quizá la librería más importante de Python afín a la computación científica, pero su utilidad no radica en este campo únicamente. Tiene funciones muy importantes en lo que respecta a análisis de archivos de texto, excel, entre otros. Además, sirve para llevar a otro nivel la matemática en la programación."
   ]
  },
  {
   "cell_type": "code",
   "execution_count": null,
   "metadata": {
    "collapsed": true
   },
   "outputs": [],
   "source": [
    "import numpy as np"
   ]
  },
  {
   "cell_type": "markdown",
   "metadata": {},
   "source": [
    "## Arreglos ##\n",
    "El objeto más importante de Numpy es el arreglo multidimensional. Es como una lista, pero sólo puede tener un tipo de dato dentro y no se puede alterar su tamaño, como si fuera un arreglo de algún lenguaje de bajo nivel."
   ]
  },
  {
   "cell_type": "code",
   "execution_count": null,
   "metadata": {
    "collapsed": true
   },
   "outputs": [],
   "source": [
    "a=np.array([1,2,3,4])\n",
    "b=np.array([[1,2,3,4],[5,6,7,8],[9,10,11,12],[13,14,15,16]])"
   ]
  },
  {
   "cell_type": "markdown",
   "metadata": {},
   "source": [
    "Los arreglos se comportan de manera distinta que las listas, como por ejemplo:"
   ]
  },
  {
   "cell_type": "code",
   "execution_count": null,
   "metadata": {
    "collapsed": false
   },
   "outputs": [],
   "source": [
    "print(\"Se multiplican todos los elementos por 3, en vez de concatenar tres veces\")\n",
    "print(3*a) \n",
    "\n",
    "print(\"Se multiplica cada fila de la matriz por el vector a\")\n",
    "print(a*b)\n",
    "\n",
    "print(\"Se eleva cada elemento de los arreglos al cuadrado\")\n",
    "print(a**2, a*a)"
   ]
  },
  {
   "cell_type": "markdown",
   "metadata": {},
   "source": [
    "Es posible \"deformar\" un arreglo para cambiar su \"forma\". Por ejemplo:"
   ]
  },
  {
   "cell_type": "code",
   "execution_count": null,
   "metadata": {
    "collapsed": false
   },
   "outputs": [],
   "source": [
    "print(a.reshape(2,2))\n",
    "print(b.reshape(2,8))"
   ]
  },
  {
   "cell_type": "markdown",
   "metadata": {},
   "source": [
    "La forma de un arreglo de *numpy* se puede determinar mediante la instrucción:\n",
    "```python\n",
    "a.shape\n",
    "```\n",
    "y para saber la dimensión (cantidad de listas anidadas), se usa\n",
    "```python\n",
    "a.ndim\n",
    "```"
   ]
  },
  {
   "cell_type": "code",
   "execution_count": null,
   "metadata": {
    "collapsed": false
   },
   "outputs": [],
   "source": [
    "c=np.array([1])\n",
    "print(c.ndim)\n",
    "\n",
    "c=np.array([[1]])\n",
    "print(c.ndim)\n",
    "\n",
    "c=np.array([[[1]]])\n",
    "print(c.ndim)"
   ]
  },
  {
   "cell_type": "markdown",
   "metadata": {},
   "source": [
    "Para saber el número total de elementos en un arreglo, se usa\n",
    "```python\n",
    "a.size\n",
    "```"
   ]
  },
  {
   "cell_type": "markdown",
   "metadata": {},
   "source": [
    "A pesar de que no se puede modificar el tamaño de un arreglo, se puede modificar su contenido del mismo modo a como se haría con una lista"
   ]
  },
  {
   "cell_type": "code",
   "execution_count": null,
   "metadata": {
    "collapsed": false
   },
   "outputs": [],
   "source": [
    "m=np.array([2,3,4,5], dtype=int) #Se le ingresa como kwarg el tipo de dato dentro del arreglo\n",
    "m[2]=60\n",
    "print(m)"
   ]
  },
  {
   "cell_type": "markdown",
   "metadata": {},
   "source": [
    "## Booleanos y arreglos ##\n",
    "Los arreglos de Numpy son muy versátiles trabajando con booleanos."
   ]
  },
  {
   "cell_type": "code",
   "execution_count": null,
   "metadata": {
    "collapsed": false
   },
   "outputs": [],
   "source": [
    "a=np.arange(3,10)\n",
    "print(a>5)"
   ]
  },
  {
   "cell_type": "markdown",
   "metadata": {},
   "source": [
    "Podemos usar una condición para seleccionar elementos de un arreglo"
   ]
  },
  {
   "cell_type": "code",
   "execution_count": null,
   "metadata": {
    "collapsed": false
   },
   "outputs": [],
   "source": [
    "# \"|\" simboliza or, \"&\" simboliza and\n",
    "print(a[(a%2==0) | (a>5)]) "
   ]
  },
  {
   "cell_type": "markdown",
   "metadata": {},
   "source": [
    "El código anterior implica de fondo que los booleanos se pueden usar como índices de un arreglo"
   ]
  },
  {
   "cell_type": "code",
   "execution_count": null,
   "metadata": {
    "collapsed": false
   },
   "outputs": [],
   "source": [
    "print(a[np.array([True,True,False,False,False,True,True])])"
   ]
  },
  {
   "cell_type": "markdown",
   "metadata": {},
   "source": [
    "## Arreglos \"vacíos\" y/o útiles ##\n",
    "Generalmente no se sabe la información que debe contener un arreglo, por lo que se desea crear un arreglo provisional, y llenarlo más adelante. También puede que se necesite alguno de los arreglos mencionados a continuación. "
   ]
  },
  {
   "cell_type": "code",
   "execution_count": null,
   "metadata": {
    "collapsed": false
   },
   "outputs": [],
   "source": [
    "a=np.empty((5,6,6)) #Arreglo con información arbitraria, de \"forma\" (5,6,6)\n",
    "b=np.zeros((2,2), dtype=complex) #Arreglo de ceros complejos, de \"forma\" (2,2)\n",
    "c=np.ones((1,2), dtype=float) #Arreglo de unos flotantes, de \"forma\" (1,2)"
   ]
  },
  {
   "cell_type": "code",
   "execution_count": null,
   "metadata": {
    "collapsed": false
   },
   "outputs": [],
   "source": [
    "print(a)"
   ]
  },
  {
   "cell_type": "code",
   "execution_count": null,
   "metadata": {
    "collapsed": false
   },
   "outputs": [],
   "source": [
    "print(b)"
   ]
  },
  {
   "cell_type": "code",
   "execution_count": null,
   "metadata": {
    "collapsed": false
   },
   "outputs": [],
   "source": [
    "print(c)"
   ]
  },
  {
   "cell_type": "markdown",
   "metadata": {},
   "source": [
    "*arange* recrea `range`, pero en vez de generar un objeto `range` genera un arreglo de numpy. *linspace* es útil cuando se desea hacer una partición equispaciada de tamaño n de un intervalo. "
   ]
  },
  {
   "cell_type": "code",
   "execution_count": null,
   "metadata": {
    "collapsed": false
   },
   "outputs": [],
   "source": [
    "a=np.arange(2,7,3)\n",
    "b=np.linspace(2,8,20)\n",
    "print(a)\n",
    "print(b)"
   ]
  },
  {
   "cell_type": "markdown",
   "metadata": {},
   "source": [
    "## Operaciones matemáticas con arreglos ##\n",
    "Numpy contiene casi todas las funciones, constantes y operaciones matemáticas que conoces. Aplicarlas a arreglos es bastante intuitivo."
   ]
  },
  {
   "cell_type": "code",
   "execution_count": null,
   "metadata": {
    "collapsed": false
   },
   "outputs": [],
   "source": [
    "a=np.array([2,3,4,5,6])\n",
    "b=np.array([8,7,6,5,4])\n",
    "\n",
    "print(np.sin(a))\n",
    "print(b-a)\n",
    "print(np.pi**a)"
   ]
  },
  {
   "cell_type": "markdown",
   "metadata": {},
   "source": [
    "## Álgebra Lineal ##\n",
    "Numpy es bastante sólido en lo que refiere al trabajo con matrices, haciéndole competencia Matlab. Un arreglo se comporta como una matriz cuando se le pide hacerlo."
   ]
  },
  {
   "cell_type": "code",
   "execution_count": null,
   "metadata": {
    "collapsed": false
   },
   "outputs": [],
   "source": [
    "a=np.arange(1,17).reshape(4,4)\n",
    "b=np.identity(4) # La matriz identidad (4x4)\n",
    "c=np.arange(3,17+2).reshape(4,4)\n",
    "d=np.array([2,1,3,4]).reshape(2,2)\n",
    "\n",
    "print(a.dot(b)) #Multiplicamos a con b (matricialmente)"
   ]
  },
  {
   "cell_type": "code",
   "execution_count": null,
   "metadata": {
    "collapsed": false
   },
   "outputs": [],
   "source": [
    "#En general, el producto de matrices no es conmutativo\n",
    "print(\"a*c\")\n",
    "print(a.dot(c))\n",
    "print(\"c*a\")\n",
    "print(c.dot(a))"
   ]
  },
  {
   "cell_type": "code",
   "execution_count": null,
   "metadata": {
    "collapsed": false
   },
   "outputs": [],
   "source": [
    "print(a.transpose()) #La transpuesta de una matriz\n",
    "print(a.trace()) #La traza de una matriz\n",
    "print(np.linalg.inv(d)) #La inversa de una matriz"
   ]
  },
  {
   "cell_type": "code",
   "execution_count": null,
   "metadata": {
    "collapsed": false
   },
   "outputs": [],
   "source": [
    "#En ciertas versiones de Numpy se puede usar @ para denotar la multiplicación matricial\n",
    "print(d @ np.linalg.inv(d))"
   ]
  },
  {
   "cell_type": "code",
   "execution_count": null,
   "metadata": {
    "collapsed": false
   },
   "outputs": [],
   "source": [
    "print(np.linalg.det(a)) #Determinante de la matriz a"
   ]
  },
  {
   "cell_type": "markdown",
   "metadata": {},
   "source": [
    "### Sistemas de ecuaciones lineales ###\n",
    "Suponga que se quiere hallar los valores de $x,y,z$ que satisfacen\n",
    "$$3x+y+z=4$$\n",
    "$$2x+z=3$$\n",
    "$$6x+4y+3z=0$$\n",
    "Este sistema puede verse como un producto de matrices del siguiente modo\n",
    "\n",
    "\n",
    "$$\\begin{bmatrix}\n",
    "    3&1&1 \\\\\n",
    "    2&0&1 \\\\\n",
    "    6&4&3 \n",
    "\\end{bmatrix}\\begin{bmatrix}\n",
    "x\\\\\n",
    "y\\\\\n",
    "z\n",
    "\\end{bmatrix}=\\begin{bmatrix}\n",
    "4\\\\\n",
    "3\\\\\n",
    "0\n",
    "\\end{bmatrix}\n",
    "$$\n",
    "\n",
    "El módulo de álgebra lineal de Numpy puede afrontar estos típicos problemas de Facebook."
   ]
  },
  {
   "cell_type": "code",
   "execution_count": null,
   "metadata": {
    "collapsed": true
   },
   "outputs": [],
   "source": [
    "a=np.array([[3,1,1],[2,0,1],[6,4,3]])\n",
    "b=np.array([4,3,0])"
   ]
  },
  {
   "cell_type": "code",
   "execution_count": null,
   "metadata": {
    "collapsed": false
   },
   "outputs": [],
   "source": [
    "m=np.linalg.solve(a,b)\n",
    "print(m)"
   ]
  },
  {
   "cell_type": "code",
   "execution_count": null,
   "metadata": {
    "collapsed": false
   },
   "outputs": [],
   "source": [
    "print(a @ m)"
   ]
  },
  {
   "cell_type": "markdown",
   "metadata": {},
   "source": [
    "### Autovalores y autovectores ###\n",
    "Si $A$ es una matriz cuadrada, considere la ecuación\n",
    "\n",
    "$$Av=\\lambda v,$$\n",
    "con $v$ un vector y $\\lambda$ un número real o complejo. Todos los vectores y números que satisfagan esta ecuación se conocen como autovectores y autovalores de $A$, respectivamente. Muchos problemas matemáticos requieren conocer estos objetos, como por ejemplo para obtener la solución de un sistema de ecuaciones diferenciales ordinarias, diagonalizar una matriz o calcular la estabilidad de una ecuación diferencial linealizada. "
   ]
  },
  {
   "cell_type": "code",
   "execution_count": null,
   "metadata": {
    "collapsed": false
   },
   "outputs": [],
   "source": [
    "w, v = np.linalg.eig(np.diag((1, 2, 3))) #np.diag((1, 2, 3) es la matriz cuadrada con los elementos 1,2,3 en la diagonal\n",
    "\n",
    "print(w) #w es un arreglo de los autovalores\n",
    "print(v) #v es una matriz con los autovectores"
   ]
  },
  {
   "cell_type": "markdown",
   "metadata": {},
   "source": [
    "## Números aleatorios y probabilidad ##\n",
    "Numpy posee unos métodos dedicados a analizar los números aleatorios y la probabilidad. A continuación, veremos algunas aplicaciones útiles de varios de ellos."
   ]
  },
  {
   "cell_type": "code",
   "execution_count": null,
   "metadata": {
    "collapsed": false
   },
   "outputs": [],
   "source": [
    "random_numbers=np.random.random(size=(10,10)) #Aquí imprimimos números aleatorios\n",
    "#desde 0 hasta 1, y los ponemos en una matriz 10x10.\n",
    "\n",
    "#Seleccionemos todos los números menores o iguales que 0.5:\n",
    "less_or_equal=random_numbers[random_numbers<=0.5]\n",
    "print(less_or_equal)#Note que arroja los resultados en 1darray.\n",
    "\n",
    "\n",
    "print(less_or_equal.size) #¿Cuánto debería dar?"
   ]
  },
  {
   "cell_type": "markdown",
   "metadata": {},
   "source": [
    "Lo anterior fue un ejemplo con números aleatorios uniformes. Numpy tiene un montón de distribuciones para generar números aleatorios. [Aquí](http://docs.scipy.org/doc/numpy/reference/routines.random.html) están todas las soportadas. A continuación un ejemplo con la distribución normal."
   ]
  },
  {
   "cell_type": "code",
   "execution_count": null,
   "metadata": {
    "collapsed": false
   },
   "outputs": [],
   "source": [
    "print(np.random.normal(5, 5, size=(5,5))) #(media, desviación estándar, dimensión)"
   ]
  },
  {
   "cell_type": "markdown",
   "metadata": {},
   "source": [
    "## Redes, mallas ##\n",
    "Una herramienta interesante para la matemática dimensional es el método `meshgrid(a,b)`. Este método hace una correspondencia de todos los elementos de _a_ con todos los de _b_. Así creamos una superficie bidimensional, si los arreglos son unidimensionales. Quizá con un ejemplo quede más claro."
   ]
  },
  {
   "cell_type": "code",
   "execution_count": null,
   "metadata": {
    "collapsed": true
   },
   "outputs": [],
   "source": [
    "a=np.arange(3,6)\n",
    "b=np.arange(9,12)\n",
    "\n",
    "X,Y=np.meshgrid(a,b)"
   ]
  },
  {
   "cell_type": "code",
   "execution_count": null,
   "metadata": {
    "collapsed": false
   },
   "outputs": [],
   "source": [
    "print(X)\n",
    "print(Y)"
   ]
  },
  {
   "cell_type": "markdown",
   "metadata": {},
   "source": [
    "## Arreglos Estructurados ##\n",
    "Lo más similar que se encontrará en Numpy a los diccionarios. Son un tipo de arreglo que admite indexación de sus columnas por cadenas, y sus filas por números, como es usual. Se inicializan de la siguiente manera:"
   ]
  },
  {
   "cell_type": "code",
   "execution_count": null,
   "metadata": {
    "collapsed": true
   },
   "outputs": [],
   "source": [
    "l=[(1, 123, 50.0),(2, 456, 33.3333), (3, 789, 44.8)]\n",
    "m=np.array(l, dtype=[(\"orden\", int), (\"nombre\", int), (\"nota\", float)])"
   ]
  },
  {
   "cell_type": "code",
   "execution_count": null,
   "metadata": {
    "collapsed": false
   },
   "outputs": [],
   "source": [
    "print(m[\"orden\"])\n",
    "print(m[0])"
   ]
  },
  {
   "cell_type": "markdown",
   "metadata": {
    "collapsed": true
   },
   "source": [
    "## Lector de txt ##\n",
    "La manera más sencilla y conveniente de almacenar información es mediante archivos de texto simple (txt). Python es capaz de analizar este tipo de archivos por sí mismo, pero resulta más conveniente hacerlo con Numpy. Dejé en esta carpeta un archivo llamado m67.txt, vamos a verlo, y a analizarlo."
   ]
  },
  {
   "cell_type": "code",
   "execution_count": null,
   "metadata": {
    "collapsed": false
   },
   "outputs": [],
   "source": [
    "m=np.loadtxt(\"m67.txt\", skiprows=1, usecols=range(16), dtype=float) #Saltamos la primera fila y consideramos únicamente\n",
    "#las primeras 16 columnas."
   ]
  },
  {
   "cell_type": "code",
   "execution_count": null,
   "metadata": {
    "collapsed": false
   },
   "outputs": [],
   "source": [
    "#¿Cómo almacena la información este método en m?\n",
    "print(m.shape)"
   ]
  },
  {
   "cell_type": "code",
   "execution_count": null,
   "metadata": {
    "collapsed": false
   },
   "outputs": [],
   "source": [
    "#Accedamos a la ascención recta de las estrellas (columna 1)\n",
    "print(m[:,1]) #Fila, Columna"
   ]
  },
  {
   "cell_type": "code",
   "execution_count": null,
   "metadata": {
    "collapsed": false
   },
   "outputs": [],
   "source": [
    "#Ahora accedamos a la información de la estrella número 12\n",
    "print(m[11,:])"
   ]
  },
  {
   "cell_type": "markdown",
   "metadata": {},
   "source": [
    "Si no se desea toda la información, y se la quiere en arreglos separados, se usa el kwarg unpack. Suponga que sólo se quiere  V     B-V    U-B    V-R    R-I en arreglos distintos, con lo que se usa:"
   ]
  },
  {
   "cell_type": "code",
   "execution_count": null,
   "metadata": {
    "collapsed": false
   },
   "outputs": [],
   "source": [
    "V,B_V,U_B,V_R,R_I=np.loadtxt(\"m67.txt\", skiprows=1, usecols=range(6,11), dtype=float, unpack=True) "
   ]
  },
  {
   "cell_type": "code",
   "execution_count": null,
   "metadata": {
    "collapsed": false
   },
   "outputs": [],
   "source": [
    "#Veamos\n",
    "print(V)"
   ]
  },
  {
   "cell_type": "markdown",
   "metadata": {},
   "source": [
    "## Creador de txt ##\n",
    "Crear documentos de texto simple es tan importante como leerlos, puesto que a veces se hace necesario transmitir el resultado de un código a otro. De nuevo, Python puede hacerlo por sí mismo, pero es mucho más sencillo usar Numpy para esta labor. \n",
    "\n",
    "\n",
    "En este caso, supongamos que queremos organizar las estrellas del catálogo por su índice R-I, siendo la primera la que tiene el menor índice, y la última el mayor. Al final se desea escribir el resultado en un txt llamado resultado.txt"
   ]
  },
  {
   "cell_type": "code",
   "execution_count": null,
   "metadata": {
    "collapsed": false
   },
   "outputs": [],
   "source": [
    "ID, R_I=np.loadtxt(\"m67.txt\", usecols=[0, 10], unpack=True, skiprows=1, dtype=float)\n",
    "R_I"
   ]
  },
  {
   "cell_type": "code",
   "execution_count": null,
   "metadata": {
    "collapsed": false
   },
   "outputs": [],
   "source": [
    "index=np.argsort(R_I) #Nos genera un arreglo con las posiciones de R_I organizado de menor a mayor\n",
    "data=np.vstack((ID[index],R_I[index])) #Hacemos una matriz len(ID)x2, cuyas columnas son ID y R_I"
   ]
  },
  {
   "cell_type": "code",
   "execution_count": null,
   "metadata": {
    "collapsed": false
   },
   "outputs": [],
   "source": [
    "print(data)"
   ]
  },
  {
   "cell_type": "code",
   "execution_count": null,
   "metadata": {
    "collapsed": false
   },
   "outputs": [],
   "source": [
    "#Necesitamos esta matriz transpuesta, para que cada columna se corresponda con ID y R-I\n",
    "data=data.transpose()\n",
    "print(data)"
   ]
  },
  {
   "cell_type": "code",
   "execution_count": null,
   "metadata": {
    "collapsed": false
   },
   "outputs": [],
   "source": [
    "#Y lo colocamos todo en un txt\n",
    "np.savetxt(\"resultado.txt\", data, \"%.3f\", header=\"ID R-I\", comments=\"\") #Header es la primera línea del documento"
   ]
  },
  {
   "cell_type": "markdown",
   "metadata": {},
   "source": [
    "## Anexo: archivos de excel (Pandas) ##\n",
    "Para analizar archivos de formato xlsx se debe usar una librería aparte, pandas. Referencia: https://pandas-docs.github.io/pandas-docs-travis/generated/pandas.read_excel.html"
   ]
  },
  {
   "cell_type": "code",
   "execution_count": null,
   "metadata": {
    "collapsed": true
   },
   "outputs": [],
   "source": [
    "import pandas as pd"
   ]
  },
  {
   "cell_type": "markdown",
   "metadata": {},
   "source": [
    "Primero veamos cómo crear un documento xlsx. Se usará el objeto Dataframe para almacenar la información que será impresa en el documento."
   ]
  },
  {
   "cell_type": "code",
   "execution_count": null,
   "metadata": {
    "collapsed": true
   },
   "outputs": [],
   "source": [
    "#Entendamos la forma en la cual se ingresan los datos:\n",
    "\n",
    "data = pd.DataFrame([(\"Barranquilla\", 1232766, 27.4), (\"Cali\", 2445281, 24),\n",
    "                     (\"Tunja\", 195496, 12.9)], columns=[\"Ciudad\", \"Habitantes\", \"Temperatura media (C)\"])"
   ]
  },
  {
   "cell_type": "code",
   "execution_count": null,
   "metadata": {
    "collapsed": false
   },
   "outputs": [],
   "source": [
    "#Veamos el resultado\n",
    "data"
   ]
  },
  {
   "cell_type": "code",
   "execution_count": null,
   "metadata": {
    "collapsed": true
   },
   "outputs": [],
   "source": [
    "#Y escribámoslo en un xlsx\n",
    "data.to_excel(\"Ciudades.xlsx\")"
   ]
  },
  {
   "cell_type": "code",
   "execution_count": null,
   "metadata": {
    "collapsed": true
   },
   "outputs": [],
   "source": [
    "#Hay muchos más formatos disponibles, por si a alguien le suena\n",
    "data.to_"
   ]
  },
  {
   "cell_type": "markdown",
   "metadata": {},
   "source": [
    "Ahora leamos el archivo \"Ciudades.xlsx\" que acabamos de crear."
   ]
  },
  {
   "cell_type": "code",
   "execution_count": null,
   "metadata": {
    "collapsed": false
   },
   "outputs": [],
   "source": [
    "new_data=pd.read_excel(\"Ciudades.xlsx\") #r de read"
   ]
  },
  {
   "cell_type": "code",
   "execution_count": null,
   "metadata": {
    "collapsed": false
   },
   "outputs": [],
   "source": [
    "new_data.get"
   ]
  },
  {
   "cell_type": "markdown",
   "metadata": {},
   "source": [
    "Unas cuantas consideraciones adicionales. Como se puede ver, los datos se acceden a través de la cadena de cada columna, o del número de cada fila."
   ]
  },
  {
   "cell_type": "code",
   "execution_count": null,
   "metadata": {
    "collapsed": false
   },
   "outputs": [],
   "source": [
    "new_data[\"Ciudad\"]"
   ]
  },
  {
   "cell_type": "code",
   "execution_count": null,
   "metadata": {
    "collapsed": false
   },
   "outputs": [],
   "source": [
    "new_data.loc[1]"
   ]
  },
  {
   "cell_type": "markdown",
   "metadata": {},
   "source": [
    "Finalmente, algunos kwargs útiles para `pd.read_excel` son:\n",
    "```python\n",
    "pd.read_excel(\"filename\", index_col=None, header=None)\n",
    "```\n",
    "`index_col=None` omite que se use como llaves las cadenas de la primera fila del documento, y `header=None` indica que no se debe omitir nada del documento. También se puede usar `dtype` para decir explícitamente el tipo de dato de cada columna, aunque Python debería encargarse de eso. "
   ]
  }
 ],
 "metadata": {
  "anaconda-cloud": {},
  "kernelspec": {
   "display_name": "Python [anaconda3]",
   "language": "python",
   "name": "Python [anaconda3]"
  },
  "language_info": {
   "codemirror_mode": {
    "name": "ipython",
    "version": 3
   },
   "file_extension": ".py",
   "mimetype": "text/x-python",
   "name": "python",
   "nbconvert_exporter": "python",
   "pygments_lexer": "ipython3",
   "version": "3.5.2"
  }
 },
 "nbformat": 4,
 "nbformat_minor": 0
}
