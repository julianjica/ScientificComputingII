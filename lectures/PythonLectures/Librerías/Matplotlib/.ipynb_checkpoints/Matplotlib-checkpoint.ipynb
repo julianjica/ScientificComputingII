{
 "cells": [
  {
   "cell_type": "markdown",
   "metadata": {},
   "source": [
    "# Matplotlib #\n",
    "Es el paquete de Python más importante para graficar. Viene instalado por defecto a través de Anaconda, y el nombre usual de la librería es\n",
    "```\n",
    "matplotlib.pyplot\n",
    "```\n",
    "de modo que se importa como:"
   ]
  },
  {
   "cell_type": "code",
   "execution_count": null,
   "metadata": {
    "collapsed": true
   },
   "outputs": [],
   "source": [
    "import matplotlib.pyplot as plt #Es el pseudónimo más común para esta librería"
   ]
  },
  {
   "cell_type": "markdown",
   "metadata": {},
   "source": [
    "En Jupyter Notebook, matplotlib puede graficar dentro del entorno. Si se desea que lo haga, se ejecuta la línea\n",
    "```python\n",
    "%matplotlib inline\n",
    "```\n",
    "para que se grafique siempre en el Notebook. Omitir esta línea hará que se muestre las gráficas en una ventana aparte. Aquí lo haremos todo dentro del entorno."
   ]
  },
  {
   "cell_type": "code",
   "execution_count": null,
   "metadata": {
    "collapsed": true
   },
   "outputs": [],
   "source": [
    "%matplotlib inline"
   ]
  },
  {
   "cell_type": "markdown",
   "metadata": {},
   "source": [
    "## Mi primer gráfico ##\n",
    "Empecemos por la función más sencilla para graficar, `plot`. "
   ]
  },
  {
   "cell_type": "code",
   "execution_count": null,
   "metadata": {
    "collapsed": true
   },
   "outputs": [],
   "source": [
    "import numpy as np"
   ]
  },
  {
   "cell_type": "code",
   "execution_count": null,
   "metadata": {
    "collapsed": false
   },
   "outputs": [],
   "source": [
    "a=np.linspace(0,20)\n",
    "f=plt.figure(figsize=(8,8)) #8x8 Pulgadas\n",
    "plt.plot(a,np.sin(a**2)) "
   ]
  },
  {
   "cell_type": "markdown",
   "metadata": {},
   "source": [
    "La gráfica anterior es horrible. Intentemos mejorarla. `plot` tiene varios argumentos por defecto, que quizá podamos usar para mejorar un poco el gráfico."
   ]
  },
  {
   "cell_type": "code",
   "execution_count": null,
   "metadata": {
    "collapsed": false
   },
   "outputs": [],
   "source": [
    "f=plt.figure(figsize=(8,8)) #8x8 Pulgadas\n",
    "plt.plot(a,np.sin(a**2), color=\"red\", linewidth=2, linestyle=\":\", marker=\"*\", markerfacecolor=\"green\") "
   ]
  },
  {
   "cell_type": "markdown",
   "metadata": {},
   "source": [
    "A continuación el significado de todos estos argumentos.\n",
    "```python\n",
    "color=\"red\"\n",
    "```\n",
    "indica que el color principal de la gráfica va a ser rojo, y el color principal es el color de la línea que une los datos.\n",
    "\n",
    "```python\n",
    "linewidth=2\n",
    "```\n",
    "indica que el grosor de la línea que une a los puntos será dos pixeles.\n",
    "```python\n",
    "linestyle=\":\"\n",
    "```\n",
    "es uno de los múltiples estilos disponibles para la línea que une a los puntos. A continuación una tabla de los que se pueden usar.\n",
    "\n",
    "| Estilo de línea | Descripción                |\n",
    "|-----------------|----------------------------|\n",
    "| \"-\" o \"solid\"   | es la que viene por defecto, es la línea sólida usual.|\n",
    "| \"--\" o \"dashed\"| línea entrecortada|\n",
    "| \"-.\" o \"dashdot\" | línea entrecortada con puntos |\n",
    "| \":\" o \"dotted\"| línea punteada (hecha de puntos) |\n",
    "| \"None\" o \" \" o \"\"| sin línea |\n",
    "\n",
    "```python\n",
    "marker=\"*\"\n",
    "```\n",
    "indica que los puntos efectivos tendrán un \"*\". Con puntos efectivos se refiere a los que generan la gráfica en cuestión. Todos los marcadores disponibles se pueden encontrar en https://matplotlib.org/api/markers_api.html. Finalmente,\n",
    "```python\n",
    "markerfacecolor=\"green\"\n",
    "```\n",
    "indica que el color de estos marcadores será verde.\n",
    "\n",
    "** Nota:** Los colores se pueden introducir por su nombre en inglés, en formato RGB o hexadecimal."
   ]
  },
  {
   "cell_type": "markdown",
   "metadata": {},
   "source": [
    "A pesar de todos nuestros esfuerzos, la gráfica luce mal. Intentemos aumentar el número de puntos de la gráfica, para darle un aspecto más suavizado, y modifiquemos algunas propiedades de la misma"
   ]
  },
  {
   "cell_type": "code",
   "execution_count": null,
   "metadata": {
    "collapsed": false
   },
   "outputs": [],
   "source": [
    "a=np.linspace(0,20,400)\n",
    "f=plt.figure(figsize=(15,8))\n",
    "plt.plot(a,np.sin(a**2), color=\"red\", linewidth=2, linestyle=\"-\", marker=\"o\", markerfacecolor=\"green\")  "
   ]
  },
  {
   "cell_type": "markdown",
   "metadata": {},
   "source": [
    "Ahora sí luce un poco más elegante. Si solo queremos graficar una región, podemos restringir la gráfica a través de"
   ]
  },
  {
   "cell_type": "code",
   "execution_count": null,
   "metadata": {
    "collapsed": false
   },
   "outputs": [],
   "source": [
    "a=np.linspace(0,20,400)\n",
    "f=plt.figure(figsize=(15,8)) \n",
    "plt.xlim(0,8)\n",
    "plt.ylim(-.5,.5)\n",
    "plt.plot(a,np.sin(a**2), color=\"red\", linewidth=2, linestyle=\"-\", marker=\"o\", markerfacecolor=\"green\")  "
   ]
  },
  {
   "cell_type": "markdown",
   "metadata": {},
   "source": [
    "Podemos escribir texto en los ejes, y este texto acepta formato LaTeX."
   ]
  },
  {
   "cell_type": "code",
   "execution_count": null,
   "metadata": {
    "collapsed": false
   },
   "outputs": [],
   "source": [
    "a=np.linspace(0,3)\n",
    "plt.xlabel(\"Potencial (V)\")\n",
    "plt.ylabel(r\"Resitencia ($\\Omega$)\")\n",
    "plt.title(\"Una ley interesante\")\n",
    "plt.plot(a,3*a+4)"
   ]
  },
  {
   "cell_type": "markdown",
   "metadata": {},
   "source": [
    "Antes de que se me olvide, si no se usa \n",
    "```python\n",
    "%matplotlib inline\n",
    "```\n",
    "es necesario colocar\n",
    "```python\n",
    "plt.show()\n",
    "```\n",
    "para mostrar la gráfica. Esta instrucción permite que todas las gráficas que se creen antes de ella se muestren en el mismo marco. Veamos un ejemplo de varias gráficas en un solo marco."
   ]
  },
  {
   "cell_type": "code",
   "execution_count": null,
   "metadata": {
    "collapsed": false
   },
   "outputs": [],
   "source": [
    "a=np.linspace(0,1)\n",
    "f=plt.figure(figsize=(8,8))\n",
    "plt.title(r\"Comportamiento de $f(x)=x^a, a=1,\\dots,4$\", fontsize=15)\n",
    "plt.xlabel(r\"$x$\", fontsize=15)\n",
    "plt.ylabel(r\"$f(x)$\", fontsize=15)\n",
    "\n",
    "for x in range(1,4+1):\n",
    "    plt.plot(a,a**x)\n"
   ]
  },
  {
   "cell_type": "markdown",
   "metadata": {},
   "source": [
    "*Matplotlib* por defecto coloca colores distintos a las líneas, pero uno puede personalizarlas a su gusto, claramente. Una cosa que resulta un poco ambigua es que si uno no las personaliza a su gusto o para alguien que vea la gráfica sin conocer el código, resulta imposible saber cuál gráfica es cuál. Para ello se usan las leyendas."
   ]
  },
  {
   "cell_type": "code",
   "execution_count": null,
   "metadata": {
    "collapsed": false
   },
   "outputs": [],
   "source": [
    "a=np.linspace(0,1)\n",
    "f=plt.figure(figsize=(8,8))\n",
    "plt.title(r\"Comportamiento de $f(x)=x^a, a=1,\\dots,4$\", fontsize=15)\n",
    "plt.xlabel(r\"$x$\", fontsize=15)\n",
    "plt.ylabel(r\"$f(x)$\", fontsize=15)\n",
    "\n",
    "for x in range(1,4+1):\n",
    "    plt.plot(a,a**x, label=r\"$x^%i$\"%x)\n",
    "\n",
    "plt.legend(fontsize=15)"
   ]
  },
  {
   "cell_type": "markdown",
   "metadata": {},
   "source": [
    "A pesar de todas estas precauciones, a veces puede quedar muy saturado un marco con múltiples gráficas. Para solventar ésto, se puede dividir un marco en varios marcos. Para ello se usa `subplots`"
   ]
  },
  {
   "cell_type": "code",
   "execution_count": null,
   "metadata": {
    "collapsed": false
   },
   "outputs": [],
   "source": [
    "fig, axes= plt.subplots(2,4, figsize=(15,8)) #Dos filas, cuarto columnas\n",
    "fig.subplots_adjust(wspace=.5) #Un poco de espacio horizontal entre las gráficas\n",
    "\n",
    "#Los marcos se llenan como si estuvieran en una matriz\n",
    "count=1\n",
    "for x in range(2):\n",
    "    for y in range(4):\n",
    "        axes[x][y].plot(a,a**count, label=r\"$x^%i$\"%count)\n",
    "        axes[x][y].legend()\n",
    "        count+=1"
   ]
  },
  {
   "cell_type": "markdown",
   "metadata": {},
   "source": [
    "Los marcos pueden compartir los ejes si se quiere, siempre y cuando los ejes sean los mismos:"
   ]
  },
  {
   "cell_type": "code",
   "execution_count": null,
   "metadata": {
    "collapsed": false
   },
   "outputs": [],
   "source": [
    "fig, axes= plt.subplots(2,2, figsize=(15,8), sharex=True, sharey=True) #Dos filas, cuarto columnas\n",
    "\n",
    "#Los marcos se llenan como si estuvieran en una matriz\n",
    "count=1\n",
    "for x in range(2):\n",
    "    for y in range(2):\n",
    "        axes[x][y].plot(a,a**count, label=r\"$x^%i$\"%count)\n",
    "        axes[x][y].legend()\n",
    "        count+=1"
   ]
  },
  {
   "cell_type": "markdown",
   "metadata": {},
   "source": [
    "Buscando siempre la belleza por encima de todas las cosas, existe una herramienta que permite hacer aún más personalizados los marcos dentro de marcos: esta herramienta es `GridSpec`. Importémoslo"
   ]
  },
  {
   "cell_type": "code",
   "execution_count": null,
   "metadata": {
    "collapsed": true
   },
   "outputs": [],
   "source": [
    "from matplotlib.gridspec import GridSpec"
   ]
  },
  {
   "cell_type": "markdown",
   "metadata": {},
   "source": [
    "De nuevo, la estructura de los marcos es matricial, pero podemos fusionar filas y columnas."
   ]
  },
  {
   "cell_type": "code",
   "execution_count": null,
   "metadata": {
    "collapsed": false
   },
   "outputs": [],
   "source": [
    "f=plt.figure(figsize=(15,8))\n",
    "gs = GridSpec(3,3)\n",
    "\n",
    "plt.subplot(gs[0,:])\n",
    "plt.plot(a, a)\n",
    "\n",
    "plt.subplot(gs[1,0])\n",
    "plt.plot(a, a**2)\n",
    "\n",
    "plt.subplot(gs[1,1])\n",
    "plt.plot(a, a**3)\n",
    "\n",
    "plt.subplot(gs[1:,2])\n",
    "plt.plot(a, a**4)\n",
    "\n",
    "plt.subplot(gs[2,:2])\n",
    "plt.plot(a, a**5)"
   ]
  },
  {
   "cell_type": "markdown",
   "metadata": {},
   "source": [
    "# Mapas de colores #\n",
    "Una herramienta que puede ser muy útil para visualizar datos es el mapa de colores. Visualicemos su uso con un ejemplo. Veamos cómo se comporta la función multivariada\n",
    "\n",
    "$$f(x,y)=x^2+y^2$$\n",
    "en $[0,1]\\times [0,1]$"
   ]
  },
  {
   "cell_type": "code",
   "execution_count": null,
   "metadata": {
    "collapsed": false
   },
   "outputs": [],
   "source": [
    "f=plt.figure(figsize=(8,8))\n",
    "#Recuerdan que dije que meshgrid era importante?\n",
    "#Lo necesitamos para corresponder [0,1] con [0,1]\n",
    "\n",
    "A,B=np.meshgrid(a,a)\n",
    "plt.pcolor(A,B,A**2+B**2, cmap=\"jet\")\n",
    "plt.colorbar() #Muestra la barrita de la derecha"
   ]
  },
  {
   "cell_type": "markdown",
   "metadata": {},
   "source": [
    "El argumento `cmap` determina el mapa de colores que se usará. Hay bastantes mapas, y los puede encontrar en https://matplotlib.org/examples/color/colormaps_reference.html."
   ]
  },
  {
   "cell_type": "markdown",
   "metadata": {},
   "source": [
    "# 3 dimensiones #\n",
    "El ejercicio anterior es una representación interesante en dos dimensiones de una superficie de tres dimensiones. Afortunadamente podemos graficar en tres dimensiones, pero no es muy recomendable hacerlo en este entorno, por lo que **reiniciemos el kernel**, para que el resultado salga en una ventana aparte."
   ]
  },
  {
   "cell_type": "code",
   "execution_count": null,
   "metadata": {
    "collapsed": true
   },
   "outputs": [],
   "source": [
    "import matplotlib.pyplot as plt\n",
    "from mpl_toolkits.mplot3d import Axes3D #Herramienta para graficar en 3D\n",
    "import numpy as np "
   ]
  },
  {
   "cell_type": "markdown",
   "metadata": {},
   "source": [
    "Primero probemos con una curva."
   ]
  },
  {
   "cell_type": "code",
   "execution_count": null,
   "metadata": {
    "collapsed": false
   },
   "outputs": [],
   "source": [
    "fig = plt.figure()\n",
    "ax = fig.add_subplot(111, projection='3d') #111 implica que los tres ejes van con la misma proporción\n",
    "\n",
    "#Grafiquemos una curva en 3D, la intersección de una esfera y un cilindro, creo.\n",
    "t=np.linspace(-2*np.pi,2*np.pi,100)\n",
    "plt.plot(1+np.cos(t),np.sin(t),2*np.sin(t/2)) \n",
    "plt.show()"
   ]
  },
  {
   "cell_type": "markdown",
   "metadata": {},
   "source": [
    "Podemos complicar un poco las cosas. En la mayoría de los casos, una imagen vale más que mil palabras, y un vídeo vale más o menos 40 imágenes por segundo. Confío en que aprendiendo a hacer animaciones en 3D seas capaz de extenderlo a 2D. La función que nos ayudará en este caso es:\n",
    "\n",
    "```python\n",
    "animation.FuncAnimation(fig, func, frames=None, init_func=None, fargs=None, save_count=None, **kwargs)\n",
    "```\n",
    "importemos la librería respectiva."
   ]
  },
  {
   "cell_type": "code",
   "execution_count": null,
   "metadata": {
    "collapsed": true
   },
   "outputs": [],
   "source": [
    "import matplotlib.animation as animation "
   ]
  },
  {
   "cell_type": "markdown",
   "metadata": {},
   "source": [
    "Analicemos los argumentos de *FuncAnimation* para ejecutar este método correctamente.\n",
    "\n",
    "El argumento *fig* corresponde al marco de matplotlib. Podemos usar axis o figure, como lo solíamos hacer.\n",
    "\n",
    "Antes de analizar el argumento *func*, definamos una lista de objetos de tipo `matplotlib.plot`. Este objeto será el que guarde todos los frames de nuestra animación. Expliquémonos mejor; al principio, nuestra lista será solo el elemento\n",
    "\n",
    "```python\n",
    "plt.plot([],[], \"r-\")\n",
    "```\n",
    "es decir, nada. Sin embargo, a través de una función añadiremos los gráficos de cada frame."
   ]
  },
  {
   "cell_type": "code",
   "execution_count": null,
   "metadata": {
    "collapsed": false
   },
   "outputs": [],
   "source": [
    "line, = plt.plot([],[], \"r-\")\n",
    "type(line)"
   ]
  },
  {
   "cell_type": "markdown",
   "metadata": {},
   "source": [
    "Ésta será la función encargada de hacer la animación."
   ]
  },
  {
   "cell_type": "code",
   "execution_count": null,
   "metadata": {
    "collapsed": true
   },
   "outputs": [],
   "source": [
    "def anima(num, data, line):\n",
    "    line.set_data(data[:2, :num])\n",
    "    line.set_3d_properties(data[2, :num])\n",
    "    return line,"
   ]
  },
  {
   "cell_type": "markdown",
   "metadata": {},
   "source": [
    "Uno puede crear una gran variedad de funciones para animar (veremos algunas otras más adelante), pero ésta es un buen comienzo.\n",
    "\n",
    "Recibe tres argumentos: num, data y line. Es mi implementación, así que escogí que data sea un arreglo tridimensional, cuyo contenido en la primera columna son los datos en el eje $x$, en la segunda los del eje $y$ y en la tercera los del eje $z$. Es importante que el argumento **frames** sea igual al tamaño del número de filas de esta matriz, porque cada frame tiene su gráfica dedicada. Animemos pues la curva de Viviani."
   ]
  },
  {
   "cell_type": "code",
   "execution_count": null,
   "metadata": {
    "collapsed": false
   },
   "outputs": [],
   "source": [
    "fig = plt.figure()\n",
    "ax = fig.add_subplot(111, projection='3d')\n",
    "t=np.linspace(-2*np.pi,2*np.pi,100)\n",
    "x=1+np.cos(t)\n",
    "y=np.sin(t)\n",
    "z=2*np.sin(t/2)\n",
    "data=np.vstack((x,y,z)) #Qué hacemos acá?\n",
    "\n",
    "ax.set_xlim3d(-2, 2)#Como las animaciones no \"existen\" en el marco,\n",
    "ax.set_ylim3d(-2, 2)# se tiene que ajustar manualmente los límites.\n",
    "ax.set_zlim3d(-2, 2)\n",
    "\n",
    "lines, = ax.plot([],[],[], \"r-\")\n",
    "line_ani = animation.FuncAnimation(fig, anima, 100, fargs=(data, lines),\n",
    "    interval=100, blit=True)\n",
    "plt.show()"
   ]
  },
  {
   "cell_type": "markdown",
   "metadata": {},
   "source": [
    "Note que _fargs_ son los argumentos que recibe la función que hace la animación. 100 son los cien frames. Interval es el tiempo en decisegundos que se ocupa para llevar a cabo toda la animación. Blit es un booleano que controla cuando el blitting se usa para optimizar el dibujo.\n",
    "\n",
    "Veamos un último ejemplo."
   ]
  },
  {
   "cell_type": "code",
   "execution_count": null,
   "metadata": {
    "collapsed": false
   },
   "outputs": [],
   "source": [
    "def just_a_point(num,data,line):\n",
    "    line.set_data(data[0][num], data[1][num])\n",
    "    line.set_3d_properties(data[2][num])    \n",
    "    return line,\n",
    "\n",
    "def clear(line):\n",
    "    line.set_data([], [])\n",
    "    line.set_3d_properties([])    \n",
    "    return line,\n",
    "\n",
    "fig = plt.figure()\n",
    "ax = fig.add_subplot(111, projection='3d')\n",
    "t=np.linspace(-2*np.pi,2*np.pi,100)\n",
    "x=1+np.cos(t)\n",
    "y=np.sin(t)\n",
    "z=2*np.sin(t/2)\n",
    "data=np.vstack((x,y,z)) \n",
    "\n",
    "ax.set_xlim3d(-2, 2)\n",
    "ax.set_ylim3d(-2, 2)\n",
    "ax.set_zlim3d(-2, 2)\n",
    "\n",
    "lines, = ax.plot([],[],[], \"r-\")\n",
    "lines2, = ax.plot([],[],[], \"ro\")\n",
    "line_ani2 = animation.FuncAnimation(fig, just_a_point, 100, fargs=(data, lines2),\n",
    "                                   interval=100, blit=False, init_func=lambda: clear(lines2))\n",
    "line_ani = animation.FuncAnimation(fig, anima, 100, fargs=(data, lines),\n",
    "    interval=100, blit=False)\n",
    "\n",
    "plt.show()"
   ]
  },
  {
   "cell_type": "markdown",
   "metadata": {},
   "source": [
    "La función justapoint, en vez de añadir una nueva gráfica, añade sólo un punto; así, esta función es perfecta para hacer puntos en movimiento. El argumento _initfunc_ recibe la función que refresca el marco, necesaria para hacer un punto moviéndose, sin mostrar su camino."
   ]
  },
  {
   "cell_type": "markdown",
   "metadata": {},
   "source": [
    "## Superficies ##"
   ]
  },
  {
   "cell_type": "markdown",
   "metadata": {},
   "source": [
    "Una vez se sabe hacer mapas de colores, resulta sencillo entender cómo graficar superficies."
   ]
  },
  {
   "cell_type": "code",
   "execution_count": null,
   "metadata": {
    "collapsed": false
   },
   "outputs": [],
   "source": [
    "fig = plt.figure()\n",
    "ax = fig.add_subplot(111, projection='3d')\n",
    "x=np.linspace(-2,2)\n",
    "y=np.linspace(-2,2)\n",
    "X,Y=np.meshgrid(x,y) \n",
    "ax.plot_surface(X,Y,(2+np.cos(np.pi*X))*np.sin(np.pi*Y))\n",
    "plt.show()"
   ]
  },
  {
   "cell_type": "markdown",
   "metadata": {},
   "source": [
    "Uno a veces puede querer hacer mapas de colores sobre la superficie. Para ello, hacemos"
   ]
  },
  {
   "cell_type": "code",
   "execution_count": null,
   "metadata": {
    "collapsed": true
   },
   "outputs": [],
   "source": [
    "from matplotlib import cm"
   ]
  },
  {
   "cell_type": "code",
   "execution_count": null,
   "metadata": {
    "collapsed": false
   },
   "outputs": [],
   "source": [
    "fig = plt.figure()\n",
    "ax = fig.add_subplot(111, projection='3d')\n",
    "x=np.linspace(-2,2,200)\n",
    "y=np.linspace(-2,2,200)\n",
    "X,Y=np.meshgrid(x,y) \n",
    "\n",
    "surf=ax.plot_surface(X,Y,(2+np.cos(np.pi*X))*np.sin(np.pi*Y), cmap=cm.inferno)\n",
    "fig.colorbar(surf, shrink=0.5, aspect=5)\n",
    "plt.show()"
   ]
  },
  {
   "cell_type": "markdown",
   "metadata": {},
   "source": [
    "# Histogramas #\n",
    "Otra manera de representar información de manera muy elegante. Afortunadamente para nosotros es mucho más fácil que graficar y animar en 3 dimensiones. Veamos la gaussiana a través de su histograma."
   ]
  },
  {
   "cell_type": "code",
   "execution_count": null,
   "metadata": {
    "collapsed": true
   },
   "outputs": [],
   "source": [
    "%matplotlib inline"
   ]
  },
  {
   "cell_type": "code",
   "execution_count": null,
   "metadata": {
    "collapsed": true
   },
   "outputs": [],
   "source": [
    "datos = np.random.normal(3, 1., 10000) #Media 3, desviación 1, 10000 datos"
   ]
  },
  {
   "cell_type": "code",
   "execution_count": null,
   "metadata": {
    "collapsed": false
   },
   "outputs": [],
   "source": [
    "plt.hist(datos)"
   ]
  },
  {
   "cell_type": "markdown",
   "metadata": {},
   "source": [
    "Como se observa, la partición por defecto no resulta conveniente para observar la gaussiana. Quizá si la cambiamos podamos ver algo mejor"
   ]
  },
  {
   "cell_type": "code",
   "execution_count": null,
   "metadata": {
    "collapsed": false
   },
   "outputs": [],
   "source": [
    "partition=np.linspace(-1,7,100)\n",
    "plt.hist(datos, bins=partition)"
   ]
  },
  {
   "cell_type": "markdown",
   "metadata": {},
   "source": [
    "Podemos embellecer un poco el histograma, veamos"
   ]
  },
  {
   "cell_type": "code",
   "execution_count": null,
   "metadata": {
    "collapsed": false
   },
   "outputs": [],
   "source": [
    "f=plt.figure(figsize=(8,8))\n",
    "\n",
    "data1 = np.random.normal(0., 25, 1000)\n",
    "data2 = np.random.normal(0., 4., 1000)\n",
    "\n",
    "bins = np.linspace(-100, 100, 50)\n",
    "#alpha es el nivel de trasparencia\n",
    "plt.hist(data1, label=\"Colombia\", facecolor=\"red\", alpha=0.5, bins=bins, histtype='stepfilled')\n",
    "plt.hist(data2, label=\"Brasil\", facecolor=\"lightblue\", alpha=0.6, bins=bins, histtype='stepfilled')\n",
    "#tipos de histograma (histtype):  {'bar', 'barstacked', 'step', 'stepfilled'}\n",
    "\n",
    "plt.xlabel(\"Altura\", fontsize=15)\n",
    "plt.ylabel(\"Personas\", fontsize=15)\n",
    "plt.legend()"
   ]
  },
  {
   "cell_type": "markdown",
   "metadata": {},
   "source": [
    "La partición también se puede generar por número de intervalos."
   ]
  },
  {
   "cell_type": "code",
   "execution_count": null,
   "metadata": {
    "collapsed": false
   },
   "outputs": [],
   "source": [
    "data1 = np.random.normal(0., 25, 1000)\n",
    "plt.hist(data1, bins=100, histtype=\"step\")"
   ]
  },
  {
   "cell_type": "markdown",
   "metadata": {},
   "source": [
    "## Gráficos con errores ##\n",
    "En las mediciones físicas existe cierto nivel de incertidumbre en cada dato, inherente al aparato de medición. Matplotlib permite incluir esta información en las gráficas a través de `errorbar`."
   ]
  },
  {
   "cell_type": "code",
   "execution_count": null,
   "metadata": {
    "collapsed": false
   },
   "outputs": [],
   "source": [
    "x=np.linspace(0,10)\n",
    "error_x=np.random.uniform(0,1)\n",
    "\n",
    "f=plt.figure(figsize=(10,8))\n",
    "plt.errorbar(x, x**3, yerr=30, xerr=error_x,  linestyle=\"none\", marker=\"o\", markerfacecolor=\"k\", \n",
    "         markersize=5, ecolor=\"grey\", capsize=3)\n",
    "plt.grid() #Hacemos una malla"
   ]
  },
  {
   "cell_type": "markdown",
   "metadata": {},
   "source": [
    "## Proyecciones ##\n",
    "No siempre se desea graficar en coordenadas cartesianas. Es posible cambiar manualmente el sistema de coordenadas con el que se desea graficar. Por ejemplo, para graficar en coordenadas polares se ejecuta:"
   ]
  },
  {
   "cell_type": "code",
   "execution_count": null,
   "metadata": {
    "collapsed": false
   },
   "outputs": [],
   "source": [
    "f=plt.figure(figsize=(8,8))\n",
    "ax = plt.subplot(111, projection='polar')\n",
    "\n",
    "theta=np.linspace(0, 2*np.pi)\n",
    "r=2*(1-np.cos(theta))\n",
    "\n",
    "ax.plot(theta, r)\n",
    "ax.grid(True)"
   ]
  },
  {
   "cell_type": "markdown",
   "metadata": {},
   "source": [
    "También podemos hacer gráficos log o log-log."
   ]
  },
  {
   "cell_type": "code",
   "execution_count": null,
   "metadata": {
    "collapsed": false
   },
   "outputs": [],
   "source": [
    "a=np.linspace(1,100)\n",
    "b=10**a\n",
    "f=plt.figure(figsize=(12,8))\n",
    "gs = GridSpec(2,2)\n",
    "\n",
    "plt.subplot(gs[0,0])\n",
    "plt.semilogy(a,b)\n",
    "\n",
    "plt.subplot(gs[0,1])\n",
    "plt.semilogx(b, a)\n",
    "\n",
    "plt.subplot(gs[1,:])\n",
    "plt.loglog(b, b)"
   ]
  },
  {
   "cell_type": "markdown",
   "metadata": {},
   "source": [
    "Otras proyecciones no tan usuales, pero útiles en ciencias que requieran proyecciones del cielo o de la tierra en espacios bidimensionales son:\n",
    "\n",
    " 1) aitoff\n",
    " \n",
    " 2) hammer\n",
    " \n",
    " 3) mollweide\n",
    " \n",
    " 4) lambert"
   ]
  },
  {
   "cell_type": "markdown",
   "metadata": {},
   "source": [
    "## Un poco de análisis de imágenes ##\n",
    "Matplotlib cuenta con herramientas básicas para trabajar con imágenes. Empecemos importanto la sublibrería correspondiente al análisis de imágenes."
   ]
  },
  {
   "cell_type": "code",
   "execution_count": null,
   "metadata": {
    "collapsed": true
   },
   "outputs": [],
   "source": [
    "import matplotlib.image as mpimg"
   ]
  },
  {
   "cell_type": "markdown",
   "metadata": {},
   "source": [
    "En esta carpeta hay una imagen de las pléyades. Será la imagen con la que jugaremos."
   ]
  },
  {
   "cell_type": "code",
   "execution_count": null,
   "metadata": {
    "collapsed": true
   },
   "outputs": [],
   "source": [
    "img=mpimg.imread('pleyadesM45.jpg') #Leemos la imagen"
   ]
  },
  {
   "cell_type": "code",
   "execution_count": null,
   "metadata": {
    "collapsed": false
   },
   "outputs": [],
   "source": [
    "print(img)\n",
    "print(img.shape)"
   ]
  },
  {
   "cell_type": "markdown",
   "metadata": {},
   "source": [
    "Podemos mostrar la imagen usando"
   ]
  },
  {
   "cell_type": "code",
   "execution_count": null,
   "metadata": {
    "collapsed": false
   },
   "outputs": [],
   "source": [
    "plt.imshow(img)"
   ]
  },
  {
   "cell_type": "markdown",
   "metadata": {},
   "source": [
    "Analicemos la intensidad de la imagen en el color rojo."
   ]
  },
  {
   "cell_type": "code",
   "execution_count": null,
   "metadata": {
    "collapsed": false
   },
   "outputs": [],
   "source": [
    "lum_img = img[:,:,0]\n",
    "print(lum_img)\n",
    "print(lum_img.shape)\n",
    "plt.imshow(lum_img)"
   ]
  },
  {
   "cell_type": "markdown",
   "metadata": {},
   "source": [
    "Verde"
   ]
  },
  {
   "cell_type": "code",
   "execution_count": null,
   "metadata": {
    "collapsed": false
   },
   "outputs": [],
   "source": [
    "lum_img = img[:,:,1]\n",
    "plt.imshow(lum_img)"
   ]
  },
  {
   "cell_type": "markdown",
   "metadata": {},
   "source": [
    "Azul"
   ]
  },
  {
   "cell_type": "code",
   "execution_count": null,
   "metadata": {
    "collapsed": false
   },
   "outputs": [],
   "source": [
    "lum_img = img[:,:,2]\n",
    "plt.imshow(lum_img)"
   ]
  },
  {
   "cell_type": "markdown",
   "metadata": {},
   "source": [
    "Por supuesto, podemos usar en vez de colores falsos algún mapa de colores."
   ]
  },
  {
   "cell_type": "code",
   "execution_count": null,
   "metadata": {
    "collapsed": false
   },
   "outputs": [],
   "source": [
    "lum_img = img[:,:,2]\n",
    "f=plt.figure(figsize=(8,8))\n",
    "result=plt.imshow(lum_img)\n",
    "result.set_cmap('spectral')\n",
    "plt.colorbar()"
   ]
  },
  {
   "cell_type": "markdown",
   "metadata": {},
   "source": [
    "## Interpolación ##\n",
    "A veces hay datos insuficientes para obtener una imagen con una resolución aceptable, o simplemente se desea \"mejorar\" la calidad de una imagen que se encuentra pixelada. Disminuyamos adrede la resolución de una imagen y veamos si la podemos \"mejorar\"."
   ]
  },
  {
   "cell_type": "code",
   "execution_count": null,
   "metadata": {
    "collapsed": false
   },
   "outputs": [],
   "source": [
    "from PIL import Image #Nos sirve para disminuir la resolución de una imagen\n",
    "img = Image.open('isla.jpg')\n",
    "img.thumbnail((100, 100), Image.ANTIALIAS) \n",
    "\n",
    "imgplot = plt.imshow(img)"
   ]
  },
  {
   "cell_type": "markdown",
   "metadata": {},
   "source": [
    "Interpolemos a través de distintos métodos"
   ]
  },
  {
   "cell_type": "code",
   "execution_count": null,
   "metadata": {
    "collapsed": false
   },
   "outputs": [],
   "source": [
    "imgplot = plt.imshow(img, interpolation=\"nearest\")"
   ]
  },
  {
   "cell_type": "code",
   "execution_count": null,
   "metadata": {
    "collapsed": false
   },
   "outputs": [],
   "source": [
    "imgplot = plt.imshow(img, interpolation=\"bicubic\")"
   ]
  },
  {
   "cell_type": "markdown",
   "metadata": {},
   "source": [
    "Para mayor información relacionada con análisis de imágenes en Python, puede visitar el sitio web: http://www.scipy-lectures.org/advanced/image_processing/"
   ]
  }
 ],
 "metadata": {
  "anaconda-cloud": {},
  "kernelspec": {
   "display_name": "Python [anaconda3]",
   "language": "python",
   "name": "Python [anaconda3]"
  },
  "language_info": {
   "codemirror_mode": {
    "name": "ipython",
    "version": 3
   },
   "file_extension": ".py",
   "mimetype": "text/x-python",
   "name": "python",
   "nbconvert_exporter": "python",
   "pygments_lexer": "ipython3",
   "version": "3.5.2"
  }
 },
 "nbformat": 4,
 "nbformat_minor": 0
}
