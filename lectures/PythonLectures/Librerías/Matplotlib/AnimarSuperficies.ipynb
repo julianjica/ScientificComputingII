{
 "cells": [
  {
   "cell_type": "markdown",
   "metadata": {},
   "source": [
    "# Superficies Animadas #\n",
    "(No olvidar que pueden ocurrir errores de compatibilidad, por lo que si no funciona en el notebook, se debe correr desde una terminal normal)\n",
    "Presencialmente, mientras realizábamos la clase de animaciones en 3 dimensiones, todos mostraron interés en aprender a realizar animaciones de superficies en tres dimensiones; por ende, el presente notebook explica lo básico para ello. Necesitamos las siguientes librerías:"
   ]
  },
  {
   "cell_type": "code",
   "execution_count": 1,
   "metadata": {
    "collapsed": true
   },
   "outputs": [],
   "source": [
    "import numpy as np\n",
    "import matplotlib.pyplot as plt\n",
    "import matplotlib.animation as animation\n",
    "from mpl_toolkits.mplot3d import Axes3D"
   ]
  },
  {
   "cell_type": "markdown",
   "metadata": {},
   "source": [
    "Dibujemos una esfera de radio 1 centrada en el origen por tramos, es decir, haciendo que $\\theta$ y $\\phi$ avancen al mismo ritmo. Verifique cómo transcurre la animación. Después del bloque del código se encuentra la explicación de algunos de los aspectos del mismo."
   ]
  },
  {
   "cell_type": "code",
   "execution_count": 2,
   "metadata": {
    "collapsed": false
   },
   "outputs": [],
   "source": [
    "def anima(num, theta, phi, line):\n",
    "    ax.clear() #Limpiando el cuadro\n",
    "    ax.set_xlim3d(-1, 1)\n",
    "    ax.set_ylim3d(-1, 1) #Ejes manuales\n",
    "    ax.set_zlim3d(-1, 1)\n",
    "    line = ax.plot_surface(np.cos(phi[:num,:num])*np.sin(theta[:num,:num]), \n",
    "                           np.sin(phi[:num,:num])*np.sin(theta[:num,:num]), \n",
    "                           np.cos(theta[:num,:num]))\n",
    "    return line\n",
    "    \n",
    "fig =plt.figure()\n",
    "ax=fig.add_subplot(111, projection=\"3d\")\n",
    "theta=np.linspace(0,np.pi, 100)\n",
    "phi=np.linspace(0,2*np.pi, 100)\n",
    "THETA, PHI=np.meshgrid(theta,phi)\n",
    "ax.set_xlim3d(-1, 1)\n",
    "ax.set_ylim3d(-1, 1)\n",
    "ax.set_zlim3d(-1, 1)\n",
    "line = ax.plot_surface(THETA,PHI,PHI)\n",
    "ani = animation.FuncAnimation(fig, anima, 100,fargs=(THETA, PHI, line), interval=100, blit=False)\n",
    "\n",
    "plt.show()"
   ]
  },
  {
   "cell_type": "markdown",
   "metadata": {},
   "source": [
    "La función \n",
    "```python\n",
    "def anima(num, theta, phi, line):\n",
    "```\n",
    "recibe el parámetro `num`, que representa el frame actual, `theta` y `phi`, resultados del `meshgrid` de sus vectores unidimensionales, y `line` es un objeto tipo `plt.plot_surface`. Aquí cambio nuestro paradigma para realizar animaciones, pues ya no usamos tuplas, y para actualizar simplemente limpiamos la pantalla con el comando\n",
    "```python\n",
    "ax.clear()\n",
    "```\n",
    "Como habrá podido notar, es indiferente el valor con el que inicializa `line`, pues será modificado en la primera iteración. Asimismo, hay que establecer los límites en cada iteración, porque `ax.clear()` retorna el eje a su posición inicial. \n",
    "\n",
    "El lector atento habrá podido notar que hay distintas formas de animar una única superficie. Probemos dejando $\\theta \\in [0,2\\pi]$ y $\\phi$ moviéndose de $0$ a $\\pi$:"
   ]
  },
  {
   "cell_type": "code",
   "execution_count": null,
   "metadata": {
    "collapsed": true
   },
   "outputs": [],
   "source": [
    "def anima(num, theta, phi, line):\n",
    "    ax.clear() #Limpiando el cuadro\n",
    "    ax.set_xlim3d(-1, 1)\n",
    "    ax.set_ylim3d(-1, 1) #Ejes manuales\n",
    "    ax.set_zlim3d(-1, 1)\n",
    "    line = ax.plot_surface(np.cos(phi[:,:num])*np.sin(theta[:,:num]), \n",
    "                           np.sin(phi[:,:num])*np.sin(theta[:,:num]), \n",
    "                           np.cos(theta[:,:num]))\n",
    "    return line\n",
    "    \n",
    "fig =plt.figure()\n",
    "ax=fig.add_subplot(111, projection=\"3d\")\n",
    "theta=np.linspace(0,np.pi, 100)\n",
    "phi=np.linspace(0,2*np.pi, 100)\n",
    "THETA, PHI=np.meshgrid(theta,phi)\n",
    "ax.set_xlim3d(-1, 1)\n",
    "ax.set_ylim3d(-1, 1)\n",
    "ax.set_zlim3d(-1, 1)\n",
    "line = ax.plot_surface(THETA,PHI,PHI)\n",
    "ani = animation.FuncAnimation(fig, anima, 100,fargs=(THETA, PHI, line), interval=100, blit=False)\n",
    "\n",
    "plt.show()"
   ]
  },
  {
   "cell_type": "markdown",
   "metadata": {},
   "source": [
    "Ahora dejemos $\\theta$ constante y movamos $\\phi$:"
   ]
  },
  {
   "cell_type": "code",
   "execution_count": null,
   "metadata": {
    "collapsed": true
   },
   "outputs": [],
   "source": [
    "def anima(num, theta, phi, line):\n",
    "    ax.clear() #Limpiando el cuadro\n",
    "    ax.set_xlim3d(-1, 1)\n",
    "    ax.set_ylim3d(-1, 1) #Ejes manuales\n",
    "    ax.set_zlim3d(-1, 1)\n",
    "    line = ax.plot_surface(np.cos(phi[:num,:])*np.sin(theta[:num,:]), \n",
    "                           np.sin(phi[:num,:])*np.sin(theta[:num,:]), \n",
    "                           np.cos(theta[:num,:]))\n",
    "    return line\n",
    "    \n",
    "fig =plt.figure()\n",
    "ax=fig.add_subplot(111, projection=\"3d\")\n",
    "theta=np.linspace(0,np.pi, 100)\n",
    "phi=np.linspace(0,2*np.pi, 100)\n",
    "THETA, PHI=np.meshgrid(theta,phi)\n",
    "ax.set_xlim3d(-1, 1)\n",
    "ax.set_ylim3d(-1, 1)\n",
    "ax.set_zlim3d(-1, 1)\n",
    "line = ax.plot_surface(THETA,PHI,PHI)\n",
    "ani = animation.FuncAnimation(fig, anima, 100,fargs=(THETA, PHI, line), interval=100, blit=False)\n",
    "\n",
    "plt.show()"
   ]
  },
  {
   "cell_type": "markdown",
   "metadata": {},
   "source": [
    "Al principio puede parecer complicado construir la función que realiza la animación; mas basta con determinar cómo se desea hacer la misma y tener en cuenta que al graficar se usan matrices cuadradas. Si tiene alguna dificultad en esto (reconozco que es complicado al principio) no dude en comentármelo. Aún así, si no queda del todo claro, recomiendo usar el bloque de abajo, modificando los `print` para obtener el resultado deseado, con el fin de aplicarlo al hacer la animación."
   ]
  },
  {
   "cell_type": "code",
   "execution_count": null,
   "metadata": {
    "collapsed": false
   },
   "outputs": [],
   "source": [
    "x=np.array([1,2,3,4])\n",
    "y=np.array([5,6,7,8])\n",
    "X,Y=np.meshgrid(x,y)\n",
    "print(X[:2])\n",
    "print(Y[:,:2])"
   ]
  },
  {
   "cell_type": "markdown",
   "metadata": {},
   "source": [
    "P.D. Los ejercicios de esta sección son complicados, pero satisfactorios."
   ]
  },
  {
   "cell_type": "markdown",
   "metadata": {},
   "source": [
    "## Referencias ##\n",
    "- http://www.nugnux.my.id/2014/12/3d-surface-plot-animation-using.html"
   ]
  },
  {
   "cell_type": "markdown",
   "metadata": {},
   "source": [
    "* * * \n",
    "Esta información puede distribuirse libremente."
   ]
  }
 ],
 "metadata": {
  "anaconda-cloud": {},
  "kernelspec": {
   "display_name": "Python [Root]",
   "language": "python",
   "name": "Python [Root]"
  },
  "language_info": {
   "codemirror_mode": {
    "name": "ipython",
    "version": 3
   },
   "file_extension": ".py",
   "mimetype": "text/x-python",
   "name": "python",
   "nbconvert_exporter": "python",
   "pygments_lexer": "ipython3",
   "version": "3.5.2"
  }
 },
 "nbformat": 4,
 "nbformat_minor": 0
}
