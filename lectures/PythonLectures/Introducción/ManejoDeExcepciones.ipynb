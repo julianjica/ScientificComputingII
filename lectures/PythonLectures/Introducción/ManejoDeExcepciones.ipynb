{
 "cells": [
  {
   "cell_type": "markdown",
   "metadata": {},
   "source": [
    "# Manejo de Excepciones #\n",
    "Cuando se hace un programa que está en interacción con un usuario, o cuando se involucran operaciones susceptibles a generar un error, se debe saber cómo tratar con acciones que se le salen de las manos a Python. El primer paso para evadir este tipo de imprevistos es conocerlos."
   ]
  },
  {
   "cell_type": "code",
   "execution_count": null,
   "metadata": {
    "collapsed": false
   },
   "outputs": [],
   "source": [
    "l=[2,3]\n",
    "l[3]"
   ]
  },
  {
   "cell_type": "code",
   "execution_count": null,
   "metadata": {
    "collapsed": false
   },
   "outputs": [],
   "source": [
    "l.magic()"
   ]
  },
  {
   "cell_type": "code",
   "execution_count": null,
   "metadata": {
    "collapsed": false
   },
   "outputs": [],
   "source": [
    "print(a)"
   ]
  },
  {
   "cell_type": "code",
   "execution_count": null,
   "metadata": {
    "collapsed": false
   },
   "outputs": [],
   "source": [
    "int(\"Hola\")"
   ]
  },
  {
   "cell_type": "markdown",
   "metadata": {},
   "source": [
    "La sintaxis para tratar con algunos de estos problemas es la siguiente:\n",
    "\n",
    "```python\n",
    "try:\n",
    "   some code\n",
    "except SomeError:\n",
    "   another code\n",
    "```\n",
    "Identado respeco al `try` se coloca la sección del código susceptible a generar el error `SomeError`, y si el error ocurre, se procede a ejecutar el código de `except`. Por ejemplo, podría pedirle un número al usuario, y si no le ingresa un número, que muestre una advertencia, y que siga pidiendo el número."
   ]
  },
  {
   "cell_type": "code",
   "execution_count": null,
   "metadata": {
    "collapsed": false
   },
   "outputs": [],
   "source": [
    "check=False\n",
    "while(not(check)):\n",
    "    try:\n",
    "        a=input(\"Ingrese un número > \")\n",
    "        a=int(a)\n",
    "        check=True\n",
    "    except ValueError:\n",
    "        print(\"%s no se puede convertir en un número, intente de nuevo.\"%a)\n",
    "\n",
    "print(\"Se convirtió exitosamente a %i en un número\"%a)        "
   ]
  },
  {
   "cell_type": "markdown",
   "metadata": {},
   "source": [
    "Es posible manejar varios errores colocando un `except` para cada uno."
   ]
  },
  {
   "cell_type": "code",
   "execution_count": null,
   "metadata": {
    "collapsed": false
   },
   "outputs": [],
   "source": [
    "l=[\"1\",\"2\",\"3\",\"4\",\"Hola\"]\n",
    "\n",
    "try:\n",
    "    a=int(input(\"Cuál elemento de l desea convertir a número? > \"))\n",
    "    b=int(l[a])\n",
    "\n",
    "except IndexError:\n",
    "    print(\"La lista no es tan larga\")\n",
    "except ValueError:\n",
    "    print(\"No se pudo convertir algo en número\")"
   ]
  },
  {
   "cell_type": "markdown",
   "metadata": {},
   "source": [
    "Cuando no se sabe el error que puede salir, se coloca el `except` solo.\n",
    "```python\n",
    "try:\n",
    "   some code\n",
    "except:\n",
    "   another code\n",
    "```\n",
    "No se acostumbra a hacer ésto, porque es una mala práctica."
   ]
  }
 ],
 "metadata": {
  "anaconda-cloud": {},
  "kernelspec": {
   "display_name": "Python [anaconda3]",
   "language": "python",
   "name": "Python [anaconda3]"
  },
  "language_info": {
   "codemirror_mode": {
    "name": "ipython",
    "version": 3
   },
   "file_extension": ".py",
   "mimetype": "text/x-python",
   "name": "python",
   "nbconvert_exporter": "python",
   "pygments_lexer": "ipython3",
   "version": "3.5.2"
  }
 },
 "nbformat": 4,
 "nbformat_minor": 0
}
