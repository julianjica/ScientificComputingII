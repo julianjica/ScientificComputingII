{
 "cells": [
  {
   "cell_type": "markdown",
   "metadata": {},
   "source": [
    "# Fácil # "
   ]
  },
  {
   "cell_type": "markdown",
   "metadata": {},
   "source": [
    "1) Implemente una función que reciba un número natural mayor que 1, y le diga si ese número es primo o no: si es primo, deberá retornar `True`, si no, `False`."
   ]
  },
  {
   "cell_type": "code",
   "execution_count": null,
   "metadata": {
    "collapsed": false
   },
   "outputs": [],
   "source": [
    "def isPrime(a):\n",
    "    value=True\n",
    "    for x in range(2,int(a/2)+1):\n",
    "        if(a%x==0):\n",
    "            value=False\n",
    "            break\n",
    "    return value"
   ]
  },
  {
   "cell_type": "markdown",
   "metadata": {},
   "source": [
    "2) Con la función del ejercicio anterior, en una línea de código (a través de listas por comprensión), cree una lista con todos los números primos de 2 hasta 1000."
   ]
  },
  {
   "cell_type": "code",
   "execution_count": null,
   "metadata": {
    "collapsed": false
   },
   "outputs": [],
   "source": [
    "print([x for x in range(2,1001) if isPrime(x)])"
   ]
  },
  {
   "cell_type": "markdown",
   "metadata": {},
   "source": [
    "3) Defina una función que reciba una cadena y le retorne otra cadena idéntica a la que recibió, pero sin vocales. "
   ]
  },
  {
   "cell_type": "code",
   "execution_count": null,
   "metadata": {
    "collapsed": false
   },
   "outputs": [],
   "source": [
    "def eraseVocals(a):\n",
    "    result=\"\"\n",
    "    for x in a:\n",
    "        if not(x==\"a\" or x==\"e\" or x==\"i\" or x==\"o\" or x==\"u\" or\\\n",
    "              x==\"A\" or x==\"E\" or x==\"I\" or x==\"O\" or x==\"U\"):\n",
    "            result+=x\n",
    "    return result\n",
    "    "
   ]
  },
  {
   "cell_type": "code",
   "execution_count": null,
   "metadata": {
    "collapsed": false
   },
   "outputs": [],
   "source": [
    "eraseVocals(\"este es un elegante texto de prueba\")"
   ]
  },
  {
   "cell_type": "markdown",
   "metadata": {},
   "source": [
    "4) Los planetas pueden ser rocosos ó gaseosos, no ambas, pero ambos tipos de planeta son planetas. ¿Cómo usar la herencia para definir ambos tipos de planetas?"
   ]
  },
  {
   "cell_type": "code",
   "execution_count": null,
   "metadata": {
    "collapsed": false
   },
   "outputs": [],
   "source": [
    "class Planeta:\n",
    "    def __init__(self, masa, radio, posicion):\n",
    "        self.masa=masa\n",
    "        self.radio=radio\n",
    "        self.posicion=posicion\n",
    "    \n",
    "    def orbitar(self):\n",
    "        pass\n",
    "\n",
    "class Rocoso(Planeta):\n",
    "    def __init__(self, masa, radio, posicion, radio_continental):\n",
    "        Planeta.__init__(self, masa, radio, posicion)\n",
    "        self.radio_continental=radio_continental\n",
    "    \n",
    "    def terremoto(self, magnitud, zona):\n",
    "        pass\n",
    "\n",
    "class Gaseoso(Planeta):\n",
    "    def __init__(self, masa, radio, posicion, tiene_anillos):\n",
    "        Planeta.__init__(self, masa, radio, posicion)\n",
    "        self.tiene_anillos=tiene_anillos"
   ]
  },
  {
   "cell_type": "markdown",
   "metadata": {},
   "source": [
    "5) Cree un generador para obtener todos los números impares de 1 a 100. Súmelos y encuentre si existe un $n$ en los números naturales cuyo cuadrado sea igual a dicha suma."
   ]
  },
  {
   "cell_type": "code",
   "execution_count": null,
   "metadata": {
    "collapsed": true
   },
   "outputs": [],
   "source": [
    "def generator(a):\n",
    "    for x in range(1,a+1,2):\n",
    "        yield x\n",
    "count=0\n",
    "for x in generator(100):\n",
    "    count+=x"
   ]
  },
  {
   "cell_type": "code",
   "execution_count": null,
   "metadata": {
    "collapsed": false
   },
   "outputs": [],
   "source": [
    "count==50**2"
   ]
  },
  {
   "cell_type": "markdown",
   "metadata": {},
   "source": [
    "# Intermedio #"
   ]
  },
  {
   "cell_type": "markdown",
   "metadata": {},
   "source": [
    "1) Construya una sucesión recursiva que calcule el $n-$ésimo término de la sucesión de Fibonacci."
   ]
  },
  {
   "cell_type": "code",
   "execution_count": null,
   "metadata": {
    "collapsed": true
   },
   "outputs": [],
   "source": [
    "def fibonacci(a):\n",
    "    if (a==1 or a==2):\n",
    "        return 1\n",
    "    else:\n",
    "        return fibonacci(a-1)+fibonacci(a-2)"
   ]
  },
  {
   "cell_type": "code",
   "execution_count": null,
   "metadata": {
    "collapsed": false
   },
   "outputs": [],
   "source": [
    "fibonacci(6)"
   ]
  },
  {
   "cell_type": "markdown",
   "metadata": {},
   "source": [
    "2) Suponga que las listas de números son vectores. Construya una función que calcule el producto punto entre dos vectores. ¿Cómo se definiría por extensión el producto punto entre un vector de números naturales y un vector de cadenas?"
   ]
  },
  {
   "cell_type": "code",
   "execution_count": null,
   "metadata": {
    "collapsed": true
   },
   "outputs": [],
   "source": [
    "def dotProduct(a,b):\n",
    "    result=0\n",
    "    for x in range(len(a)):\n",
    "        result+=a[x]*b[x]\n",
    "    \n",
    "    return result\n",
    "\n",
    "def dotStrProduct(a,b):\n",
    "    result=\"\"\n",
    "    for x in range(len(a)):\n",
    "        result+=a[x]*b[x]\n",
    "    return result"
   ]
  },
  {
   "cell_type": "code",
   "execution_count": null,
   "metadata": {
    "collapsed": false
   },
   "outputs": [],
   "source": [
    "print(dotProduct([2,1], [3,4]))\n",
    "print(dotStrProduct([\"Hola \", \"Mundo \"], [2,3]))"
   ]
  },
  {
   "cell_type": "markdown",
   "metadata": {},
   "source": [
    "3) Construya una función que reciba dos números naturales y retorne su máximo común divisor."
   ]
  },
  {
   "cell_type": "code",
   "execution_count": null,
   "metadata": {
    "collapsed": true
   },
   "outputs": [],
   "source": [
    "def factors(a):\n",
    "    \"Calcula la descomposición aritmética de un número en sus factores primos\"\n",
    "    primos=[2]\n",
    "    for x in range(3,a+1):\n",
    "        esPrimo=True\n",
    "    \n",
    "        for y in primos:\n",
    "            if(x%y==0):\n",
    "                esPrimo=False\n",
    "                break\n",
    "        if(esPrimo):\n",
    "            primos.append(x)\n",
    "    \n",
    "    factores=[x for x in primos if a%x==0]\n",
    "    descomposicion=[]\n",
    "    for x in factores:\n",
    "        while(a%x==0):\n",
    "            descomposicion.append(x)\n",
    "            a=int(a/x)\n",
    "    return descomposicion\n",
    "\n",
    "def mcd(a,b):\n",
    "    factors_a=factors(a)\n",
    "    factors_b=factors(b)\n",
    "    result=1\n",
    "    for x in factors_a:\n",
    "        for y in factors_b:\n",
    "            if(x==y):\n",
    "                result=result*y\n",
    "                factors_b.remove(y)\n",
    "                break\n",
    "    return result"
   ]
  },
  {
   "cell_type": "code",
   "execution_count": null,
   "metadata": {
    "collapsed": false
   },
   "outputs": [],
   "source": [
    "mcd(16,208)"
   ]
  },
  {
   "cell_type": "markdown",
   "metadata": {},
   "source": [
    "4) Construya una función que reciba dos números naturales y retorne su mínimo común múltiplo"
   ]
  },
  {
   "cell_type": "code",
   "execution_count": null,
   "metadata": {
    "collapsed": true
   },
   "outputs": [],
   "source": [
    "def mcm(a,b):\n",
    "    factors_a=factors(a)\n",
    "    factors_b=factors(b)\n",
    "    conjunto_a=set(factors_a)\n",
    "    conjunto_b=set(factors_b)\n",
    "    lista=[]\n",
    "    \n",
    "    for x in conjunto_a:\n",
    "        m=max([factors_a.count(x), factors_b.count(x)])\n",
    "        for y in range(m):\n",
    "            lista.append(x)\n",
    "    \n",
    "    resta=conjunto_b-conjunto_a\n",
    "    for x in resta:\n",
    "        for y in range(resta.count(x)):\n",
    "            lista.append(x)\n",
    "    result=1\n",
    "    for x in lista:\n",
    "        result=result*x\n",
    "    return result"
   ]
  },
  {
   "cell_type": "code",
   "execution_count": null,
   "metadata": {
    "collapsed": false
   },
   "outputs": [],
   "source": [
    "mcm(318,16)"
   ]
  },
  {
   "cell_type": "markdown",
   "metadata": {},
   "source": [
    "5) Cada letra del abecedario tiene asociada un número que representa su posición: a=1, b=2, c=3, d=4, etc. Cree una función que reciba una cadena, y determine la suma de los valores de todos los caracteres que la componen."
   ]
  },
  {
   "cell_type": "code",
   "execution_count": null,
   "metadata": {
    "collapsed": true
   },
   "outputs": [],
   "source": [
    "def alphabet(s):\n",
    "    alpha=[\"a\",\"b\",\"c\",\"d\",\"e\",\"f\",\"g\",\"h\",\"i\",\"j\",\"k\",\"l\",\"m\",\"n\",\"o\",\"p\",\"q\",\"r\",\"s\",\"t\",\"u\",\"v\",\"w\",\n",
    "          \"x\",\"y\",\"z\"]\n",
    "    result=0\n",
    "    for x in s:\n",
    "        result+=1+alpha.index(x)\n",
    "    return result"
   ]
  },
  {
   "cell_type": "code",
   "execution_count": null,
   "metadata": {
    "collapsed": false
   },
   "outputs": [],
   "source": [
    "alphabet(\"aabcj\")"
   ]
  },
  {
   "cell_type": "markdown",
   "metadata": {},
   "source": [
    "# Difícil # "
   ]
  },
  {
   "cell_type": "markdown",
   "metadata": {},
   "source": [
    "1) La otra conjetura de Goldbach (Adaptado de https://projecteuler.net/problem=46): según Christian Goldbach, cada número impar compuesto (no primo) se puede escribir como la suma de un número primo y dos veces un cuadrado, por ejemplo:\n",
    "\n",
    "$$9 = 7 + 2×1^2$$\n",
    "$$15 = 7 + 2×2^2$$\n",
    "$$21 = 3 + 2×3^2$$\n",
    "$$25 = 7 + 2×3^2$$\n",
    "$$27 = 19 + 2×2^2$$\n",
    "$$33 = 31 + 2×1^2$$\n",
    "Esta conjetura resulta ser falsa. Use funciones de la manera más adecuada posible para comprobar cuál es el menor impar compuesto que incumple la conjetura."
   ]
  },
  {
   "cell_type": "code",
   "execution_count": null,
   "metadata": {
    "collapsed": true
   },
   "outputs": [],
   "source": [
    "def isGold(a):\n",
    "    if isPrime(a):\n",
    "        return \"%i es primo\"%a\n",
    "    else:\n",
    "        primos=[x for x in range(2,a) if isPrime(x)]\n",
    "        for x in primos:\n",
    "            \n",
    "            count=1\n",
    "            result=x+2*count**2\n",
    "            while result<a:\n",
    "                count+=1\n",
    "                result=x+2*count**2\n",
    "                \n",
    "            if (result==a):\n",
    "                return \"%i=%i+2x%i**2\"%(a,x, count)\n",
    "        return False"
   ]
  },
  {
   "cell_type": "code",
   "execution_count": null,
   "metadata": {
    "collapsed": false
   },
   "outputs": [],
   "source": [
    "count=3\n",
    "r=isGold(count)\n",
    "while (r!=False):\n",
    "    count+=2\n",
    "    r=isGold(count)\n",
    "    print(r, end=\", \") #Python 2, print r+\",\",\n",
    "print(\"%i es el menor impar no primo que incumple la conjetura.\"%count) #Respuesta: 5777"
   ]
  },
  {
   "cell_type": "markdown",
   "metadata": {},
   "source": [
    "2) Cree la clase \"Matriz\", para que corresponda con la definición matemática usual de matriz. Defina en ella los métodos para obtener la traza de ella, su mayor elemento, su menor elemento y su tamaño. Defina una función que reciba dos matrices, y le retorne una matriz que sea la suma de ambas matrices; defina otra función que reciba dos matrices y le retorne la multiplicación (si es posible) de ambas.\n",
    "\n",
    "En wikipedia: https://es.wikipedia.org/wiki/Matriz_(matem%C3%A1ticas) puede encontrar las propiedades de las matrices, en caso de no recordarlas."
   ]
  },
  {
   "cell_type": "code",
   "execution_count": null,
   "metadata": {
    "collapsed": true
   },
   "outputs": [],
   "source": [
    "class Matriz:\n",
    "    \"Admite matrices cuadradas\"\n",
    "    \n",
    "    def __init__(self, lista):\n",
    "        self.lista=lista\n",
    "    \n",
    "    def traza(self):\n",
    "        return sum([self.lista[x][x] for x in range(len(self.lista))])\n",
    "    \n",
    "    def maxValue(self):\n",
    "        result=self.lista[0][0]\n",
    "        for x in range(len(self.lista)):\n",
    "            for y in range(len(self.lista)):\n",
    "                if (result<self.lista[x][y]):\n",
    "                    result=self.lista[x][y]\n",
    "        return result\n",
    "    \n",
    "    def minValue(self):\n",
    "        result=self.lista[0][0]\n",
    "        for x in range(len(self.lista)):\n",
    "            for y in range(len(self.lista)):\n",
    "                if (result>self.lista[x][y]):\n",
    "                    result=self.lista[x][y]\n",
    "        return result\n",
    "    \n",
    "    def sumaMatrices(self, another_matrix):\n",
    "        m=[]\n",
    "        for x in range(len(self.lista)):\n",
    "            l=[]\n",
    "            for y in range(len(self.lista)):\n",
    "                l.append(self.lista[x][y]+another_matrix.lista[x][y])\n",
    "            m.append(l)    \n",
    "        return Matriz(m)\n",
    "    \n",
    "    def multMatrices(self, another_matrix):\n",
    "        m=[]\n",
    "        for x in range(len(self.lista)):\n",
    "            l=[]\n",
    "            for y in range(len(self.lista)):\n",
    "                suma=0\n",
    "                for z in range(len(self.lista)): \n",
    "                    suma+=self.lista[x][z]*another_matrix.lista[z][y]\n",
    "                l.append(suma)\n",
    "            m.append(l)    \n",
    "        return Matriz(m)"
   ]
  },
  {
   "cell_type": "code",
   "execution_count": null,
   "metadata": {
    "collapsed": false
   },
   "outputs": [],
   "source": [
    "a=Matriz([[2,2],[3,4]])\n",
    "b=Matriz([[1,6],[5,2]])\n",
    "\n",
    "print(a.traza())\n",
    "print(b.maxValue())\n",
    "print(a.minValue())\n",
    "print(a.sumaMatrices(b).lista)\n",
    "print(a.multMatrices(b).lista)"
   ]
  }
 ],
 "metadata": {
  "anaconda-cloud": {},
  "kernelspec": {
   "display_name": "Python [anaconda3]",
   "language": "python",
   "name": "Python [anaconda3]"
  },
  "language_info": {
   "codemirror_mode": {
    "name": "ipython",
    "version": 3
   },
   "file_extension": ".py",
   "mimetype": "text/x-python",
   "name": "python",
   "nbconvert_exporter": "python",
   "pygments_lexer": "ipython3",
   "version": "3.5.2"
  }
 },
 "nbformat": 4,
 "nbformat_minor": 0
}
