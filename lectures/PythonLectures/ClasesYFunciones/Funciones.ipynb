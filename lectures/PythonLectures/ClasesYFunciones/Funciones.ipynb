{
 "cells": [
  {
   "cell_type": "markdown",
   "metadata": {},
   "source": [
    "# Funciones #\n",
    "Las funciones son bastante comunes en los lenguajes orientados a objetos. Su función principal es ahorrar código: un segmento de código que se necesite varias veces se puede escribir en una función, y puede ser llamado en cualquier momento. También se usan en algo un poco más complicado, la recursión. Veamos la sintaxis."
   ]
  },
  {
   "cell_type": "code",
   "execution_count": null,
   "metadata": {
    "collapsed": true
   },
   "outputs": [],
   "source": [
    "def miPrimeraFuncion(cadena):\n",
    "    print(\"Hola %s!\"%cadena)"
   ]
  },
  {
   "cell_type": "markdown",
   "metadata": {},
   "source": [
    "Observe que se colocan los dos puntos (:) y se identa. Al ejecutar ésto, no pasa nada; la función se definió, pero no se ha ejecutado. Para ejecutarla hay que llamarla."
   ]
  },
  {
   "cell_type": "code",
   "execution_count": null,
   "metadata": {
    "collapsed": false
   },
   "outputs": [],
   "source": [
    "miPrimeraFuncion(\"chicos\")"
   ]
  },
  {
   "cell_type": "markdown",
   "metadata": {},
   "source": [
    "Una función puede tener múltiples argumentos; ellos son sensibles al orden: es importante colocarlos como se debe, ya que Python no requiere especificar el tipo de dato de una variable, lo cual puede ser una desventaja en este caso."
   ]
  },
  {
   "cell_type": "code",
   "execution_count": null,
   "metadata": {
    "collapsed": true
   },
   "outputs": [],
   "source": [
    "def multiplicacion(a,b):\n",
    "    \"Multiplica a y b, y retorna el resultado\"\n",
    "    return a*b"
   ]
  },
  {
   "cell_type": "markdown",
   "metadata": {},
   "source": [
    "La palabra clave `return` retorna su argumento a una variable a la ejecución principal, y termina la función. Lo que está entre comillas pasa a ser parte de la documentación, por lo que si se usa `help()`, se obtiene lo que está dentro de estas comillas. Es una buena práctica explicar qué hace cada función."
   ]
  },
  {
   "cell_type": "code",
   "execution_count": null,
   "metadata": {
    "collapsed": false
   },
   "outputs": [],
   "source": [
    "help(multiplicacion)"
   ]
  },
  {
   "cell_type": "markdown",
   "metadata": {},
   "source": [
    "A continuación un ejemplo de lo que se mencionó antes, hay que tener cuidado con el tipo de dato que se usa como argumento en una función, porque en general se pueden obtener resultados distintos."
   ]
  },
  {
   "cell_type": "code",
   "execution_count": null,
   "metadata": {
    "collapsed": false
   },
   "outputs": [],
   "source": [
    "print(multiplicacion(3,3))\n",
    "print(multiplicacion(3,\"3\"))"
   ]
  },
  {
   "cell_type": "markdown",
   "metadata": {},
   "source": [
    "Si se desea darle a un argumento un valor predeterminado, se usa "
   ]
  },
  {
   "cell_type": "code",
   "execution_count": null,
   "metadata": {
    "collapsed": true
   },
   "outputs": [],
   "source": [
    "def prof(nombre, profesion=\"plomero\"):\n",
    "    print(\"Eres \"+nombre+\", un \"+profesion)"
   ]
  },
  {
   "cell_type": "code",
   "execution_count": null,
   "metadata": {
    "collapsed": false
   },
   "outputs": [],
   "source": [
    "prof(\"Camilo\")\n",
    "prof(\"Daniel\", \"matemático\")"
   ]
  },
  {
   "cell_type": "markdown",
   "metadata": {},
   "source": [
    "Como se observa, se puede pasar sólo el nombre, porque la profesión es predeterminada. Si no fuere así, habría que pasar todos los argumentos que pide la función. A veces una función no debería tener un número de argumentos fijo. Por ejemplo, si queremos multiplicar varios números entre sí, se usa `*args` (o argumentos no tecleados, quizá). Puede llamarse `*tomates` o `*vinagre`, lo importante es el asterisco al principio."
   ]
  },
  {
   "cell_type": "code",
   "execution_count": null,
   "metadata": {
    "collapsed": true
   },
   "outputs": [],
   "source": [
    "def mult2(a, *args):\n",
    "    result=a\n",
    "    for x in args:\n",
    "        result=result*x\n",
    "    return(result)"
   ]
  },
  {
   "cell_type": "code",
   "execution_count": null,
   "metadata": {
    "collapsed": false
   },
   "outputs": [],
   "source": [
    "print(mult2(1))\n",
    "print(mult2(1,2,3))\n",
    "print(mult2(\"Hola\",2,3))"
   ]
  },
  {
   "cell_type": "markdown",
   "metadata": {},
   "source": [
    "Quizá sea un poco desorganizado ingresar los argumentos no tecleados, por lo que existe una manera de identificar cada argumento con una llave, como en un **diccionario**. Para ello se usa los argumentos tecleados, `**kwargs`. De nuevo, lo único que importa son los dos asteriscos al principio."
   ]
  },
  {
   "cell_type": "code",
   "execution_count": null,
   "metadata": {
    "collapsed": true
   },
   "outputs": [],
   "source": [
    "def tecleados(**kwargs):\n",
    "    for x in kwargs:\n",
    "        print(x)\n",
    "    print(\"\")\n",
    "    for x in kwargs:\n",
    "        print(kwargs[x])"
   ]
  },
  {
   "cell_type": "code",
   "execution_count": null,
   "metadata": {
    "collapsed": false
   },
   "outputs": [],
   "source": [
    "tecleados(hola=\"mundo\", n=3, k=True)"
   ]
  },
  {
   "cell_type": "markdown",
   "metadata": {},
   "source": [
    "## Generadores ##\n",
    "La mejor opción para ahorrar memoria. Son interadores que no guardan toda la información de una lista, sino que la generan elemento por elemento, y sólo se puede usar una vez. Se pueden usar como listas, que se usan una vez."
   ]
  },
  {
   "cell_type": "code",
   "execution_count": null,
   "metadata": {
    "collapsed": true
   },
   "outputs": [],
   "source": [
    "def contador(a,b):\n",
    "    for x in range(a,b):\n",
    "        yield x**2 #Hace el papel de append"
   ]
  },
  {
   "cell_type": "code",
   "execution_count": null,
   "metadata": {
    "collapsed": false
   },
   "outputs": [],
   "source": [
    "for x in contador(3,9):\n",
    "    print(x)"
   ]
  },
  {
   "cell_type": "markdown",
   "metadata": {},
   "source": [
    "Para profundizar un poco más en las ventajas y características de los generadores, revise el siguiente vínculo:\n",
    "https://stackoverflow.com/questions/231767/what-does-the-yield-keyword-do"
   ]
  },
  {
   "cell_type": "markdown",
   "metadata": {},
   "source": [
    "## Recursividad ##\n",
    "Una función se puede llamar a sí misma para realizar un procedimiento. Se usa a veces, para ahorrar código y cuando la lógica de las operaciones sugiere el uso de una función recursiva. Las desventajas más importantes de usar este tipo de funciones es que son a veces difíciles de implementar, y consecuentemente tienen una afinidad a generar loops infinitos; otra desventaja notable es que suele tomar más tiempo y memoria que una implementación usual.\n",
    "\n",
    "El ejemplo más común de aplicación de la recursión es el factorial, definido sobre los naturales como:\n",
    "\n",
    "$$n!=1\\times 2\\times 3 \\times\\dots\\times n.$$\n",
    "Y por definición, $0!=1.$ Es sencillo comprobar que $n!=n\\times(n-1)!=n\\times(n-1)\\times(n-2)!=\\dots$ Esta idea natural es la que se usará para definir de manera recursiva el factorial. "
   ]
  },
  {
   "cell_type": "code",
   "execution_count": null,
   "metadata": {
    "collapsed": false
   },
   "outputs": [],
   "source": [
    "def factorial(n):\n",
    "    if n>1:\n",
    "        return n*factorial(n-1)\n",
    "    elif n==1:\n",
    "        return n\n",
    "    elif n==0:\n",
    "        return 1\n",
    "\n",
    "for x in range(11):\n",
    "    print(\"El factorial de %i es %i\"%(x,factorial(x)))"
   ]
  },
  {
   "cell_type": "markdown",
   "metadata": {},
   "source": [
    "En general, cualquier sucesión recursiva se puede escribir en términos de una función recursiva. Por ejemplo, considere la sucesión:\n",
    "$$u_0=3$$\n",
    "$$u_n=4n+1$$\n",
    "Para calcular el $n-$ésimo término de la sucesión, se usa la siguiente función recursiva:"
   ]
  },
  {
   "cell_type": "code",
   "execution_count": null,
   "metadata": {
    "collapsed": false
   },
   "outputs": [],
   "source": [
    "def sequence(n):\n",
    "    if n>0:\n",
    "        return 4*sequence(n-1)+1\n",
    "    elif n==0:\n",
    "        return 3\n",
    "print(\"Los primeros 10 términos de la sucesión son:\")\n",
    "for x in range(10):\n",
    "    print(sequence(x))"
   ]
  }
 ],
 "metadata": {
  "kernelspec": {
   "display_name": "Python [anaconda3]",
   "language": "python",
   "name": "Python [anaconda3]"
  },
  "language_info": {
   "codemirror_mode": {
    "name": "ipython",
    "version": 3
   },
   "file_extension": ".py",
   "mimetype": "text/x-python",
   "name": "python",
   "nbconvert_exporter": "python",
   "pygments_lexer": "ipython3",
   "version": "3.5.2"
  }
 },
 "nbformat": 4,
 "nbformat_minor": 0
}
