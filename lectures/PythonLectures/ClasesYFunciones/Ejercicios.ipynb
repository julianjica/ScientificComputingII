{
 "cells": [
  {
   "cell_type": "markdown",
   "metadata": {},
   "source": [
    "# Fácil # "
   ]
  },
  {
   "cell_type": "markdown",
   "metadata": {},
   "source": [
    "1) Implemente una función que reciba un número natural mayor que 1, y le diga si ese número es primo o no: si es primo, deberá retornar `True`, si no, `False`."
   ]
  },
  {
   "cell_type": "code",
   "execution_count": null,
   "metadata": {
    "collapsed": true
   },
   "outputs": [],
   "source": []
  },
  {
   "cell_type": "markdown",
   "metadata": {},
   "source": [
    "2) Con la función del ejercicio anterior, en una línea de código (a través de listas por comprensión), cree una lista con todos los números primos de 2 hasta 1000."
   ]
  },
  {
   "cell_type": "code",
   "execution_count": null,
   "metadata": {
    "collapsed": true
   },
   "outputs": [],
   "source": []
  },
  {
   "cell_type": "markdown",
   "metadata": {},
   "source": [
    "3) Defina una función que reciba una cadena y le retorne otra cadena idéntica a la que recibió, pero sin vocales. "
   ]
  },
  {
   "cell_type": "code",
   "execution_count": null,
   "metadata": {
    "collapsed": true
   },
   "outputs": [],
   "source": []
  },
  {
   "cell_type": "markdown",
   "metadata": {},
   "source": [
    "4) Los planetas pueden ser rocosos ó gaseosos, no ambas, pero ambos tipos de planeta son planetas. ¿Cómo usar la herencia para definir ambos tipos de planetas?"
   ]
  },
  {
   "cell_type": "code",
   "execution_count": null,
   "metadata": {
    "collapsed": true
   },
   "outputs": [],
   "source": []
  },
  {
   "cell_type": "markdown",
   "metadata": {},
   "source": [
    "5) Cree un generador para obtener todos los números impares de 1 a 100. Súmelos y encuentre si existe un $n$ en los números naturales cuyo cuadrado sea igual a dicha suma."
   ]
  },
  {
   "cell_type": "code",
   "execution_count": null,
   "metadata": {
    "collapsed": true
   },
   "outputs": [],
   "source": []
  },
  {
   "cell_type": "markdown",
   "metadata": {},
   "source": [
    "# Intermedio #"
   ]
  },
  {
   "cell_type": "markdown",
   "metadata": {},
   "source": [
    "1) Construya una sucesión recursiva que calcule el $n-$ésimo término de la sucesión de Fibonacci."
   ]
  },
  {
   "cell_type": "code",
   "execution_count": null,
   "metadata": {
    "collapsed": true
   },
   "outputs": [],
   "source": []
  },
  {
   "cell_type": "markdown",
   "metadata": {},
   "source": [
    "2) Suponga que las listas de números son vectores. Construya una función que calcule el producto punto entre dos vectores. ¿Cómo se definiría por extensión el producto punto entre un vector de números naturales y un vector de cadenas?"
   ]
  },
  {
   "cell_type": "code",
   "execution_count": null,
   "metadata": {
    "collapsed": true
   },
   "outputs": [],
   "source": []
  },
  {
   "cell_type": "markdown",
   "metadata": {},
   "source": [
    "3) Construya una función que reciba dos números naturales y retorne su máximo común divisor."
   ]
  },
  {
   "cell_type": "code",
   "execution_count": null,
   "metadata": {
    "collapsed": true
   },
   "outputs": [],
   "source": []
  },
  {
   "cell_type": "markdown",
   "metadata": {},
   "source": [
    "4) Construya una función que reciba dos números naturales y retorne su mínimo común múltiplo"
   ]
  },
  {
   "cell_type": "code",
   "execution_count": null,
   "metadata": {
    "collapsed": true
   },
   "outputs": [],
   "source": []
  },
  {
   "cell_type": "markdown",
   "metadata": {},
   "source": [
    "5) Cada letra del abecedario tiene asociada un número que representa su posición: a=1, b=2, c=3, d=4, etc. Cree una función que reciba una cadena, y determine la suma de los valores de todos los caracteres que la componen."
   ]
  },
  {
   "cell_type": "code",
   "execution_count": null,
   "metadata": {
    "collapsed": true
   },
   "outputs": [],
   "source": []
  },
  {
   "cell_type": "markdown",
   "metadata": {},
   "source": [
    "# Difícil # "
   ]
  },
  {
   "cell_type": "markdown",
   "metadata": {},
   "source": [
    "1) La otra conjetura de Goldbach (Adaptado de https://projecteuler.net/problem=46): según Christian Goldbach, cada número impar compuesto (no primo) se puede escribir como la suma de un número primo y dos veces un cuadrado, por ejemplo:\n",
    "\n",
    "$$9 = 7 + 2×1^2$$\n",
    "$$15 = 7 + 2×2^2$$\n",
    "$$21 = 3 + 2×3^2$$\n",
    "$$25 = 7 + 2×3^2$$\n",
    "$$27 = 19 + 2×2^2$$\n",
    "$$33 = 31 + 2×1^2$$\n",
    "Esta conjetura resulta ser falsa. Use funciones de la manera más adecuada posible para comprobar cuál es el menor impar compuesto que incumple la conjetura."
   ]
  },
  {
   "cell_type": "code",
   "execution_count": null,
   "metadata": {
    "collapsed": true
   },
   "outputs": [],
   "source": []
  },
  {
   "cell_type": "markdown",
   "metadata": {},
   "source": [
    "2) Cree la clase \"Matriz\", para que corresponda con la definición matemática usual de matriz. Defina en ella los métodos para obtener la traza de ella, su mayor elemento, su menor elemento y su tamaño. Defina una función que reciba dos matrices, y le retorne una matriz que sea la suma de ambas matrices; defina otra función que reciba dos matrices y le retorne la multiplicación (si es posible) de ambas.\n",
    "\n",
    "En wikipedia: https://es.wikipedia.org/wiki/Matriz_(matem%C3%A1ticas) puede encontrar las propiedades de las matrices, en caso de no recordarlas."
   ]
  },
  {
   "cell_type": "code",
   "execution_count": null,
   "metadata": {
    "collapsed": true
   },
   "outputs": [],
   "source": []
  }
 ],
 "metadata": {
  "anaconda-cloud": {},
  "kernelspec": {
   "display_name": "Python [anaconda3]",
   "language": "python",
   "name": "Python [anaconda3]"
  },
  "language_info": {
   "codemirror_mode": {
    "name": "ipython",
    "version": 3
   },
   "file_extension": ".py",
   "mimetype": "text/x-python",
   "name": "python",
   "nbconvert_exporter": "python",
   "pygments_lexer": "ipython3",
   "version": "3.5.2"
  }
 },
 "nbformat": 4,
 "nbformat_minor": 0
}
