{
 "cells": [
  {
   "cell_type": "markdown",
   "metadata": {},
   "source": [
    "# Clases #\n",
    "Los lenguajes orientados a objetos le permiten al programador crear sus propios objetos, aparte de los tipos de datos primitivos y los objetos compuestos como listas y diccionarios. En `Python`, se le llaman a estos objetos **clases**.\n",
    "\n",
    "Una **clase** se compone de dos elementos fundamentales, el primero se llama **atributo**, nombre con el cual se denota a objetos propios de la clase; por ejemplo, una persona tiene como atributo su edad (un número entero). El segundo se llama **método**, y es una función propia de la **clase**; se encarga de efectuar acciones que involucren (en la mayoría de los casos) los **atributos**.\n",
    "\n",
    "Para crear un objeto se usa la siguiente sintaxis"
   ]
  },
  {
   "cell_type": "code",
   "execution_count": null,
   "metadata": {
    "collapsed": true
   },
   "outputs": [],
   "source": [
    "class Caja:\n",
    "    \"Esta caja tiene por dimensiones x,y,z\"\n",
    "    def __init__(self,width,heigh,length):\n",
    "        self.x=width\n",
    "        self.y=heigh\n",
    "        self.z=length"
   ]
  },
  {
   "cell_type": "markdown",
   "metadata": {},
   "source": [
    "Hemos creado un objeto llamado Caja. El `string` que está justo después de \n",
    "```python\n",
    "class Caja:\n",
    "```\n",
    "Se llama documentación del objeto, podemos acceder a ella si escribimos la siguiente instrucción"
   ]
  },
  {
   "cell_type": "code",
   "execution_count": null,
   "metadata": {
    "collapsed": false
   },
   "outputs": [],
   "source": [
    "Caja.__doc__"
   ]
  },
  {
   "cell_type": "markdown",
   "metadata": {},
   "source": [
    "Ésto se usa para orientar a los usuarios de un código, mostrando las funcionalidades del objeto. La función\n",
    "```python\n",
    "def __init__(self,width,heigh,length):\n",
    "        self.x=width\n",
    "        self.y=heigh\n",
    "        self.z=length\n",
    "```\n",
    "Se llama constructor, y sirve para crear un objeto; en este caso, una caja. `self` es una palabra reservada de `Python`, que hace referencia a decir que algo pertenece a cierta **clase**; en este caso, como el constructor es intrínseco del objeto, lleva como primer argumento el `self`; ésto debe pasar para cualquier **método** de la **clase**. Además, en las siguientes líneas\n",
    "```python\n",
    "        self.x=width\n",
    "        self.y=heigh\n",
    "        self.z=length\n",
    "```\n",
    "se inicializan los **atributos** $x$, $y$ y $z$, con parámetros `width`, `height` y `length`. Ahora que el computador sabe lo que es una caja, deberíamos proceder a crear nuestra primera caja."
   ]
  },
  {
   "cell_type": "code",
   "execution_count": null,
   "metadata": {
    "collapsed": false
   },
   "outputs": [],
   "source": [
    "miCaja=Caja(10,20,30)\n",
    "#Si quiero imprimir y, accedo al atributo del objeto de la siguiente manera\n",
    "print(miCaja.y)"
   ]
  },
  {
   "cell_type": "markdown",
   "metadata": {},
   "source": [
    "En la programación orientada a objetos usual, se recomienda hacer sus objetos con los atributos privados, y hacerles `getters` y `setters` para acceder a ellos. Ésto tiende a darle solidez a lo que uno programa (además, los hace menos susceptibles a errores), pero es más engorroso, por lo que no lo abarcaremos. Si alguno está interesado, puede ver la [respuesta](http://stackoverflow.com/questions/1641219/does-python-have-private-variables-in-classes) de **watashiSHUN**.\n",
    "\n",
    "Probemos ahora a calcular el volumen de nuestra caja con un método."
   ]
  },
  {
   "cell_type": "code",
   "execution_count": null,
   "metadata": {
    "collapsed": false
   },
   "outputs": [],
   "source": [
    "class Caja:\n",
    "    \"Esta caja tiene por dimensiones x,y,z\"\n",
    "    def __init__(self,width,heigh,length):\n",
    "        self.x=width\n",
    "        self.y=heigh\n",
    "        self.z=length\n",
    "    def giveVolume(self):\n",
    "        return self.x*self.y*self.z\n",
    "    \n",
    "miCaja=Caja(10,20,30)\n",
    "print(miCaja.giveVolume()) #Llamo al método perteneciente a mi objeto"
   ]
  },
  {
   "cell_type": "markdown",
   "metadata": {},
   "source": [
    "## Herencia ##\n",
    "En la programación orientada a objetos, si uno tiene objetos que comparten ciertas características, puede usar herencia para ahorrar código y programar eficientemente. Por defecto, todas las **clases** de `Python` heredan de `object`. Cuando digo que algo \"hereda\", quiero decir que ese algo adquiere los atributos y métodos del objeto que heredó.\n",
    "\n",
    "`Python` es el único lenguaje que conozco que soporta la heredación múltiple, es decir, permite a un objeto heredar de más de un objeto. Normalmente no se usa esto (puede conllevar problemas, [mírame](http://javapapers.com/core-java/why-multiple-inheritance-is-not-supported-in-java/)); por lo que por simplicidad no lo usaremos. Ahora haremos una cajita de chocolates, que extiende de Caja. "
   ]
  },
  {
   "cell_type": "code",
   "execution_count": null,
   "metadata": {
    "collapsed": false
   },
   "outputs": [],
   "source": [
    "class ChocolateBox(Caja): #Ésta es la notación para indicar que algo hereda de algo\n",
    "    def __init__(self, width,heigh,length, numberOfChocolates):\n",
    "        Caja.__init__(self,width, heigh, length) #Llamo al constructor de Caja para pasarle\n",
    "        #los atributos que tiene mi caja de chocolares por el hecho de ser caja\n",
    "        self.chocolates=numberOfChocolates\n",
    "    \n",
    "    def eatOne(self):\n",
    "        if (self.chocolates!=0):            \n",
    "            self.chocolates-=1\n",
    "            print(\"Ñam!, still %i chocolates\"%self.chocolates)\n",
    "        else:\n",
    "            print(\"I wish I would have more chocolates :c\")\n",
    "\n",
    "nuevaCaja=ChocolateBox(10,20,30,2)\n",
    "for x in range(3):\n",
    "    nuevaCaja.eatOne()\n",
    "print(\"The volume is: %i\"%nuevaCaja.giveVolume())"
   ]
  }
 ],
 "metadata": {
  "anaconda-cloud": {},
  "kernelspec": {
   "display_name": "Python [anaconda3]",
   "language": "python",
   "name": "Python [anaconda3]"
  },
  "language_info": {
   "codemirror_mode": {
    "name": "ipython",
    "version": 3
   },
   "file_extension": ".py",
   "mimetype": "text/x-python",
   "name": "python",
   "nbconvert_exporter": "python",
   "pygments_lexer": "ipython3",
   "version": "3.5.2"
  }
 },
 "nbformat": 4,
 "nbformat_minor": 0
}
