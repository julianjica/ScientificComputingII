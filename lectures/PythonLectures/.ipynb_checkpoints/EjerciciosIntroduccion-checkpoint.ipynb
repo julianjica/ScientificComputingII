{
 "cells": [
  {
   "cell_type": "markdown",
   "metadata": {},
   "source": [
    "# Ejercicios Introductorios #\n",
    "Los ejercicios a lo largo del curso se dividirán en tres categorías: fácil, intermedio y difícil. Recuerden que no basta con asistir a las clases para aprender algo, hay que practicar, bastante; más cuando se trata de aprender a programar en un lenguaje nuevo.\n",
    "\n",
    "**Cualquier pregunta** que tengan, pueden comentármela durante la clase o a través de mi correo:\n",
    "*juliano.jimenezc@konradlorenz.edu.co*"
   ]
  },
  {
   "cell_type": "markdown",
   "metadata": {},
   "source": [
    "## Fácil ##"
   ]
  },
  {
   "cell_type": "markdown",
   "metadata": {},
   "source": [
    "1) Haga un programa en el que le solicite al usuario un entero, e imprima si ese entero es divisible por 13."
   ]
  },
  {
   "cell_type": "code",
   "execution_count": null,
   "metadata": {
    "collapsed": true
   },
   "outputs": [],
   "source": []
  },
  {
   "cell_type": "markdown",
   "metadata": {},
   "source": [
    "2) Los factores primos de un número dado son todos aquellos números primos que dividen al número en cuestión. Haga un programa que reciba un entero y muestre **todos** sus factores primos."
   ]
  },
  {
   "cell_type": "code",
   "execution_count": null,
   "metadata": {
    "collapsed": true
   },
   "outputs": [],
   "source": []
  },
  {
   "cell_type": "markdown",
   "metadata": {},
   "source": [
    "3) Pruebe a imprimir todos los números impares de 1 a 100."
   ]
  },
  {
   "cell_type": "code",
   "execution_count": null,
   "metadata": {
    "collapsed": true
   },
   "outputs": [],
   "source": []
  },
  {
   "cell_type": "markdown",
   "metadata": {},
   "source": [
    "4) A hacer cuadrados. Haga un programa que reciba un entero positivo, y que haga un cuadrado de asteriscos, siendo el entero que ingresó la longitud de los lados. Por ejemplo, si ingresa 3, el resultado esperado será\n",
    "\n",
    "\\*\\*\\*\n",
    "\n",
    "\\*\\*\\*\n",
    "\n",
    "\\*\\*\\*"
   ]
  },
  {
   "cell_type": "code",
   "execution_count": null,
   "metadata": {
    "collapsed": true
   },
   "outputs": [],
   "source": []
  },
  {
   "cell_type": "markdown",
   "metadata": {},
   "source": [
    "5) En mi escuela se practican 3 deportes: baloncesto, fútbol y voleibol. Mis amigos practican uno o más deportes. ¿Cuáles practican los tres?"
   ]
  },
  {
   "cell_type": "code",
   "execution_count": null,
   "metadata": {
    "collapsed": true
   },
   "outputs": [],
   "source": [
    "baloncesto={\"Daniel\", \"Rodrigo\", \"Camilo\", \"Andrés\", \"Luisa\", \"Alejandro\", \"Carlos\", \"Luis\", \"Fernanda\"}\n",
    "futbol={\"Daniel\", \"Helena\", \"Carolina\", \"Carlos\", \"Juan\", \"Domingo\", \"Viviana\", \"Orlando\"}\n",
    "voleibol={\"Orlando\", \"Fernanda\", \"Daniel\", \"Ernesto\", \"Carlos\", \"Lucía\"}"
   ]
  },
  {
   "cell_type": "markdown",
   "metadata": {},
   "source": [
    "## Intermedio ## "
   ]
  },
  {
   "cell_type": "markdown",
   "metadata": {},
   "source": [
    "1) Un palíndromo (del griego palin dromein, volver a ir atrás), también llamado palindromo, palíndroma o palindroma, es una palabra, número o frase que se lee igual adelante que atrás. Haga un programa que reciba una cadena y determine si es palíndroma o no."
   ]
  },
  {
   "cell_type": "code",
   "execution_count": null,
   "metadata": {
    "collapsed": true
   },
   "outputs": [],
   "source": []
  },
  {
   "cell_type": "markdown",
   "metadata": {},
   "source": [
    "2) El logaritmo en base 2 de un número real positivo $x$ ($log_2(x)$) se define como aquel que satisface que\n",
    "\n",
    "$$2^{log_2(x)}=x.$$\n",
    "Una manera recursiva de encontrar numéricamente el logaritmo de un valor $x$ es encontrar un entero no negativo $n$ que satisfaga\n",
    "\n",
    "$$2^n<x<2^{n+1}.$$\n",
    "Una vez se encuentre, se parte en dos el intervalo $[n, n+1]$, se analiza dónde está $x$ y se hace este procedimiento tantas veces como se quiera. Idee un programa que reciba un número real y encuentre numéricamente el logaritmo en base 2 de dicho número, con un error no mayor que $10^{-3}$."
   ]
  },
  {
   "cell_type": "code",
   "execution_count": null,
   "metadata": {
    "collapsed": true
   },
   "outputs": [],
   "source": []
  },
  {
   "cell_type": "markdown",
   "metadata": {},
   "source": [
    "3) La secuencia de Fibonacci usual se define a partir de sumar los dos elementos anteriores de dicha secuencia para obtener el siguiente. Por ejemplo, los ocho primeros elementos de esta secuencia son\n",
    "\n",
    "1 1 2 3 5 8 13 21\n",
    "\n",
    "Calcule los 1000 primeros elementos de esta secuencia."
   ]
  },
  {
   "cell_type": "code",
   "execution_count": null,
   "metadata": {
    "collapsed": true
   },
   "outputs": [],
   "source": []
  },
  {
   "cell_type": "markdown",
   "metadata": {},
   "source": [
    "4) https://projecteuler.net/problem=1\n",
    "Imprima todos los números entre 1 y 1000 que son múltiplos de 3 o 5"
   ]
  },
  {
   "cell_type": "code",
   "execution_count": null,
   "metadata": {
    "collapsed": true
   },
   "outputs": [],
   "source": []
  },
  {
   "cell_type": "markdown",
   "metadata": {},
   "source": [
    "5) https://projecteuler.net/problem=4 Un número palíndromo, de manera análoga a una cadena palíndroma, es aquel que se lee igual de atrás para adelante que de adelante para atrás. El mayor palíndromo hecho con el producto de dos números de dos dígitos es 9009=91 x 99. Encuentre el mayor palíndromo hecho del producto de dos números con tres dígitos cada uno."
   ]
  },
  {
   "cell_type": "code",
   "execution_count": null,
   "metadata": {
    "collapsed": true
   },
   "outputs": [],
   "source": []
  },
  {
   "cell_type": "markdown",
   "metadata": {},
   "source": [
    "## Difícil ##"
   ]
  },
  {
   "cell_type": "markdown",
   "metadata": {},
   "source": [
    "1) La conjetura de Collatz afirma que a todo número natural $n$ al que se le aplique el siguiente proceso iterativo:\n",
    "\n",
    "<center>$n\\implies n/2$ si $n$ es par</center>\n",
    "<center>$n\\implies 3n+1$ si $n$ es impar</center>\n",
    "terminará en 1. Por ejemplo, para 14:\n",
    "\n",
    "$14\\implies 7 \\implies 22 \\implies 11 \\implies 34 \\implies 17 \\implies 52 \\implies 26 \\implies 13 \\implies 40 \\implies 20 \\implies 10 \\implies 5 \\implies 16 \\implies 8 \\implies 4 \\implies 2 \\implies 1$\n",
    "\n",
    "Note que hay 17 iteraciones (representadas por $\\implies$) desde 14 hasta 1. Determine cuál es el número entre 1 y $9\\times 10^5$ que requiere más iteraciones para llegar a 1. ¿Es único? Si no lo es, ¿Cuáles son?"
   ]
  },
  {
   "cell_type": "code",
   "execution_count": null,
   "metadata": {
    "collapsed": true
   },
   "outputs": [],
   "source": []
  },
  {
   "cell_type": "markdown",
   "metadata": {},
   "source": [
    "2) Una sucesión se puede definir de manera recursiva del siguiente modo:\n",
    "$$u_1=1$$\n",
    "$$u_n=(n-1)u_{n-1}+1$$\n",
    "Es decir, el segundo elemento se calcula reemplazando $n=2$, tomando $u_{n-1}=u_{2-1}=u_{1}=1$ y realizando la operación. Defina a partir de esta sucesión otra sucesión, cuyos elementos son los $n$ tal que $n$ divide a $u_n$. Calcule los primeros 20 elementos de esta última sucesión. "
   ]
  },
  {
   "cell_type": "code",
   "execution_count": null,
   "metadata": {
    "collapsed": true
   },
   "outputs": [],
   "source": []
  },
  {
   "cell_type": "markdown",
   "metadata": {},
   "source": [
    "3) Adaptación de https://projecteuler.net/problem=23 Un número perfecto es aquel cuya suma de todos sus divisores excepto él mismo da él. Por ejemplo, 28 es un número perfecto, porque\n",
    "1 + 2 + 4 + 7 + 14 = 28\n",
    "¿Cuántos números perfectos hay entre 1 y 10000?"
   ]
  },
  {
   "cell_type": "code",
   "execution_count": null,
   "metadata": {
    "collapsed": true
   },
   "outputs": [],
   "source": []
  },
  {
   "cell_type": "markdown",
   "metadata": {},
   "source": [
    "4) Revise la definición de un número feliz https://es.wikipedia.org/wiki/N%C3%BAmero_feliz\n",
    "Imprima los números felices de 1 a 1000.\n",
    "\n",
    "**Nota:** Tenga especial cuidado en este ejercicio, puede terminar en un bucle infinito."
   ]
  },
  {
   "cell_type": "code",
   "execution_count": null,
   "metadata": {
    "collapsed": true
   },
   "outputs": [],
   "source": []
  },
  {
   "cell_type": "markdown",
   "metadata": {},
   "source": [
    "5) Número afortunado: Tomemos la secuencia de todos los naturales a partir del 1: 1, 2, 3, 4, 5,… Tachemos los que aparecen en las posiciones pares. Queda: 1, 3, 5, 7, 9, 11, 13,… Como el segundo número que ha quedado es el 3 tachemos todos los que aparecen en las posiciones múltiplo de 3. Queda: 1, 3, 7, 9, 13,… Como el siguiente número que quedó es el 7 tachamos ahora todos los que aparecen en las posiciones múltiplos de 7. Así sucesivamente. Los números que sobreviven se denominan números afortunados.\n",
    "\n",
    "Calcule los primeros 40 números afortunados.\n",
    "Ref:https://www.gaussianos.com/tipos-de-numeros/"
   ]
  },
  {
   "cell_type": "code",
   "execution_count": null,
   "metadata": {
    "collapsed": true
   },
   "outputs": [],
   "source": []
  }
 ],
 "metadata": {
  "anaconda-cloud": {},
  "kernelspec": {
   "display_name": "Python [anaconda3]",
   "language": "python",
   "name": "Python [anaconda3]"
  },
  "language_info": {
   "codemirror_mode": {
    "name": "ipython",
    "version": 3
   },
   "file_extension": ".py",
   "mimetype": "text/x-python",
   "name": "python",
   "nbconvert_exporter": "python",
   "pygments_lexer": "ipython3",
   "version": "3.5.2"
  }
 },
 "nbformat": 4,
 "nbformat_minor": 0
}
