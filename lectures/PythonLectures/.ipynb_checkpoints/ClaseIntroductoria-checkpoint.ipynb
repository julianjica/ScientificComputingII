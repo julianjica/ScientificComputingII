{
 "cells": [
  {
   "cell_type": "markdown",
   "metadata": {
    "nbpresent": {
     "id": "9770ac8d-3c7b-464c-99f3-63a27d54627d"
    }
   },
   "source": [
    "# Clase de conceptos básicos #\n",
    "Para escribir un código en Python, hace falta usar un editor de texto sin formato. Los archivos se deben guardar con la extensión .py, y son ejecutados a través de la terminal, accediendo a la carpeta que los contiene, y escribiendo el comando\n",
    "\n",
    "```\n",
    "python nombre_archivo.py\n",
    "```\n",
    "\n",
    "Otra opción es usar un notebook, como éste."
   ]
  },
  {
   "cell_type": "markdown",
   "metadata": {
    "nbpresent": {
     "id": "f135b135-f900-4ba4-b38f-9d21cff1b889"
    }
   },
   "source": [
    "## Tipos de Dato ##\n",
    "### Enteros ###\n",
    "En Python no es necesario declarar las variables, él intenta reconocer el tipo de dato cuando se inicializa una variable."
   ]
  },
  {
   "cell_type": "code",
   "execution_count": null,
   "metadata": {
    "collapsed": false,
    "nbpresent": {
     "id": "dba824a2-cc07-41e2-b09d-e344ea7a847f"
    }
   },
   "outputs": [],
   "source": [
    "#Asignamos el valor de 2 a \"a\" y 3 a \"b\", los sumamos y lo mostramos.\n",
    "\n",
    "a=2 \n",
    "b=3\n",
    "print(a+b) #Como se puede observar, print muestra su argumento."
   ]
  },
  {
   "cell_type": "markdown",
   "metadata": {
    "nbpresent": {
     "id": "152ab2f6-413a-4a1c-ab93-968c9eb484f4"
    }
   },
   "source": [
    "Existen distintos tipos de dato en Python. El que se manejó en el ejemplo anterior se llama entero; para saber el tipo de dato de una variable, se usa el comando\n",
    "```\n",
    "type(variable)\n",
    "```\n",
    "Por ejemplo, si se desea saber el tipo de dato de *a* y *b*, se usa la instrucción"
   ]
  },
  {
   "cell_type": "code",
   "execution_count": null,
   "metadata": {
    "collapsed": false,
    "nbpresent": {
     "id": "d260baaa-ce98-48d9-80d4-8a0ec2c16050"
    }
   },
   "outputs": [],
   "source": [
    "print(type(a))\n",
    "print(type(b))"
   ]
  },
  {
   "cell_type": "markdown",
   "metadata": {
    "nbpresent": {
     "id": "efc33757-7807-4794-9873-0bcaccb6fffc"
    }
   },
   "source": [
    "Python, como **lenguaje orientado a objetos**, está compuesto de clases (que representan los objetos). Los tipos de datos son clases; más tarde se verá cómo crear objetos. Por ahora centrémonos en caracterizar las propiedades de los elementos de la clase **int**."
   ]
  },
  {
   "cell_type": "code",
   "execution_count": null,
   "metadata": {
    "collapsed": false,
    "nbpresent": {
     "id": "0ae3d5cf-5265-4944-b249-938648fe1cab"
    }
   },
   "outputs": [],
   "source": [
    "#Se pueden sumar\n",
    "c=a+b\n",
    "print(c)\n",
    "\n",
    "#Restar\n",
    "print(a-b)\n",
    "\n",
    "#Multiplicar\n",
    "print(a*b)\n",
    "\n",
    "#Dividir\n",
    "print(2/2)"
   ]
  },
  {
   "cell_type": "markdown",
   "metadata": {
    "nbpresent": {
     "id": "a43abd8d-f3df-4d18-ab89-122bd24d9a75"
    }
   },
   "source": [
    "**Nota Importante:** En versiones de Python anteriores a la 3.0, la división entre enteros es clausurativa, es decir, el resultado de un entero es un entero. A partir de la 3.0, el resultado de la división entre enteros será un flotante (número con parte decimal). Otras operaciones no tan usuales, pero igual de importantes entre enteros son la potenciación y el módulo."
   ]
  },
  {
   "cell_type": "code",
   "execution_count": null,
   "metadata": {
    "collapsed": false,
    "nbpresent": {
     "id": "a57bc8ea-126d-44e7-bf12-d43510c7d5ff"
    }
   },
   "outputs": [],
   "source": [
    "#Potenciación\n",
    "print(2**3) #2 elevado a la 3\n",
    "print(2**0.5) #2 elevado a la 0.5 (raíz cuadrada de 2)\n",
    "print(16**(1./4)) #16 elevado a la .25 (raíz cuarta de 16)"
   ]
  },
  {
   "cell_type": "code",
   "execution_count": null,
   "metadata": {
    "collapsed": false,
    "nbpresent": {
     "id": "d77e1dd0-5de8-4a36-aab4-b9970dbdd733"
    }
   },
   "outputs": [],
   "source": [
    "#Módulo\n",
    "print(4%2) #Cuál es el residuo al dividir 4 entre 2\n",
    "print(4%3) #Y el de dividir 4 entre tres"
   ]
  },
  {
   "cell_type": "markdown",
   "metadata": {
    "nbpresent": {
     "id": "a48cf921-7ee7-4faf-b10e-16691cf48fbf"
    }
   },
   "source": [
    "En ciertos casos es necesario pedirle información al usuario para realizar algún procedimiento. La manera más sencilla de perdirle información al usuario es que éste ingrese la misma como entrada. Por ejemplo, supóngase que se desea introducir dos números enteros y hallar su promedio. Para ello, se usa\n",
    "\n",
    "```\n",
    "int(input(string))\n",
    "```\n",
    "`input(string)` recibe información por teclado del usuario, e `int(input(string))` convierte dicha información en un entero."
   ]
  },
  {
   "cell_type": "code",
   "execution_count": null,
   "metadata": {
    "collapsed": false,
    "nbpresent": {
     "id": "9a1e8f81-927e-4717-8446-3dcbbbf7c03f"
    }
   },
   "outputs": [],
   "source": [
    "a=int(input(\"Primer número > \"))\n",
    "b=int(input(\"Segundo número > \"))\n",
    "\n",
    "print((a+b)/2.0)"
   ]
  },
  {
   "cell_type": "markdown",
   "metadata": {
    "collapsed": true,
    "nbpresent": {
     "id": "26592c0a-4d2b-452a-9b60-2286a2dfbcea"
    }
   },
   "source": [
    "Es posible personalizar la salida de un programa de varias maneras, por ejemplo:"
   ]
  },
  {
   "cell_type": "code",
   "execution_count": null,
   "metadata": {
    "collapsed": false,
    "nbpresent": {
     "id": "8be29e1d-6365-48c8-ad5c-c6c3b9092622"
    }
   },
   "outputs": [],
   "source": [
    "print(\"El promedio es \", (a+b)/2.0)\n",
    "print(\"El promedio entre %f y %f es %f\"%(a,b, (a+b)/2.0))"
   ]
  },
  {
   "cell_type": "markdown",
   "metadata": {
    "nbpresent": {
     "id": "ec8b1195-5a72-42fb-816c-ccb2f9308215"
    }
   },
   "source": [
    "### Cadenas ###\n",
    "\n",
    "La segunda forma de mostrar el resultado se conoce como función mágica. Es una manera veloz de introducir valores en cadenas. **Una cadena** es un conjunto de caracteres concatenados, y se reconocen porque van encerrados por comillas sencillas o dobles, por ejemplo:"
   ]
  },
  {
   "cell_type": "code",
   "execution_count": null,
   "metadata": {
    "collapsed": true,
    "nbpresent": {
     "id": "d15e55e0-951e-4beb-82d9-dc1d8fc5c5b8"
    }
   },
   "outputs": [],
   "source": [
    "cadena1=\"Hola, Mundo!\"\n",
    "cadena2=\"Mi número es 123\"\n",
    "cadena3=\"2.5\""
   ]
  },
  {
   "cell_type": "markdown",
   "metadata": {
    "nbpresent": {
     "id": "b07a4d1c-85de-42cc-9317-23dc74407a09"
    }
   },
   "source": [
    "Las cadenas se pueden operar entre sí, o con enteros, por ejemplo:"
   ]
  },
  {
   "cell_type": "code",
   "execution_count": null,
   "metadata": {
    "collapsed": false,
    "nbpresent": {
     "id": "012ab88c-c018-4163-87bb-da24a8898478"
    }
   },
   "outputs": [],
   "source": [
    "print(cadena1+\" \"+cadena2)\n",
    "print(cadena3*3)"
   ]
  },
  {
   "cell_type": "markdown",
   "metadata": {
    "nbpresent": {
     "id": "6af763fd-d781-4d59-a1ea-a4fdf0a7b5de"
    }
   },
   "source": [
    "Es posible hacer operaciones bastante interesantes con una cadena, como las siguientes"
   ]
  },
  {
   "cell_type": "code",
   "execution_count": null,
   "metadata": {
    "collapsed": false,
    "nbpresent": {
     "id": "9d0279aa-75cd-4f6c-a571-b8add293676b"
    }
   },
   "outputs": [],
   "source": [
    "cadena= \"Hola, Mundo,\"\n",
    "cadena= cadena.replace(\",\",\".\") #Cambiamos las comas por puntos\n",
    "print(cadena)\n",
    "print(len(cadena)) #Imprimimos la cantidad de caracteres de la cadena\n",
    "print(cadena.index(\"a\")) #Imprimimos la posición de la primera \"a\"\n",
    "print(cadena[6]) #Imprimimos el séptimo caracter de la cadena"
   ]
  },
  {
   "cell_type": "markdown",
   "metadata": {
    "nbpresent": {
     "id": "9362666e-22e3-403a-ba2e-2d950f61ff3c"
    }
   },
   "source": [
    "Existen muchos más métodos asociados a la clase cadena; para ver los atributos y métodos de una clase, escriba la variable que tiene asignado cierto objeto, seguida de un punto y presione tabular. Por ejemplo, use tabular después del punto de la siguiente expresión, para ver los métodos de la clase string"
   ]
  },
  {
   "cell_type": "code",
   "execution_count": null,
   "metadata": {
    "collapsed": false,
    "nbpresent": {
     "id": "1dfa5c9f-4565-4204-a267-f0feffc43fa4"
    }
   },
   "outputs": [],
   "source": [
    "cadena."
   ]
  },
  {
   "cell_type": "markdown",
   "metadata": {
    "nbpresent": {
     "id": "f011ecd8-ba72-45b8-9b2d-cf2a511f6f21"
    }
   },
   "source": [
    "Uno de ellos es lower. Para saber lo que hace, cuáles son sus argumentos y su resultado, se digita"
   ]
  },
  {
   "cell_type": "code",
   "execution_count": null,
   "metadata": {
    "collapsed": false,
    "nbpresent": {
     "id": "005dc278-0b72-40d7-a9f2-b6a6cb8d5a17"
    }
   },
   "outputs": [],
   "source": [
    "help(cadena.lower)"
   ]
  },
  {
   "cell_type": "markdown",
   "metadata": {
    "nbpresent": {
     "id": "f5865c6a-5978-4ea5-ad66-81bdf975b726"
    }
   },
   "source": [
    "La función `help()` es válida en todos los objetos y métodos de Python. Arroja la documentación de su argumento. Es importante tenerla en cuenta cuando se desconozca qué hace una función o cuando se desee saber más de un objeto."
   ]
  },
  {
   "cell_type": "markdown",
   "metadata": {
    "nbpresent": {
     "id": "c92a3138-b451-4c5a-9566-523ae6391dec"
    }
   },
   "source": [
    "### Booleanos ###\n",
    "La lógica tradicional exige que las proposiciones sean susceptibles a ser verificadas o falseadas. La programación es la aplicación de la lógica mediante algoritmos para la solución de problemas. Es necesario que exista en ella el valor de verdad o falsedad."
   ]
  },
  {
   "cell_type": "code",
   "execution_count": null,
   "metadata": {
    "collapsed": true,
    "nbpresent": {
     "id": "288aca07-e863-4445-a245-db07a524c104"
    }
   },
   "outputs": [],
   "source": [
    "verdad=True\n",
    "falso=False"
   ]
  },
  {
   "cell_type": "markdown",
   "metadata": {
    "nbpresent": {
     "id": "dda445fe-f34d-4ef2-83a0-66a53985db03"
    }
   },
   "source": [
    "Matemáticamente hablando, todos los conectores lógicos se pueden construir con la negación, la disyunción y la conjunción. Veámoslo."
   ]
  },
  {
   "cell_type": "code",
   "execution_count": null,
   "metadata": {
    "collapsed": false,
    "nbpresent": {
     "id": "cb418829-3420-4288-a95b-e317cd3a78c9"
    }
   },
   "outputs": [],
   "source": [
    "print(verdad and falso)\n",
    "print(verdad or falso)\n",
    "print(not(verdad))"
   ]
  },
  {
   "cell_type": "markdown",
   "metadata": {
    "nbpresent": {
     "id": "9c73da64-b2c4-45b1-8972-73751774dcfb"
    }
   },
   "source": [
    "Los booleanos nos serán extremadamente útiles más adelante."
   ]
  },
  {
   "cell_type": "markdown",
   "metadata": {},
   "source": [
    "### Listas ###\n",
    "Uno de los objetos más versátiles de Python. Conjunto ordenado de elementos que no necesariamente son del mismo tipo. Se definen con corchetes cuadrados, y se separan por comas. No tienen un tamaño en memoria prestablecido. **Se indexan desde cero**"
   ]
  },
  {
   "cell_type": "code",
   "execution_count": null,
   "metadata": {
    "collapsed": false
   },
   "outputs": [],
   "source": [
    "l=[\"Hola\", \"Mundo\", 1, 2.4, True]\n",
    "print(l[0], l[1], l[2], l[3], l[4])"
   ]
  },
  {
   "cell_type": "markdown",
   "metadata": {},
   "source": [
    "Algunas propiedades usuales de las listas son las siguientes:"
   ]
  },
  {
   "cell_type": "code",
   "execution_count": null,
   "metadata": {
    "collapsed": false
   },
   "outputs": [],
   "source": [
    "print(l.index(\"Mundo\")) #Retorna la posición de un elemento de la lista\n",
    "l.append(\"Soy Nuevo\") #Agrega el elemento \"Soy Nuevo\" al final de la lista\n",
    "l.insert(1, \"Pos\") #Agrega el elemento \"Pos\" en la posición 1 de la lista; mueve un espacio los siguientes elementos\n",
    "\n",
    "print(l)"
   ]
  },
  {
   "cell_type": "markdown",
   "metadata": {},
   "source": [
    "Recuerde, use tabular y `help` para documentarse más acerca de un objeto."
   ]
  },
  {
   "cell_type": "markdown",
   "metadata": {},
   "source": [
    "### Diccionarios ###\n",
    "Muy similares a las listas. Una de sus diferencias más relevantes es que éstos son indexados mediante cadenas, a diferencia de las listas, indexadas por números enteros. Se definen con corchetes conjuntistas. Tampoco tienen tamaño prestablecido."
   ]
  },
  {
   "cell_type": "code",
   "execution_count": null,
   "metadata": {
    "collapsed": true
   },
   "outputs": [],
   "source": [
    "d={\"Carlos\": 1234, \"Julieta\": 456, \"Daniela\": \"Tengo que pedirle su número\"}"
   ]
  },
  {
   "cell_type": "code",
   "execution_count": null,
   "metadata": {
    "collapsed": false
   },
   "outputs": [],
   "source": [
    "print(d[\"Carlos\"])"
   ]
  },
  {
   "cell_type": "markdown",
   "metadata": {},
   "source": [
    "Para agregar un nuevo elemento al diccionario, se usa la siguiente instrucción:"
   ]
  },
  {
   "cell_type": "code",
   "execution_count": null,
   "metadata": {
    "collapsed": true
   },
   "outputs": [],
   "source": [
    "d[\"Camilo\"]=987\n",
    "print(d)"
   ]
  },
  {
   "cell_type": "markdown",
   "metadata": {},
   "source": [
    "Si se desea ver cuáles son las cadenas que indexan la información, use el siguiente comando"
   ]
  },
  {
   "cell_type": "code",
   "execution_count": null,
   "metadata": {
    "collapsed": false
   },
   "outputs": [],
   "source": [
    "print(d.keys())"
   ]
  },
  {
   "cell_type": "markdown",
   "metadata": {},
   "source": [
    "### Tuplas ###\n",
    "Son como listas, pero inmutables. Se definen con los paréntesis usuales.Tienen únicamente los métodos `count` e `index`."
   ]
  },
  {
   "cell_type": "code",
   "execution_count": null,
   "metadata": {
    "collapsed": false
   },
   "outputs": [],
   "source": [
    "tupla=(1,2,3,3)\n",
    "print(tupla.count(3))"
   ]
  },
  {
   "cell_type": "markdown",
   "metadata": {},
   "source": [
    "### Conjuntos ###\n",
    "Son como las listas, pero tienen todas las propiedades y métodos de los conjuntos usuales. Se definen con los corchetes conjuntistas."
   ]
  },
  {
   "cell_type": "code",
   "execution_count": null,
   "metadata": {
    "collapsed": false
   },
   "outputs": [],
   "source": [
    "conjunto={1,2,3,3}\n",
    "print(conjunto)\n",
    "print(conjunto.union({2,3,4}))\n",
    "print(conjunto.intersection({2,3,4}))"
   ]
  },
  {
   "cell_type": "markdown",
   "metadata": {},
   "source": [
    "## Condicionales ##\n",
    "Como se mencionó antes, los booleanos son extremadamente útiles. En particular se pueden usar para condicionales.\n",
    "### If ###\n",
    "El condicional fundamental. Si su argumento es `True`, se ejecuta el código identado respecto a él. Si es `False`, se omite. Es importante mencionar que en Python no se usan llaves para encerrar segmentos de código, sino que se identan."
   ]
  },
  {
   "cell_type": "code",
   "execution_count": null,
   "metadata": {
    "collapsed": false
   },
   "outputs": [],
   "source": [
    "if True:\n",
    "    print(\"Verdad\")\n",
    "\n",
    "if (2<3):\n",
    "    print(\"2 es mayor que 3\")\n",
    "    \n",
    "if(2>3 or 4>2):\n",
    "    print(\"O 2 es mayor que 3 o 4 es mayor que 2\")\n",
    "    \n",
    "if(3>=4):\n",
    "    print(\"3 es mayor o igual que 4\")"
   ]
  },
  {
   "cell_type": "markdown",
   "metadata": {},
   "source": [
    "### Else ###\n",
    "Siempre va acompañado de un `if`. Si no se satisface la condición del `if`, se ejecuta el código identado respecto al `else`."
   ]
  },
  {
   "cell_type": "code",
   "execution_count": null,
   "metadata": {
    "collapsed": false
   },
   "outputs": [],
   "source": [
    "if(3>5):\n",
    "    print(\"3 es mayor que 5\")\n",
    "else:\n",
    "    print(\"3 es menor o igual que 5\")"
   ]
  },
  {
   "cell_type": "markdown",
   "metadata": {},
   "source": [
    "### Elif ###\n",
    "Se usa para ahorrar tiempo y procesamiento. Va siempre acompañado por un `if` y generalmente van en grupo. La utilidad de esta instrucción radica en que primero se verifica el valor de verdad del argumento del `if`, si no se cumple, se procede a verificar el del primer `elif`, y así, hasta un `else`."
   ]
  },
  {
   "cell_type": "code",
   "execution_count": null,
   "metadata": {
    "collapsed": false
   },
   "outputs": [],
   "source": [
    "n=int(input(\"Ingrese un número > \"))\n",
    "\n",
    "if(n>5):\n",
    "    print(\"%i es mayor que 5\"%n)\n",
    "elif (n<5): \n",
    "    print(\"%i es menor que 5\"%n)\n",
    "else:\n",
    "    print(\"%i es igual que 5\"%n)"
   ]
  },
  {
   "cell_type": "markdown",
   "metadata": {},
   "source": [
    "## Iteradores ##\n",
    "Son una herramienta muy útil en la mayoría de los programas; sirven para ejecutar un segmento de código varias veces.\n",
    "\n",
    "### For ###\n",
    "Recorre elementos de una lista, en orden."
   ]
  },
  {
   "cell_type": "code",
   "execution_count": null,
   "metadata": {
    "collapsed": false
   },
   "outputs": [],
   "source": [
    "for x in [2,3,4,5,6]:\n",
    "    print(x)"
   ]
  },
  {
   "cell_type": "code",
   "execution_count": null,
   "metadata": {
    "collapsed": false
   },
   "outputs": [],
   "source": [
    "for x in range(2,12, 3):\n",
    "    \"\"\"\n",
    "    range es un método que genera números desde un valor hasta otro moviéndose con un paso establecido. Sus argumentos\n",
    "    son:\n",
    "    \n",
    "    range(inicio, final-1, longitud_paso)\n",
    "    \"\"\"\n",
    "    print(x)"
   ]
  },
  {
   "cell_type": "markdown",
   "metadata": {},
   "source": [
    "Un número primo es aquel que es divisible únicamente por sí mismo y por uno. Una manera de obtener los números primos (nada óptima) que hay entre 2 y 1000 es la siguiente:"
   ]
  },
  {
   "cell_type": "code",
   "execution_count": null,
   "metadata": {
    "collapsed": false
   },
   "outputs": [],
   "source": [
    "for x in range(2,1001):\n",
    "    esPrimo=True\n",
    "    \n",
    "    for y in range(2,x):\n",
    "        if(x%y==0):\n",
    "            esPrimo=False\n",
    "            break #Break finaliza el ciclo en el que está identado\n",
    "    \n",
    "    if(esPrimo):\n",
    "        print(x, end=\" \")"
   ]
  },
  {
   "cell_type": "markdown",
   "metadata": {
    "collapsed": true
   },
   "source": [
    "### Listas por comprensión ###\n",
    "Generalmente se desea hacer una sublista de una lista, con ciertos elementos que satisfacen una proposición booleana; también se pueden ahorrar varias líneas de código conociendo cómo hacer listas por comprensión."
   ]
  },
  {
   "cell_type": "code",
   "execution_count": null,
   "metadata": {
    "collapsed": false
   },
   "outputs": [],
   "source": [
    "#Por ejemplo, si se desea obtener los cuadrados de los números enteros del 1 al 10:\n",
    "\n",
    "#De la manera usual:\n",
    "l=[]\n",
    "for x in range(1,11):\n",
    "    l.append(x**2)\n",
    "print(l)\n",
    "\n",
    "#Con listas por comprensión\n",
    "print([x**2 for x in range(1,11)])"
   ]
  },
  {
   "cell_type": "code",
   "execution_count": null,
   "metadata": {
    "collapsed": false
   },
   "outputs": [],
   "source": [
    "#Quizá quiera obtener la primera letra de una lista de cadenas\n",
    "l=[\"Hola\", \"Mundo\", \"Cómo\", \"Estás\"]\n",
    "print([x[0] for x in l])\n",
    "\n",
    "#O separar los pares de los impares en una lista de números enteros\n",
    "l=[2,3,4,5,65,6,7,7,8,43,543,5,235,457,68,78,234,32,43,5243,65,67]\n",
    "print([x for x in l if x%2==0])"
   ]
  },
  {
   "cell_type": "markdown",
   "metadata": {},
   "source": [
    "Más adelante se verá cómo hacer condiciones más compactas, que incentivarán el uso de listas por comprensión."
   ]
  },
  {
   "cell_type": "markdown",
   "metadata": {},
   "source": [
    "### While ###\n",
    "Otra manera de hacer un ciclo es mediante el uso del `while`. Se diferencia del `for` porque éste se enfonca en un número de ciclos bien determinado, mientras que el `while` parará cuando la proposición que tiene como argumento deje de ser verdadera. Es bastante útil cuando se debe hacer un procedimiento un número desconocido de veces, hasta que algo pase. "
   ]
  },
  {
   "cell_type": "markdown",
   "metadata": {},
   "source": [
    "Explorando las capacidades del `for`, se calcularon los números primos hasta 100. Una tarea \"fuera\" del alcance del `for` es, por ejemplo, calcular los primeros 100 números primos, o los primeros 1000. Esta es una muy buena aplicación del `while`."
   ]
  },
  {
   "cell_type": "code",
   "execution_count": null,
   "metadata": {
    "collapsed": false
   },
   "outputs": [],
   "source": [
    "count=0\n",
    "x=2\n",
    "while (count<=100):\n",
    "    isPrime=True\n",
    "    for y in range(2,x):\n",
    "        if(x%y==0):\n",
    "            isPrime=False\n",
    "            break\n",
    "    if (isPrime):\n",
    "        print(x, end=\" \")\n",
    "        count+=1\n",
    "    x+=1"
   ]
  },
  {
   "cell_type": "markdown",
   "metadata": {},
   "source": [
    "¿Qué tan rápido crece la exponencial de 2? Si tomamos $10^{12}$, podemos ver cuál es el menor $n$ tal que $10^{12}<2^n$"
   ]
  },
  {
   "cell_type": "code",
   "execution_count": null,
   "metadata": {
    "collapsed": false
   },
   "outputs": [],
   "source": [
    "result=1\n",
    "n=0\n",
    "while(result<10**12):\n",
    "    result=result*2\n",
    "    n+=1\n",
    "print(\"2^%i>10^12\"%n)"
   ]
  },
  {
   "cell_type": "markdown",
   "metadata": {},
   "source": [
    "Con el tema visto acá se pueden hacer los ejercicios del notebook EjerciciosIntroduccion.ipynb"
   ]
  }
 ],
 "metadata": {
  "anaconda-cloud": {},
  "kernelspec": {
   "display_name": "Python [anaconda3]",
   "language": "python",
   "name": "Python [anaconda3]"
  },
  "language_info": {
   "codemirror_mode": {
    "name": "ipython",
    "version": 3
   },
   "file_extension": ".py",
   "mimetype": "text/x-python",
   "name": "python",
   "nbconvert_exporter": "python",
   "pygments_lexer": "ipython3",
   "version": "3.5.2"
  },
  "nbpresent": {
   "slides": {
    "116d9edf-24d3-4361-b7f8-2f37f7554325": {
     "id": "116d9edf-24d3-4361-b7f8-2f37f7554325",
     "prev": "37766047-39fc-4498-8306-10d68ece5f49",
     "regions": {
      "d7b6ea71-3acf-4244-95eb-bc1c91fcdb62": {
       "attrs": {
        "height": 0.8,
        "width": 0.8,
        "x": 0.1,
        "y": 0.1
       },
       "content": {
        "cell": "d260baaa-ce98-48d9-80d4-8a0ec2c16050",
        "part": "whole"
       },
       "id": "d7b6ea71-3acf-4244-95eb-bc1c91fcdb62"
      }
     }
    },
    "15d71da5-2cbd-4df6-b869-d2794e33b5e4": {
     "id": "15d71da5-2cbd-4df6-b869-d2794e33b5e4",
     "prev": "6a076f63-b1bf-4485-9c9f-878482ea279f",
     "regions": {
      "9213c76f-c26b-49b6-b1ba-7842f4c79712": {
       "attrs": {
        "height": 0.8,
        "width": 0.8,
        "x": 0.1,
        "y": 0.1
       },
       "content": {
        "cell": "9c73da64-b2c4-45b1-8972-73751774dcfb",
        "part": "whole"
       },
       "id": "9213c76f-c26b-49b6-b1ba-7842f4c79712"
      }
     }
    },
    "270e71f6-fb1b-4393-8fce-f0a6f7713f83": {
     "id": "270e71f6-fb1b-4393-8fce-f0a6f7713f83",
     "prev": "2dbc618d-c99b-4bf6-85f9-bf8c0e649281",
     "regions": {
      "f890016b-524f-4fbe-8219-a75d6aeb311b": {
       "attrs": {
        "height": 0.8,
        "width": 0.8,
        "x": 0.1,
        "y": 0.1
       },
       "content": {
        "cell": "d15e55e0-951e-4beb-82d9-dc1d8fc5c5b8",
        "part": "whole"
       },
       "id": "f890016b-524f-4fbe-8219-a75d6aeb311b"
      }
     }
    },
    "2b605b2e-ddec-4952-a5cc-987a512d47b0": {
     "id": "2b605b2e-ddec-4952-a5cc-987a512d47b0",
     "prev": "60b9014c-8d3f-4642-88bf-c5baa7eb2911",
     "regions": {
      "088af2e0-6cb3-4ed6-b2d3-90766f01e01d": {
       "attrs": {
        "height": 0.8,
        "width": 0.8,
        "x": 0.1,
        "y": 0.1
       },
       "content": {
        "cell": "26592c0a-4d2b-452a-9b60-2286a2dfbcea",
        "part": "whole"
       },
       "id": "088af2e0-6cb3-4ed6-b2d3-90766f01e01d"
      }
     }
    },
    "2dbc618d-c99b-4bf6-85f9-bf8c0e649281": {
     "id": "2dbc618d-c99b-4bf6-85f9-bf8c0e649281",
     "prev": "7037fda3-96fb-4535-8f84-9b835e4c0e93",
     "regions": {
      "4d51d440-0d63-4580-ad39-4395fb0579ae": {
       "attrs": {
        "height": 0.8,
        "width": 0.8,
        "x": 0.1,
        "y": 0.1
       },
       "content": {
        "cell": "ec8b1195-5a72-42fb-816c-ccb2f9308215",
        "part": "whole"
       },
       "id": "4d51d440-0d63-4580-ad39-4395fb0579ae"
      }
     }
    },
    "3448fcba-c291-45a8-bef2-836434bfb089": {
     "id": "3448fcba-c291-45a8-bef2-836434bfb089",
     "prev": "270e71f6-fb1b-4393-8fce-f0a6f7713f83",
     "regions": {
      "1ee85aa0-b4cc-4788-ab88-080924018be1": {
       "attrs": {
        "height": 0.8,
        "width": 0.8,
        "x": 0.1,
        "y": 0.1
       },
       "content": {
        "cell": "b07a4d1c-85de-42cc-9317-23dc74407a09",
        "part": "whole"
       },
       "id": "1ee85aa0-b4cc-4788-ab88-080924018be1"
      }
     }
    },
    "37766047-39fc-4498-8306-10d68ece5f49": {
     "id": "37766047-39fc-4498-8306-10d68ece5f49",
     "prev": "64667330-ba1c-4e90-8ec9-f69701a6a64a",
     "regions": {
      "53f7ddc5-b8df-445a-a6ca-fe2c8dfdc697": {
       "attrs": {
        "height": 0.8,
        "width": 0.8,
        "x": 0.1,
        "y": 0.1
       },
       "content": {
        "cell": "152ab2f6-413a-4a1c-ab93-968c9eb484f4",
        "part": "whole"
       },
       "id": "53f7ddc5-b8df-445a-a6ca-fe2c8dfdc697"
      }
     }
    },
    "55ef1b40-9587-4b5f-8d2c-8b9c8d84b500": {
     "id": "55ef1b40-9587-4b5f-8d2c-8b9c8d84b500",
     "prev": "8181bc80-b5a0-4ede-9b1c-a626a70317f4",
     "regions": {
      "9b75bc5b-10cc-4f6e-b134-2a45f6f84062": {
       "attrs": {
        "height": 0.8,
        "width": 0.8,
        "x": 0.1,
        "y": 0.1
       },
       "content": {
        "cell": "1dfa5c9f-4565-4204-a267-f0feffc43fa4",
        "part": "whole"
       },
       "id": "9b75bc5b-10cc-4f6e-b134-2a45f6f84062"
      }
     }
    },
    "5e657e2f-a1c4-4fa4-a690-ad0f805cfbaf": {
     "id": "5e657e2f-a1c4-4fa4-a690-ad0f805cfbaf",
     "prev": "69012348-2730-4994-8055-d7cbac083ba6",
     "regions": {
      "969a94ec-f615-4c96-ba1e-690b0bfe29c6": {
       "attrs": {
        "height": 0.8,
        "width": 0.8,
        "x": 0.1,
        "y": 0.1
       },
       "content": {
        "cell": "005dc278-0b72-40d7-a9f2-b6a6cb8d5a17",
        "part": "whole"
       },
       "id": "969a94ec-f615-4c96-ba1e-690b0bfe29c6"
      }
     }
    },
    "5ee6639b-a6b5-41a6-b9c8-587f7e681e47": {
     "id": "5ee6639b-a6b5-41a6-b9c8-587f7e681e47",
     "prev": "116d9edf-24d3-4361-b7f8-2f37f7554325",
     "regions": {
      "0162db9f-b67a-4b87-8853-d16b0dcf4459": {
       "attrs": {
        "height": 0.8,
        "width": 0.8,
        "x": 0.1,
        "y": 0.1
       },
       "content": {
        "cell": "efc33757-7807-4794-9873-0bcaccb6fffc",
        "part": "whole"
       },
       "id": "0162db9f-b67a-4b87-8853-d16b0dcf4459"
      }
     }
    },
    "5f89dcd3-01ed-45b9-8c35-fa57b08ff7bc": {
     "id": "5f89dcd3-01ed-45b9-8c35-fa57b08ff7bc",
     "prev": "15d71da5-2cbd-4df6-b869-d2794e33b5e4",
     "regions": {
      "96b6e169-9016-4c12-98d2-90d2728371e7": {
       "attrs": {
        "height": 0.8,
        "width": 0.8,
        "x": 0.1,
        "y": 0.1
       },
       "content": {
        "cell": "e3de38a7-cbcc-4f43-97ea-35d3d113a403",
        "part": "whole"
       },
       "id": "96b6e169-9016-4c12-98d2-90d2728371e7"
      }
     }
    },
    "60b9014c-8d3f-4642-88bf-c5baa7eb2911": {
     "id": "60b9014c-8d3f-4642-88bf-c5baa7eb2911",
     "prev": "bed17ce1-c5a7-44f6-92cd-c1d67f6fc097",
     "regions": {
      "a906e8a6-70dd-445e-b104-0a8b71feb484": {
       "attrs": {
        "height": 0.8,
        "width": 0.8,
        "x": 0.1,
        "y": 0.1
       },
       "content": {
        "cell": "9a1e8f81-927e-4717-8446-3dcbbbf7c03f",
        "part": "whole"
       },
       "id": "a906e8a6-70dd-445e-b104-0a8b71feb484"
      }
     }
    },
    "64667330-ba1c-4e90-8ec9-f69701a6a64a": {
     "id": "64667330-ba1c-4e90-8ec9-f69701a6a64a",
     "prev": "aace50d6-464c-49ae-9d89-3ff7398c9364",
     "regions": {
      "2807f1cb-781b-4e97-afcf-6edc8439fe45": {
       "attrs": {
        "height": 0.8,
        "width": 0.8,
        "x": 0.1,
        "y": 0.1
       },
       "content": {
        "cell": "dba824a2-cc07-41e2-b09d-e344ea7a847f",
        "part": "whole"
       },
       "id": "2807f1cb-781b-4e97-afcf-6edc8439fe45"
      }
     }
    },
    "69012348-2730-4994-8055-d7cbac083ba6": {
     "id": "69012348-2730-4994-8055-d7cbac083ba6",
     "prev": "55ef1b40-9587-4b5f-8d2c-8b9c8d84b500",
     "regions": {
      "1d6c4f38-49be-4329-b21d-035c81262282": {
       "attrs": {
        "height": 0.8,
        "width": 0.8,
        "x": 0.1,
        "y": 0.1
       },
       "content": {
        "cell": "f011ecd8-ba72-45b8-9b2d-cf2a511f6f21",
        "part": "whole"
       },
       "id": "1d6c4f38-49be-4329-b21d-035c81262282"
      }
     }
    },
    "6a076f63-b1bf-4485-9c9f-878482ea279f": {
     "id": "6a076f63-b1bf-4485-9c9f-878482ea279f",
     "prev": "c9ee5fed-c249-4d71-a21f-5ae8ff20c59b",
     "regions": {
      "630768b4-ccfc-430f-be84-089347b52712": {
       "attrs": {
        "height": 0.8,
        "width": 0.8,
        "x": 0.1,
        "y": 0.1
       },
       "content": {
        "cell": "cb418829-3420-4288-a95b-e317cd3a78c9",
        "part": "whole"
       },
       "id": "630768b4-ccfc-430f-be84-089347b52712"
      }
     }
    },
    "6d0780eb-371c-4f41-8358-54df1a3a9182": {
     "id": "6d0780eb-371c-4f41-8358-54df1a3a9182",
     "prev": "83fb71ce-75a6-47ec-9d49-905f8ca6c8d8",
     "regions": {
      "ea79e70c-3787-4407-ba33-8a36ea33876f": {
       "attrs": {
        "height": 0.8,
        "width": 0.8,
        "x": 0.1,
        "y": 0.1
       },
       "content": {
        "cell": "c92a3138-b451-4c5a-9566-523ae6391dec",
        "part": "whole"
       },
       "id": "ea79e70c-3787-4407-ba33-8a36ea33876f"
      }
     }
    },
    "7037fda3-96fb-4535-8f84-9b835e4c0e93": {
     "id": "7037fda3-96fb-4535-8f84-9b835e4c0e93",
     "prev": "2b605b2e-ddec-4952-a5cc-987a512d47b0",
     "regions": {
      "733cca83-d2b0-4f66-b06b-4fafa1f75f1e": {
       "attrs": {
        "height": 0.8,
        "width": 0.8,
        "x": 0.1,
        "y": 0.1
       },
       "content": {
        "cell": "8be29e1d-6365-48c8-ad5c-c6c3b9092622",
        "part": "whole"
       },
       "id": "733cca83-d2b0-4f66-b06b-4fafa1f75f1e"
      }
     }
    },
    "8181bc80-b5a0-4ede-9b1c-a626a70317f4": {
     "id": "8181bc80-b5a0-4ede-9b1c-a626a70317f4",
     "prev": "fba75812-e1f2-4f9c-91f5-f5571ff95261",
     "regions": {
      "32a79862-b2a8-4ae1-87e1-14143536416a": {
       "attrs": {
        "height": 0.8,
        "width": 0.8,
        "x": 0.1,
        "y": 0.1
       },
       "content": {
        "cell": "9362666e-22e3-403a-ba2e-2d950f61ff3c",
        "part": "whole"
       },
       "id": "32a79862-b2a8-4ae1-87e1-14143536416a"
      }
     }
    },
    "83fb71ce-75a6-47ec-9d49-905f8ca6c8d8": {
     "id": "83fb71ce-75a6-47ec-9d49-905f8ca6c8d8",
     "prev": "5e657e2f-a1c4-4fa4-a690-ad0f805cfbaf",
     "regions": {
      "a89b2056-bb67-4d19-86bd-9f384f91e500": {
       "attrs": {
        "height": 0.8,
        "width": 0.8,
        "x": 0.1,
        "y": 0.1
       },
       "content": {
        "cell": "f5865c6a-5978-4ea5-ad66-81bdf975b726",
        "part": "whole"
       },
       "id": "a89b2056-bb67-4d19-86bd-9f384f91e500"
      }
     }
    },
    "8742920d-a5c7-4bb9-ac00-dc7c618962a5": {
     "id": "8742920d-a5c7-4bb9-ac00-dc7c618962a5",
     "prev": null,
     "regions": {
      "9791a836-2f13-4456-a598-3ce835e78da5": {
       "attrs": {
        "height": 0.8,
        "width": 0.8,
        "x": 0.1,
        "y": 0.1
       },
       "content": {
        "cell": "9770ac8d-3c7b-464c-99f3-63a27d54627d",
        "part": "whole"
       },
       "id": "9791a836-2f13-4456-a598-3ce835e78da5"
      }
     }
    },
    "98baab60-be92-40b7-8b0b-55460bbada31": {
     "id": "98baab60-be92-40b7-8b0b-55460bbada31",
     "prev": "3448fcba-c291-45a8-bef2-836434bfb089",
     "regions": {
      "4add9a0f-de53-4a9d-ad0b-e277edd7e36f": {
       "attrs": {
        "height": 0.8,
        "width": 0.8,
        "x": 0.1,
        "y": 0.1
       },
       "content": {
        "cell": "012ab88c-c018-4163-87bb-da24a8898478",
        "part": "whole"
       },
       "id": "4add9a0f-de53-4a9d-ad0b-e277edd7e36f"
      }
     }
    },
    "a83eb08d-1c6c-4e5e-8dd9-d171bfaca5d7": {
     "id": "a83eb08d-1c6c-4e5e-8dd9-d171bfaca5d7",
     "prev": "ebc4021c-bd6f-46be-8c8b-ae249b259caf",
     "regions": {
      "5803ed90-d0e5-40cf-a7aa-c5e28ee86150": {
       "attrs": {
        "height": 0.8,
        "width": 0.8,
        "x": 0.1,
        "y": 0.1
       },
       "content": {
        "cell": "d77e1dd0-5de8-4a36-aab4-b9970dbdd733",
        "part": "whole"
       },
       "id": "5803ed90-d0e5-40cf-a7aa-c5e28ee86150"
      }
     }
    },
    "aace50d6-464c-49ae-9d89-3ff7398c9364": {
     "id": "aace50d6-464c-49ae-9d89-3ff7398c9364",
     "prev": "8742920d-a5c7-4bb9-ac00-dc7c618962a5",
     "regions": {
      "d1c6bd87-d7ed-40f3-a269-81e893bf8bce": {
       "attrs": {
        "height": 0.8,
        "width": 0.8,
        "x": 0.1,
        "y": 0.1
       },
       "content": {
        "cell": "f135b135-f900-4ba4-b38f-9d21cff1b889",
        "part": "whole"
       },
       "id": "d1c6bd87-d7ed-40f3-a269-81e893bf8bce"
      }
     }
    },
    "bed17ce1-c5a7-44f6-92cd-c1d67f6fc097": {
     "id": "bed17ce1-c5a7-44f6-92cd-c1d67f6fc097",
     "prev": "a83eb08d-1c6c-4e5e-8dd9-d171bfaca5d7",
     "regions": {
      "4d20bf42-8929-48f2-9e58-0ad6add72795": {
       "attrs": {
        "height": 0.8,
        "width": 0.8,
        "x": 0.1,
        "y": 0.1
       },
       "content": {
        "cell": "a48cf921-7ee7-4faf-b10e-16691cf48fbf",
        "part": "whole"
       },
       "id": "4d20bf42-8929-48f2-9e58-0ad6add72795"
      }
     }
    },
    "c9ee5fed-c249-4d71-a21f-5ae8ff20c59b": {
     "id": "c9ee5fed-c249-4d71-a21f-5ae8ff20c59b",
     "prev": "ce54a5ea-0d46-4846-a675-bf6b91ebd577",
     "regions": {
      "492614c9-43fd-4d2e-b059-14d9c3167837": {
       "attrs": {
        "height": 0.8,
        "width": 0.8,
        "x": 0.1,
        "y": 0.1
       },
       "content": {
        "cell": "dda445fe-f34d-4ef2-83a0-66a53985db03",
        "part": "whole"
       },
       "id": "492614c9-43fd-4d2e-b059-14d9c3167837"
      }
     }
    },
    "ce54a5ea-0d46-4846-a675-bf6b91ebd577": {
     "id": "ce54a5ea-0d46-4846-a675-bf6b91ebd577",
     "prev": "6d0780eb-371c-4f41-8358-54df1a3a9182",
     "regions": {
      "7bad4602-ce29-4a65-97eb-424214a4ecff": {
       "attrs": {
        "height": 0.8,
        "width": 0.8,
        "x": 0.1,
        "y": 0.1
       },
       "content": {
        "cell": "288aca07-e863-4445-a245-db07a524c104",
        "part": "whole"
       },
       "id": "7bad4602-ce29-4a65-97eb-424214a4ecff"
      }
     }
    },
    "e168cbf5-18df-4852-95b2-7a9d00f5fc02": {
     "id": "e168cbf5-18df-4852-95b2-7a9d00f5fc02",
     "prev": "98baab60-be92-40b7-8b0b-55460bbada31",
     "regions": {
      "fdf93321-cce9-48f5-a344-fd219ca028ee": {
       "attrs": {
        "height": 0.8,
        "width": 0.8,
        "x": 0.1,
        "y": 0.1
       },
       "content": {
        "cell": "6af763fd-d781-4d59-a1ea-a4fdf0a7b5de",
        "part": "whole"
       },
       "id": "fdf93321-cce9-48f5-a344-fd219ca028ee"
      }
     }
    },
    "e7baf4b2-591c-4a89-8fe2-49d855964446": {
     "id": "e7baf4b2-591c-4a89-8fe2-49d855964446",
     "prev": "f0b14eab-a388-4e19-b394-c6a00b1ab241",
     "regions": {
      "0769175d-8b98-481f-87fe-43eb08ea6d0c": {
       "attrs": {
        "height": 0.8,
        "width": 0.8,
        "x": 0.1,
        "y": 0.1
       },
       "content": {
        "cell": "a43abd8d-f3df-4d18-ab89-122bd24d9a75",
        "part": "whole"
       },
       "id": "0769175d-8b98-481f-87fe-43eb08ea6d0c"
      }
     }
    },
    "ebc4021c-bd6f-46be-8c8b-ae249b259caf": {
     "id": "ebc4021c-bd6f-46be-8c8b-ae249b259caf",
     "prev": "e7baf4b2-591c-4a89-8fe2-49d855964446",
     "regions": {
      "8bb70069-2011-417b-b426-d6a85e8e872f": {
       "attrs": {
        "height": 0.8,
        "width": 0.8,
        "x": 0.1,
        "y": 0.1
       },
       "content": {
        "cell": "a57bc8ea-126d-44e7-bf12-d43510c7d5ff",
        "part": "whole"
       },
       "id": "8bb70069-2011-417b-b426-d6a85e8e872f"
      }
     }
    },
    "f0b14eab-a388-4e19-b394-c6a00b1ab241": {
     "id": "f0b14eab-a388-4e19-b394-c6a00b1ab241",
     "prev": "5ee6639b-a6b5-41a6-b9c8-587f7e681e47",
     "regions": {
      "c590b472-9ca6-4c37-a7fe-7c843ba6bd44": {
       "attrs": {
        "height": 0.8,
        "width": 0.8,
        "x": 0.1,
        "y": 0.1
       },
       "content": {
        "cell": "0ae3d5cf-5265-4944-b249-938648fe1cab",
        "part": "whole"
       },
       "id": "c590b472-9ca6-4c37-a7fe-7c843ba6bd44"
      }
     }
    },
    "fba75812-e1f2-4f9c-91f5-f5571ff95261": {
     "id": "fba75812-e1f2-4f9c-91f5-f5571ff95261",
     "prev": "e168cbf5-18df-4852-95b2-7a9d00f5fc02",
     "regions": {
      "12698908-1068-44b6-a794-9c36083fba86": {
       "attrs": {
        "height": 0.8,
        "width": 0.8,
        "x": 0.1,
        "y": 0.1
       },
       "content": {
        "cell": "9d0279aa-75cd-4f6c-a571-b8add293676b",
        "part": "whole"
       },
       "id": "12698908-1068-44b6-a794-9c36083fba86"
      }
     }
    }
   },
   "themes": {}
  }
 },
 "nbformat": 4,
 "nbformat_minor": 0
}
