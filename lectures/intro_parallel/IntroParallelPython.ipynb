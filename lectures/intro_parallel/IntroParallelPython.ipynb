{
 "cells": [
  {
   "cell_type": "markdown",
   "id": "2309baef-8f6a-4366-ad68-8caf6ac46d81",
   "metadata": {},
   "source": [
    "## Introduction to parallel computing in Python"
   ]
  },
  {
   "cell_type": "markdown",
   "id": "61e6f1b9-9961-494a-a711-1d967ed0ca92",
   "metadata": {},
   "source": [
    "The designers of the Python language made the choice that only one thread in a process can run actual Python code by using the so-called global interpreter lock (GIL). This means that approaches that may work in other languages (C, C++, Fortran), may not work in Python. At first glance, this is bad for parallelism. But it’s not all bad!:\n",
    "\n",
    "    External libraries (NumPy, SciPy, Pandas, etc), written in C or other languages, can release the lock and run multi-threaded.\n",
    "\n",
    "    Most input/output releases the GIL, and input/output is slow. The threading library can be used to multithread I/O.\n",
    "\n",
    "    Python libraries like multiprocessing and mpi4py run multiple Python processes and this circumvents the GIL.\n"
   ]
  },
  {
   "cell_type": "markdown",
   "id": "abd013d2-99e8-4948-b211-8a20735f61d5",
   "metadata": {},
   "source": [
    "## Shared Memory\n",
    "The main library that we will be using is `multiprocessing`. This library has plenty of utilities to develop multiple parallelization architectures in Python. We start importing it."
   ]
  },
  {
   "cell_type": "code",
   "execution_count": null,
   "id": "19441ae0-ab52-41c1-8053-ad5ed1e4bb04",
   "metadata": {},
   "outputs": [],
   "source": [
    "import multiprocessing as mp\n",
    "import os"
   ]
  },
  {
   "cell_type": "markdown",
   "id": "aeeb106d-b6bd-4938-bcdc-33ececc3470f",
   "metadata": {},
   "source": [
    "This library has a similar usage to `map` native Python's method."
   ]
  },
  {
   "cell_type": "code",
   "execution_count": null,
   "id": "18bc7fbe-1a36-4dad-b8c2-175c5aaf9667",
   "metadata": {},
   "outputs": [],
   "source": [
    "def square(x):\n",
    "    s = f\"PID = {os.getpid()}\"\n",
    "    print(s)\n",
    "    return x*x"
   ]
  },
  {
   "cell_type": "code",
   "execution_count": null,
   "id": "7b229c94-57ec-4276-90e2-4a84527f0ecd",
   "metadata": {},
   "outputs": [],
   "source": [
    "list(map(square, [2,3,14,56,7]))"
   ]
  },
  {
   "cell_type": "markdown",
   "id": "05422f8c-206d-432f-9fed-0c3dba467695",
   "metadata": {},
   "source": [
    "The pool class, by default, creates one new process per CPU and does parallel calculations on the list:"
   ]
  },
  {
   "cell_type": "code",
   "execution_count": null,
   "id": "4226087f-59c0-4631-be0e-1edaa68b0c3a",
   "metadata": {},
   "outputs": [],
   "source": [
    "with mp.Pool(processes=6) as pool:\n",
    "    a = pool.map(square, [1, 2, 3, 4, 5, 6])"
   ]
  },
  {
   "cell_type": "markdown",
   "id": "bd65755a-0557-4983-b1e6-c82fb990c1a7",
   "metadata": {},
   "source": [
    " Pool by default uses one process for each CPU on the node - it doesn’t know about your cluster’s scheduling system. It’s possible that you have permission to use 2 CPUs but it is trying to use 12. This is generally a bad situation, and will just slow you down (and make other users on the same node upset)!"
   ]
  },
  {
   "cell_type": "markdown",
   "id": "5d6848fd-ceb1-4b39-822d-fab6929c23d4",
   "metadata": {},
   "source": [
    "## Example (Prime Numbers)\n",
    "Let's say that we want to count how many primes are between $0$ and $n$, where $n\\in\\mathbb{N}$. For that, we first define a function that checks an array of numbers and returns the count of how many of them are prime."
   ]
  },
  {
   "cell_type": "code",
   "execution_count": null,
   "id": "20e78bdd-6205-420b-ad90-3f61197401c5",
   "metadata": {},
   "outputs": [],
   "source": [
    "def count_primes(shared_integer:mp.Value, numbers_list:list):\n",
    "    \"\"\"\n",
    "    This function counts how many integers are in numbers_list, and add them\n",
    "    to the shared variable shared_integer.\n",
    "    \"\"\"\n",
    "    for number in numbers_list:\n",
    "        isPrime = True # We assume that is prime\n",
    "        for factor in range(2, int(number**0.5)+1):\n",
    "            if number % factor == 0:\n",
    "                isPrime = False\n",
    "                break\n",
    "        if isPrime:\n",
    "            shared_integer.value += 1"
   ]
  },
  {
   "cell_type": "markdown",
   "id": "999c2584-f3ad-48f7-ab48-7c659d4dd26b",
   "metadata": {},
   "source": [
    "And now we write the parallelization part."
   ]
  },
  {
   "cell_type": "code",
   "execution_count": null,
   "id": "e5d200a4-0b7c-4c56-b350-8adcc913512e",
   "metadata": {},
   "outputs": [],
   "source": [
    "def parallel_count_primes(n:int, m:int):\n",
    "    \"\"\"\n",
    "    This function uses parallel programming (shared memory architecture)\n",
    "    to count how many primes are between 0 and n, using m processors.\n",
    "    \"\"\"\n",
    "    # We define first the shared integer\n",
    "    shared_integer = mp.Value(\"i\", 0) # (i)nteger, starting at 0\n",
    "    \n",
    "    # We create a list of all the integers that we want to check,\n",
    "    # and divide them in an efficient way.\n",
    "    batches = [[] for ii in range(m)]\n",
    "    for ii in range(2,n + 1):\n",
    "        batches[ii % m].append(ii)\n",
    "    \n",
    "    # We create a list to hold the process objects\n",
    "    processes = []\n",
    "    \n",
    "    # We start the processes\n",
    "    for ii in range(m):\n",
    "        process = mp.Process(target = count_primes, args = (shared_integer, \n",
    "                                                           batches[ii]))\n",
    "        processes.append(process)\n",
    "        process.start()\n",
    "    \n",
    "    # We wait for all processes to finish\n",
    "    for process in processes:\n",
    "        process.join()\n",
    "    \n",
    "    print(f\"There are {shared_integer.value} primes between 2 and {n}\")"
   ]
  },
  {
   "cell_type": "code",
   "execution_count": null,
   "id": "061ba751-04ed-414d-ae90-1af6208e213b",
   "metadata": {},
   "outputs": [],
   "source": [
    "n = int(input(\"Until which number? > \")) #76549, 76429\n",
    "m = int(input(\"How many processors? > \")) #78498,76426,76482,74624\n",
    "%timeit parallel_count_primes(n, m)"
   ]
  },
  {
   "cell_type": "markdown",
   "id": "b1c05936-b4d3-416d-b7ee-aa3187ad51c1",
   "metadata": {},
   "source": [
    "76473, 76460, 77957, 1.76 s ± 15.5 ms"
   ]
  },
  {
   "cell_type": "markdown",
   "id": "82e731c6-a5e5-493a-a5de-158c2b35fd34",
   "metadata": {},
   "source": [
    "Are we getting different values for the same input? Why?\n",
    "\n",
    "`Value` values are locked by default. This is correct in the sense that even if an assignment consists of multiple operations (such as assigning a string which might be many characters) then this assignment is atomic. However, when incrementing a counter you'll still need an external lock as provided in my example, because incrementing loads the current value and then increments it, and then assigns the result back to the Value.\n",
    "\n",
    "So without an external lock, you might run into the following circumstance.\n",
    "\n",
    "- Process 1 reads (atomically) the current value of the counter, then increments it before Process 1 can assign the incremented counter back to the Value, a context switch occurs\n",
    "- Process 2 reads (atomically) the current (unincremented) value of the counter, increments it, and assigns the incremented result (atomically) back to Value\n",
    "- Process 1 assigns its incremented value (atomically), blowing away the increment performed by Process 2.\n",
    "\n",
    "Therefore, let's explicitly lock the integer variable."
   ]
  },
  {
   "cell_type": "code",
   "execution_count": null,
   "id": "176ebe73-2ef3-405f-a498-24657a048ca0",
   "metadata": {},
   "outputs": [],
   "source": [
    "counter_lock = mp.Lock()\n",
    "\n",
    "def count_primes(shared_integer:mp.Value, numbers_list:list):\n",
    "    \"\"\"\n",
    "    This function counts how many integers are in numbers_list, and add them\n",
    "    to the shared variable shared_integer.\n",
    "    \"\"\"\n",
    "    for number in numbers_list:\n",
    "        isPrime = True # We assume that is prime\n",
    "        for factor in range(2, int(number**0.5)+1):\n",
    "            if number % factor == 0:\n",
    "                isPrime = False\n",
    "                break\n",
    "        if isPrime:\n",
    "            with counter_lock:\n",
    "                shared_integer.value += 1"
   ]
  },
  {
   "cell_type": "code",
   "execution_count": null,
   "id": "12ad4a92-096c-4303-aa73-cd89734669b5",
   "metadata": {},
   "outputs": [],
   "source": [
    "n = int(input(\"Until which number? > \"))\n",
    "m = int(input(\"How many processors? > \"))\n",
    "%timeit parallel_count_primes(n, m)"
   ]
  },
  {
   "cell_type": "markdown",
   "id": "f47af68f-cf5a-409e-ab67-6aad4a5656ce",
   "metadata": {},
   "source": [
    "This looks good."
   ]
  },
  {
   "cell_type": "markdown",
   "id": "52a49b24-4233-48f0-ba4b-a64912cafc3a",
   "metadata": {},
   "source": [
    "In general, `mp.Value` only works for datatypes with fixed memory size. If we require to use a dynamic datatype, we need to use the `mp.Array` object. For example, to define a shared list, we can do:\n",
    "\n",
    "```python\n",
    "lista = multiprocessing.Array('b', [True] * (n + 1))\n",
    "```\n",
    "Try to use this idea to get all the prime numbers between $2$ and $n$ using parallel programming."
   ]
  },
  {
   "cell_type": "code",
   "execution_count": null,
   "id": "cf265ca8-62c6-4135-b93a-1b2048b83d8a",
   "metadata": {},
   "outputs": [],
   "source": [
    "def count_primes(shared_integer:mp.Value, numbers_list:list):\n",
    "    \"\"\"\n",
    "    This function counts how many integers are in numbers_list, and add them\n",
    "    to the shared variable shared_integer.\n",
    "    \"\"\"\n",
    "    for number in numbers_list:\n",
    "        isPrime = True # We assume that is prime\n",
    "        for factor in range(2, int(number**0.5)+1):\n",
    "            if number % factor == 0:\n",
    "                isPrime = False\n",
    "                break\n",
    "        if isPrime:\n",
    "            shared_integer.value += 1\n",
    "def parallel_count_primes(n:int, m:int):\n",
    "    \"\"\"\n",
    "    This function uses parallel programming (shared memory architecture)\n",
    "    to count how many primes are between 0 and n, using m processors.\n",
    "    \"\"\"\n",
    "    # We define first the shared integer\n",
    "    shared_integer = [mp.Value(\"i\", 0) for ii in range(m)] # (i)nteger, starting at 0\n",
    "    \n",
    "    # We create a list of all the integers that we want to check,\n",
    "    # and divide them in an efficient way.\n",
    "    batches = [[] for ii in range(m)]\n",
    "    for ii in range(2,n + 1):\n",
    "        batches[ii % m].append(ii)\n",
    "    \n",
    "    # We create a list to hold the process objects\n",
    "    processes = []\n",
    "    \n",
    "    # We start the processes\n",
    "    for ii in range(m):\n",
    "        process = mp.Process(target = count_primes, args = (shared_integer[ii], \n",
    "                                                           batches[ii]))\n",
    "        processes.append(process)\n",
    "        process.start()\n",
    "    \n",
    "    # We wait for all processes to finish\n",
    "    for process in processes:\n",
    "        process.join()\n",
    "    \n",
    "    return shared_integer"
   ]
  },
  {
   "cell_type": "code",
   "execution_count": null,
   "id": "1a5ebfe7-2eba-447b-b8b0-1ce00bf4a97f",
   "metadata": {},
   "outputs": [],
   "source": [
    "%timeit lista = parallel_count_primes(1000000,8)"
   ]
  },
  {
   "cell_type": "code",
   "execution_count": null,
   "id": "eaf3d186-63f9-49d5-bceb-f305b173318d",
   "metadata": {},
   "outputs": [],
   "source": [
    "%timeit sum([ii.value for ii in lista])"
   ]
  },
  {
   "cell_type": "markdown",
   "id": "a1a308b6-6ad5-45cb-bf32-9fa96be75eff",
   "metadata": {},
   "source": [
    "## Distributed Memory\n",
    "The easiest kind of distributed memory architecture is the one that does not require communication between the processes. See the following case for example:\n"
   ]
  },
  {
   "cell_type": "code",
   "execution_count": null,
   "id": "615eb572-0d60-4fab-bb01-a7fde8dc4317",
   "metadata": {},
   "outputs": [],
   "source": [
    "import concurrent.futures\n",
    "\n",
    "def square_number(number):\n",
    "    return number * number\n",
    "\n",
    "if __name__ == \"__main__\":\n",
    "    numbers = [1, 2, 3, 4, 5, 6, 7, 8, 9, 10]\n",
    "\n",
    "    # Create a thread pool with 4 threads\n",
    "    with concurrent.futures.ThreadPoolExecutor(max_workers=4) as executor:\n",
    "        # Submit the tasks for squaring numbers\n",
    "        results = [executor.submit(square_number, num) for num in numbers]\n",
    "\n",
    "        # Retrieve the results as they are completed\n",
    "        squared_results = [result.result() for result in concurrent.futures.as_completed(results)]\n",
    "\n",
    "    print(\"Squared numbers:\", squared_results)"
   ]
  },
  {
   "cell_type": "code",
   "execution_count": null,
   "id": "8cea7435-a1c6-45ab-9199-b4439d8774b4",
   "metadata": {},
   "outputs": [],
   "source": []
  },
  {
   "cell_type": "markdown",
   "id": "2ff7bcce-8ac5-42eb-ab42-8950696dc2cc",
   "metadata": {},
   "source": [
    "Try to do a similar program where you return how many times you had to apply the [Collatz's function](https://en.wikipedia.org/wiki/Collatz_conjecture) to the first $n$ integers to get 1."
   ]
  },
  {
   "cell_type": "code",
   "execution_count": null,
   "id": "7116d48b-fc17-4561-a634-5d524e8a5164",
   "metadata": {},
   "outputs": [],
   "source": []
  },
  {
   "cell_type": "markdown",
   "id": "13349f3c-4bc7-4082-99a3-d4af49a3da7c",
   "metadata": {},
   "source": [
    "On the other hand, if we require to pass messages between the processes, we should use other library, named `MPI` (message passing interface). See the file `mpi.py` in this folder. You can execute it using\n",
    "```bash\n",
    "mpiexec -n 2 python mpi.py\n",
    "```\n",
    "That is, we will use 2 processes to run the Python file `mpi.py`."
   ]
  },
  {
   "cell_type": "code",
   "execution_count": null,
   "id": "e5fd0e66-e0e3-4405-80a7-36644ef7f036",
   "metadata": {},
   "outputs": [],
   "source": [
    "from os import system\n",
    "system(\"less mpi.py\")"
   ]
  },
  {
   "cell_type": "code",
   "execution_count": null,
   "id": "6b2f7fc8-0d44-4fe5-a437-c2aaa4788f42",
   "metadata": {},
   "outputs": [],
   "source": [
    "system(\"mpiexec -n 2 python mpi.py\")"
   ]
  },
  {
   "cell_type": "markdown",
   "id": "b94750c0-ca93-427f-bf66-464352d5bd26",
   "metadata": {},
   "source": [
    "Nevertheless, this is a bit boring. Let's see a more interesting example. See `monte_carlo_pi.py`."
   ]
  },
  {
   "cell_type": "code",
   "execution_count": null,
   "id": "1349d4df-8d35-49c1-81fa-8ccdb85bb2b7",
   "metadata": {},
   "outputs": [],
   "source": [
    "system(\"cat monte_carlo_pi.py\")"
   ]
  },
  {
   "cell_type": "code",
   "execution_count": null,
   "id": "518beea0-4e86-434f-bacb-536d8ce831a1",
   "metadata": {},
   "outputs": [],
   "source": [
    "system(\"mpiexec -n 10 python monte_carlo_pi.py\")"
   ]
  },
  {
   "cell_type": "markdown",
   "id": "dd198eb5-7c31-41bd-bdfe-d63fd34eaf78",
   "metadata": {},
   "source": [
    "Now try to do a program of this kind that estimates the Euler's constant without using explicitly the exponential or logarithmic functions. You should decide which algorithm to use."
   ]
  }
 ],
 "metadata": {
  "kernelspec": {
   "display_name": "Python 3 (ipykernel)",
   "language": "python",
   "name": "python3"
  },
  "language_info": {
   "codemirror_mode": {
    "name": "ipython",
    "version": 3
   },
   "file_extension": ".py",
   "mimetype": "text/x-python",
   "name": "python",
   "nbconvert_exporter": "python",
   "pygments_lexer": "ipython3",
   "version": "3.13.1"
  }
 },
 "nbformat": 4,
 "nbformat_minor": 5
}
