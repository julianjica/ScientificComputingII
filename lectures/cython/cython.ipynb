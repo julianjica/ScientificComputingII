{
 "cells": [
  {
   "cell_type": "markdown",
   "id": "e41b94fb-7fd2-4e91-8a95-0809acf6f96d",
   "metadata": {},
   "source": [
    "# Cython\n",
    "Cython is a Python compiler that makes writing C extensions for Python as easy as Python itself. Cython translates Python code to C/C++ code but additionally supports calling C functions and declaring C types on variables and class attributes. This allows the compiler to generate very efficient C code from Cython code.\n",
    "\n",
    "This makes Cython the ideal language for wrapping external C libraries, and for fast C modules that speed up the execution of Python code.\n",
    "\n",
    "## Installation\n",
    "If you use `pip`, you can install Cython through\n",
    "```bash\n",
    "pip install cython\n",
    "```\n",
    "or if Anaconda is your package manager, you can use\n",
    "```bash\n",
    "conda install cython\n",
    "```\n",
    "## Usage\n",
    "In Jupyter notebook, you can load the Cython extension as follows:"
   ]
  },
  {
   "cell_type": "code",
   "execution_count": null,
   "id": "a53b88ab-4b3e-4fde-9d0d-28df69087912",
   "metadata": {},
   "outputs": [],
   "source": [
    "%load_ext Cython"
   ]
  },
  {
   "cell_type": "markdown",
   "id": "8525aa86-7084-4227-82ca-11a5c55413c4",
   "metadata": {},
   "source": [
    "Then, prefix a cell with the `%%cython` marker to compile it"
   ]
  },
  {
   "cell_type": "code",
   "execution_count": null,
   "id": "00d3f986-7de5-4fbb-afd6-1e70ed98aef5",
   "metadata": {},
   "outputs": [],
   "source": [
    "%%cython\n",
    "\n",
    "a: cython.int = 0\n",
    "for i in range(int(1e7)):\n",
    "    a += i\n",
    "print(a)\n"
   ]
  },
  {
   "cell_type": "markdown",
   "id": "f3b6237f-2ff5-46c5-8ae6-990c92efbd2f",
   "metadata": {},
   "source": [
    "Using the `--annotate` option will show Cython’s code analysis."
   ]
  },
  {
   "cell_type": "code",
   "execution_count": null,
   "id": "260bb20f-5965-452d-8604-896057f3fb46",
   "metadata": {},
   "outputs": [],
   "source": [
    "%%cython --annotate\n",
    "\n",
    "a: cython.int = 0\n",
    "for i in range(int(1e7)):\n",
    "    a += i\n",
    "print(a)"
   ]
  },
  {
   "cell_type": "markdown",
   "id": "f748bddf-99c3-4508-89d6-3034ee1b72bd",
   "metadata": {},
   "source": [
    "Of course, we can test performance of compiled and native Python."
   ]
  },
  {
   "cell_type": "code",
   "execution_count": null,
   "id": "1f8e5fec-8767-47f0-a432-12bec51a176a",
   "metadata": {},
   "outputs": [],
   "source": [
    "%%cython\n",
    "\n",
    "def sum_numbers_cython(int n):\n",
    "    #This code includes type declarations (e.g., cdef int) for variables,\n",
    "    #which allows Cython to generate more efficient C code.\n",
    "    cdef int result = 0\n",
    "    cdef int i\n",
    "    for i in range(1, n+1):\n",
    "        result += i\n",
    "    return result"
   ]
  },
  {
   "cell_type": "code",
   "execution_count": null,
   "id": "19381568-5bdc-4418-a367-9adc41156d3f",
   "metadata": {},
   "outputs": [],
   "source": [
    "def sum_numbers(n):\n",
    "    result = 0\n",
    "    for i in range(1, n+1):\n",
    "        result += i\n",
    "    return result"
   ]
  },
  {
   "cell_type": "code",
   "execution_count": null,
   "id": "027c85b2-278f-4377-9e7d-dd98e09a5ec1",
   "metadata": {},
   "outputs": [],
   "source": [
    "N = 2000\n",
    "%timeit sum_numbers(N)\n",
    "%timeit sum_numbers_cython(N)"
   ]
  },
  {
   "cell_type": "markdown",
   "id": "2f834bbf-77b3-48cb-a388-30c6fb6fbe7d",
   "metadata": {},
   "source": [
    "## Cythonize outside Jupyter\n",
    "`cythonize` is a function provided by the `Cython` library that is used to compile `Cython` code (.pyx files) into `C` code and then compile the `C` code into a `Python` extension module. In short, it is the process of converting `Cython` code into a form that can be used in `Python` and typically results in improved performance for computationally intensive tasks. cythonize simplifies the build process for `Cython` code, making it more accessible for `Python` developers who want to optimize their code."
   ]
  },
  {
   "cell_type": "markdown",
   "id": "a16f94cf-db40-40b0-bbc4-0fe5cb2d8571",
   "metadata": {},
   "source": [
    "Consider the following example, found in `examples/`"
   ]
  },
  {
   "cell_type": "code",
   "execution_count": null,
   "id": "46ae17f2-e495-49bd-b750-2f7f61b8b19b",
   "metadata": {},
   "outputs": [],
   "source": [
    "from os import system"
   ]
  },
  {
   "cell_type": "code",
   "execution_count": null,
   "id": "7ab75d1d-fcb8-4037-a1d6-a24647f4c1fa",
   "metadata": {},
   "outputs": [],
   "source": [
    "system(\"cat examples/module1.pyx\")"
   ]
  },
  {
   "cell_type": "markdown",
   "id": "b038ecc2-a09d-4ebe-ad6f-41272a7d6737",
   "metadata": {},
   "source": [
    "The following script will compile the `cython` code"
   ]
  },
  {
   "cell_type": "code",
   "execution_count": null,
   "id": "d48f15da-a4cc-4ea4-9322-bac0dc3d5466",
   "metadata": {},
   "outputs": [],
   "source": [
    "system(\"cat examples/setup.py\")"
   ]
  },
  {
   "cell_type": "markdown",
   "id": "428d3539-a83e-481e-b90d-c4f97a618d4a",
   "metadata": {},
   "source": [
    "We therefore execute it to compile `module1.pyx` using the following `bash` expression\n",
    "```bash\n",
    "    python setup.py build_ext --inplace\n",
    "```\n",
    "This command compiles your `Cython` code into a shared library or a `Python` extension module, and the `--inplace` flag tells `Python` to put the output files in the current directory."
   ]
  },
  {
   "cell_type": "code",
   "execution_count": null,
   "id": "6bf0aa3f-6e5b-469b-81d8-7c67a58f6d26",
   "metadata": {},
   "outputs": [],
   "source": [
    "system(\"cd examples/ && python setup.py build_ext --inplace\")"
   ]
  },
  {
   "cell_type": "markdown",
   "id": "353d1666-6c88-4430-8b11-19d032a07ba1",
   "metadata": {},
   "source": [
    "With this, we can already use the `Cython` module in `Python`. For example, in a `Python` script or Jupyter Notebook cell, we can write"
   ]
  },
  {
   "cell_type": "code",
   "execution_count": null,
   "id": "7e35585c-9187-4fb3-8b4d-eff9b883b506",
   "metadata": {},
   "outputs": [],
   "source": [
    "system(\"cat examples/main.py\")"
   ]
  },
  {
   "cell_type": "code",
   "execution_count": null,
   "id": "450bd515-72b6-4d9e-8e5f-7e5da76b9a93",
   "metadata": {},
   "outputs": [],
   "source": [
    "system(\"python examples/main.py\")"
   ]
  },
  {
   "cell_type": "markdown",
   "id": "ab62c81d-8bf1-44aa-aa35-036eeeb8b256",
   "metadata": {},
   "source": [
    "## Functions and libraries\n",
    "### Numpy"
   ]
  },
  {
   "cell_type": "markdown",
   "id": "e7741a71-adeb-4f68-b58f-7f36cc3a1b67",
   "metadata": {},
   "source": [
    "Consider the following piece of code, where we define a function that calculates the aritmethic mean of a given array."
   ]
  },
  {
   "cell_type": "code",
   "execution_count": null,
   "id": "8b6740b1-3a9b-4f65-83b0-d246ba06a8ac",
   "metadata": {},
   "outputs": [],
   "source": [
    "%%cython\n",
    "\n",
    "# To define a function we use the \"cpdef\" instruction\n",
    "cpdef double cython_mean(long[:] array):\n",
    "    cdef int n = array.shape[0]\n",
    "    cdef double sum_val = 0.\n",
    "    cdef int ii\n",
    "    for ii in range(n):\n",
    "        sum_val += array[ii]\n",
    "\n",
    "    return sum_val / n"
   ]
  },
  {
   "cell_type": "markdown",
   "id": "d86e81df-dad3-4a54-8c2a-07b893c4c871",
   "metadata": {},
   "source": [
    "and now we test this function with numpy arrays:"
   ]
  },
  {
   "cell_type": "code",
   "execution_count": null,
   "id": "d2788e96-83ed-4c6d-bb22-7c750b5e61f0",
   "metadata": {},
   "outputs": [],
   "source": [
    "import numpy as np"
   ]
  },
  {
   "cell_type": "code",
   "execution_count": null,
   "id": "ff7d8f94-dcfe-4d4f-bdb1-5a767de98832",
   "metadata": {},
   "outputs": [],
   "source": [
    "arr = np.random.randint(1,100,int(1e8), dtype=np.int64)\n",
    "result = cython_mean(arr)\n",
    "print(result)"
   ]
  },
  {
   "cell_type": "code",
   "execution_count": null,
   "id": "ca844c3c-ed4c-4a1a-8d72-a04d7a88974f",
   "metadata": {},
   "outputs": [],
   "source": [
    "# Let us test times\n",
    "%timeit cython_mean(arr)\n",
    "%timeit np.mean(arr)"
   ]
  },
  {
   "cell_type": "markdown",
   "id": "636f1fb7-cd15-4b3c-b3ca-5efd3c405f74",
   "metadata": {},
   "source": [
    "Now consider the following code, which aims to perform matrix multiplication using `Cython`"
   ]
  },
  {
   "cell_type": "code",
   "execution_count": null,
   "id": "8dfe0772-4ee2-477f-b851-22d8a1db5cf4",
   "metadata": {},
   "outputs": [],
   "source": [
    "%%cython\n",
    "\n",
    "import numpy as np\n",
    "cimport numpy as np\n",
    "\n",
    "cpdef np.ndarray[double, ndim=2] matrix_multiply(np.ndarray[double, ndim=2] A, np.ndarray[double, ndim=2] B):\n",
    "    cdef int m, n, p\n",
    "    m = A.shape[0]\n",
    "    n = A.shape[1]\n",
    "    p = B.shape[1]\n",
    "    \n",
    "    cdef np.ndarray[double, ndim=2] result = np.zeros((m, p), dtype=np.float64)\n",
    "    \n",
    "    cdef int i, j, k\n",
    "    for i in range(m):\n",
    "        for j in range(p):\n",
    "            for k in range(n):\n",
    "                result[i, j] += A[i, k] * B[k, j]\n",
    "    \n",
    "    return result"
   ]
  },
  {
   "cell_type": "code",
   "execution_count": null,
   "id": "09736f88-24a4-4a9d-af48-6ec5cf9ef01b",
   "metadata": {},
   "outputs": [],
   "source": [
    "# Create two NumPy arrays\n",
    "A = np.random.rand(1000, 1000)\n",
    "B = np.random.rand(1000, 1000)\n",
    "\n",
    "# Call the Cython function for matrix multiplication\n",
    "result = matrix_multiply(A, B)\n",
    "\n",
    "# Print the result\n",
    "print(result)"
   ]
  },
  {
   "cell_type": "code",
   "execution_count": null,
   "id": "83c03246-78ee-4bbe-a0b6-e7261149f525",
   "metadata": {},
   "outputs": [],
   "source": [
    "%timeit matrix_multiply(A, B)\n",
    "%timeit A.dot(B)"
   ]
  },
  {
   "cell_type": "markdown",
   "id": "e9103a8f-de09-4a74-b345-297c4265b360",
   "metadata": {},
   "source": [
    "### Cython\n",
    "Consider the following `Cython` code, used to calculate the CDF of a normal distribution."
   ]
  },
  {
   "cell_type": "code",
   "execution_count": null,
   "id": "a0d72d01-631d-4d83-beaf-1e072d060542",
   "metadata": {},
   "outputs": [],
   "source": [
    "%%cython\n",
    "cimport numpy as np\n",
    "from scipy.stats import norm\n",
    "\n",
    "cpdef np.ndarray[double] cdf_normal(np.ndarray[double] x, double loc, double scale):\n",
    "    return norm.cdf(x, loc, scale)"
   ]
  },
  {
   "cell_type": "code",
   "execution_count": null,
   "id": "de40bb2b-ab0c-4bbb-8cea-ef0bd30e6e39",
   "metadata": {},
   "outputs": [],
   "source": [
    "import numpy as np\n",
    "from scipy.stats import norm\n",
    "\n",
    "# Generate test data\n",
    "x = np.random.normal(0, 1, int(1e7))\n",
    "\n",
    "# Calculate CDF using SciPy\n",
    "%timeit norm.cdf(x, loc=0, scale=1)\n",
    "\n",
    "# Calculate CDF using the Cython-optimized function\n",
    "%timeit cdf_normal(x, loc=0, scale=1)"
   ]
  },
  {
   "cell_type": "markdown",
   "id": "c60818f1-f7bf-44f7-a408-54e27e9e6e32",
   "metadata": {},
   "source": [
    "### Sympy"
   ]
  },
  {
   "cell_type": "markdown",
   "id": "7766a545-677e-4e6a-9374-ac6ae9ef3a09",
   "metadata": {},
   "source": [
    "Let's do a bit of symbolic differentiation."
   ]
  },
  {
   "cell_type": "code",
   "execution_count": null,
   "id": "d1faa1fd-fa0f-433b-a844-e622e9e8b135",
   "metadata": {},
   "outputs": [],
   "source": [
    "%%cython\n",
    "\n",
    "from sympy import symbols, diff\n",
    "\n",
    "cpdef symbolic_differentiation():\n",
    "    x = symbols('x')\n",
    "    expression = x**3 + 2*x**2 + 3*x + 4\n",
    "    derivative = diff(expression, x)\n",
    "    return derivative"
   ]
  },
  {
   "cell_type": "code",
   "execution_count": null,
   "id": "878f4294-76f0-45c9-bde7-9c9c08d57f52",
   "metadata": {},
   "outputs": [],
   "source": [
    "x = symbols('x')\n",
    "expression = x**3 + 2*x**2 + 3*x + 4\n",
    "\n",
    "%timeit diff(expression, x)\n",
    "%timeit symbolic_differentiation()"
   ]
  }
 ],
 "metadata": {
  "kernelspec": {
   "display_name": "Python 3 (ipykernel)",
   "language": "python",
   "name": "python3"
  },
  "language_info": {
   "codemirror_mode": {
    "name": "ipython",
    "version": 3
   },
   "file_extension": ".py",
   "mimetype": "text/x-python",
   "name": "python",
   "nbconvert_exporter": "python",
   "pygments_lexer": "ipython3",
   "version": "3.11.5"
  }
 },
 "nbformat": 4,
 "nbformat_minor": 5
}
