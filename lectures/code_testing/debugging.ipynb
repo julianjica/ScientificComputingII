{
 "cells": [
  {
   "cell_type": "markdown",
   "id": "28fd9f22-02eb-4556-b92b-5037d5f371b9",
   "metadata": {},
   "source": [
    "# Introduction to Debugging\n",
    "\n",
    "Debugging is a crucial aspect of the software development process that involves identifying and resolving issues in code. These issues, commonly referred to as bugs, can cause unexpected behavior, errors, and incorrect outputs in software applications. Debugging is a fundamental skill that empowers developers to create reliable and functional software products.\n",
    "\n",
    "In this class we will explore how to do debugging in Python.\n",
    "## `pdb`\n",
    "`pdb` is the standard library dedicated to do debugging in Python. It should be included in your Python distribution by default. If `python --version < 3.7`, you have to import it and call it, namely\n",
    "```python\n",
    "import pdb\n",
    "pdb.set_trace() # at the point where we want to set the breakpoint\n",
    "```\n",
    "On the other hand, if `python --version >= 3.7`, there is no need to import the library, and suffices to use the `breakpoint()` function where needed.\n",
    "\n",
    "You can also use it from bash calling the module on your script.\n",
    "```bash\n",
    "python -m pdb my_script.py\n",
    "```"
   ]
  },
  {
   "cell_type": "code",
   "execution_count": null,
   "id": "d2ed189c-bcd7-4303-a512-77df4fb658b9",
   "metadata": {},
   "outputs": [],
   "source": [
    "breakpoint()"
   ]
  },
  {
   "cell_type": "markdown",
   "id": "2ca915d5-d914-4317-9c6d-84400e397491",
   "metadata": {},
   "source": [
    "If we write help, we will get the set of possible commands\n",
    "\n",
    "```\n",
    "Documented commands (type help <topic>):\n",
    "========================================\n",
    "EOF    commands   enable    ll        pp       s                until \n",
    "a      condition  exit      longlist  psource  skip_hidden      up    \n",
    "alias  cont       h         n         q        skip_predicates  w     \n",
    "args   context    help      next      quit     source           whatis\n",
    "b      continue   ignore    p         r        step             where \n",
    "break  d          interact  pdef      restart  tbreak         \n",
    "bt     debug      j         pdoc      return   u              \n",
    "c      disable    jump      pfile     retval   unalias        \n",
    "cl     display    l         pinfo     run      undisplay      \n",
    "clear  down       list      pinfo2    rv       unt            \n",
    "\n",
    "Miscellaneous help topics:\n",
    "==========================\n",
    "exec  pdb\n",
    "```\n",
    "To get specific help on a given command, we write `help *command*`. For now we are interested in the following commands:\n",
    "| Command | Description | \n",
    "|----------|----------|\n",
    "| `n` (next)| Continue execution until the next line in the current function is reached or it returns.|\n",
    "| `s` (step into)| Execute the current line and stop at the first possible occasion (either in a function that is called or in the current function).|\n",
    "| `p *variable_name*` (print)| Prints the value of `*variable_name*`.|\n",
    "\n",
    "Let us see the following example."
   ]
  },
  {
   "cell_type": "code",
   "execution_count": null,
   "id": "54c48080-d2bf-458f-9563-bce985536495",
   "metadata": {},
   "outputs": [],
   "source": [
    "def factorial(n):\n",
    "    if n == 0:\n",
    "        return 1\n",
    "    else:\n",
    "        return n * factorial(n - 1)\n",
    "def main():\n",
    "    breakpoint()\n",
    "    number = 5\n",
    "    result = factorial(number)\n",
    "    print(f\"The factorial of {number} is {result}\")\n",
    "\n",
    "# I use a main function to avoid debugging over the\n",
    "# shell methods of Jupyter Notebook\n",
    "main()"
   ]
  },
  {
   "cell_type": "markdown",
   "id": "debf720d-6675-4166-bc3a-779d958153d5",
   "metadata": {},
   "source": [
    "This can be a bit tedious if we want to travel only on the code written by us. A way around this is to use the interface debugger provided by Jupyter. This option can be activated by pressing a bug-like button in the upper right corner of the notebook. If yours is disabled, you probably need to install a Python kernel that supports inline debugging, like `xeus`, using\n",
    "```bash\n",
    "pip install xeus\n",
    "```\n",
    "or\n",
    "```bash\n",
    "conda install xeus\n",
    "```\n",
    "On my front, I first installed a dedicated debugger called `debugpy` using `pip/conda install debugpy`, and then applied it to the notebook instance using `python -m ipykernel install --user --name=debugpy --display-name=\"Python (debugpy)`\n",
    "### Example\n",
    "Let us debug the following code:"
   ]
  },
  {
   "cell_type": "code",
   "execution_count": null,
   "id": "fe4ef400-fb03-42ca-9301-5f95f55a7e34",
   "metadata": {},
   "outputs": [],
   "source": [
    "def factorial(n):\n",
    "    if n == 0:\n",
    "        return 1\n",
    "    else:\n",
    "        return n * factorial(n - 1)\n",
    "\n",
    "def main():\n",
    "    num = - 1\n",
    "    result = factorial(num)\n",
    "    print(f\"The factorial of {num} is {result}\")\n",
    "\n",
    "    numbers = [1, 2, 3, 4, 5]\n",
    "    total = 0\n",
    "    for i in range(len(numbers)):\n",
    "        total += numbers[i]\n",
    "        average = total / i\n",
    "\n",
    "    print(f\"The average of the numbers is {average}\")\n",
    "\n",
    "if __name__ == \"__main__\":\n",
    "    main()"
   ]
  },
  {
   "cell_type": "markdown",
   "id": "a3aafe73-0cd4-481e-99c2-6ded3ccbb2bf",
   "metadata": {},
   "source": [
    "## References\n",
    "- https://realpython.com/python-debugging-pdb/"
   ]
  }
 ],
 "metadata": {
  "kernelspec": {
   "display_name": "Python 3 (ipykernel)",
   "language": "python",
   "name": "python3"
  },
  "language_info": {
   "codemirror_mode": {
    "name": "ipython",
    "version": 3
   },
   "file_extension": ".py",
   "mimetype": "text/x-python",
   "name": "python",
   "nbconvert_exporter": "python",
   "pygments_lexer": "ipython3",
   "version": "3.11.3"
  }
 },
 "nbformat": 4,
 "nbformat_minor": 5
}
