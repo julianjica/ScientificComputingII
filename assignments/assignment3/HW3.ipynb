{
 "cells": [
  {
   "cell_type": "markdown",
   "id": "7e5429d5-ecda-4aea-b267-fa5c70a06055",
   "metadata": {},
   "source": [
    "# Assignment III\n",
    "You are expected to solve this assignment after going through all the Python material in the Lecture zone. If you have not done that, do so, because this assignment aims to measure your overall Python skills.\n",
    "\n",
    "Regarding the instructions for this assignment:\n",
    "- You must upload this notebook with your answers in the code block.\n",
    "- Your code is expected to run smoothly, without warnings or errors, and should provide the desired answer. Any failure to comply with this instruction can lead to partial or null score.\n",
    "- Document your code.\n",
    "\n",
    "Remind to ask me if you have questions: julian.jimenezc@konradlorenz.edu.co"
   ]
  },
  {
   "cell_type": "markdown",
   "id": "35ea20c1-e3a3-4113-8ae8-fe2fb82ff435",
   "metadata": {},
   "source": [
    "### Optimizing and Profiling Code\n",
    "Optimize and profile the following Python code using different techniques and tools to improve its performance.\n",
    "```python\n",
    "import numpy as np\n",
    "from scipy.linalg import det\n",
    "\n",
    "def calculate_determinant_numpy(matrix_size):\n",
    "    matrix = np.random.rand(matrix_size, matrix_size)\n",
    "    determinant = np.linalg.det(matrix)\n",
    "    return determinant\n",
    "\n",
    "def calculate_determinant_scipy(matrix_size):\n",
    "    matrix = np.random.rand(matrix_size, matrix_size)\n",
    "    determinant = det(matrix)\n",
    "    return determinant\n",
    "\n",
    "# Test the original code\n",
    "matrix_size = 200\n",
    "print(\"Numpy Determinant:\", calculate_determinant_numpy(matrix_size))\n",
    "print(\"Scipy Determinant:\", calculate_determinant_scipy(matrix_size))\n",
    "```\n",
    "1. (0/10) Explain clearly what the code is doing.\n",
    "2. (0/10) Run the code as is and record its execution time using the `timeit` module. Calculate the time taken for multiple runs and report the average execution time with its respective mean deviation.\n",
    "3. (0/10) Use the `cProfile` or `profile` modules to profile the code and identify which functions or parts of the code consume the most time. Run the profiler and analyze the output to find potential areas for optimization.\n",
    "4. (0/10) Optimize the code using `numba` or `numexpr`.\n",
    "5. (0/10) Compare the execution times obtained from the different optimization techniques and profiling tools. Write a brief analysis of which techniques were most effective in improving performance and how the profiling tools helped identify bottlenecks."
   ]
  },
  {
   "cell_type": "code",
   "execution_count": null,
   "id": "f2d329c0-bd55-4cf7-80f3-f613f6239b73",
   "metadata": {},
   "outputs": [],
   "source": []
  }
 ],
 "metadata": {
  "kernelspec": {
   "display_name": "Python 3 (ipykernel)",
   "language": "python",
   "name": "python3"
  },
  "language_info": {
   "codemirror_mode": {
    "name": "ipython",
    "version": 3
   },
   "file_extension": ".py",
   "mimetype": "text/x-python",
   "name": "python",
   "nbconvert_exporter": "python",
   "pygments_lexer": "ipython3",
   "version": "3.11.3"
  }
 },
 "nbformat": 4,
 "nbformat_minor": 5
}
