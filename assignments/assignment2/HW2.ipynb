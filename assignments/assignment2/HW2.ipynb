{
 "cells": [
  {
   "cell_type": "markdown",
   "id": "95fef276",
   "metadata": {},
   "source": [
    "# Assignment II\n",
    "You are expected to solve this assignment after going through all the Python material in the Lecture zone. If you have not done that, do so, because this assignment aims to measure your overall Python skills.\n",
    "\n",
    "Regarding the instructions for this assignment:\n",
    "- You must upload this notebook with your answers in the code block.\n",
    "- Each section has a score of 10, for a total score of 50.\n",
    "- Your code is expected to run smoothly, without warnings or errors, and should provide the desired answer. Any failure to comply with this instruction can lead to partial or null score.\n",
    "- Document your code.\n",
    "\n",
    "Remind to ask me if you have questions: julian.jimenezc@konradlorenz.edu.co"
   ]
  },
  {
   "cell_type": "markdown",
   "id": "5abd59b8",
   "metadata": {},
   "source": [
    "## Introduction (Creating a To-Do List Application)\n",
    "Create a basic To-Do List application that allows users to add tasks, mark tasks as completed, and display the list of tasks.\n",
    "\n",
    "Here is a step-by-step guide on how to approach this exercise:\n",
    "1. (0/2) Define a **Task** class with attributes such as task name (`str`) and completion status (`bool`).\n",
    "2. (0/2) Implement an `__init__` method in the Task class to initialize the task name and set the completion status to `False` by default.\n",
    "3. (0/2) Create a **TodoList** class that stores a *list* of tasks.\n",
    "4. (0/2) Implement methods in the **TodoList** class to:\n",
    "    - add tasks (Input=Task Object)\n",
    "    - mark tasks as completed (Input=index of the task in the list. Deal with any trivial exception).\n",
    "    - display the list of tasks.\n",
    "5. (0/2) Instantiate a **TodoList** object and test the methods you've implemented."
   ]
  },
  {
   "cell_type": "code",
   "execution_count": null,
   "id": "73086603",
   "metadata": {},
   "outputs": [],
   "source": []
  },
  {
   "cell_type": "markdown",
   "id": "694006bf",
   "metadata": {},
   "source": [
    "## Numpy (Matrix Analysis and Eigenvectors)\n",
    "In this exercise, you will work with a matrix and perform advanced linear algebra operations using NumPy. You can find the instructions below.\n",
    "\n",
    "1. (0/2) Create a 4x4 matrix with random float values. You can use the `np.random.rand()` function.\n",
    "2. (0/2) Calculate and print the eigenvalues and eigenvectors of the matrix using the `np.linalg.eig()` function.\n",
    "3. (0/2) Compute the matrix's [singular value decomposition (SVD)](https://en.wikipedia.org/wiki/Singular_value_decomposition) using the `np.linalg.svd()` function. Print the matrices $U$, $S$, and $V.$\n",
    "4. (0/2) Find the [condition number of the matrix](https://www.phys.uconn.edu/~rozman/Courses/m3511_18s/downloads/condnumber.pdf) using the `np.linalg.cond()` function. The condition number provides insight into the stability of solving linear equations involving the matrix.\n",
    "5. (0/2) Generate a random vector of appropriate dimensions. Use the matrix and the vector to solve a linear system of equations using matrix multiplication."
   ]
  },
  {
   "cell_type": "code",
   "execution_count": null,
   "id": "6c0d48cf",
   "metadata": {},
   "outputs": [],
   "source": []
  },
  {
   "cell_type": "markdown",
   "id": "3581aa6b",
   "metadata": {},
   "source": [
    "## Matplotlib (Mandelbrot Set\n",
    "In this exercise, you will create a visual representation of the Mandelbrot set using Matplotlib. If you are not familiarized with it, you should check [this video](https://www.youtube.com/watch?v=LqbZpur38nw). In a nutshell, it measures the divergence of the sequence $z_{n+1}=z_n^2+{c},$ $z_0=0$, for $c\\in\\mathbb{C}$. \n",
    "\n",
    "To do this visual representation, follow the next steps:\n",
    "\n",
    "1. (0/2) Define a function called **mandelbrot** that calculates the number of iterations for a given complex number to escape the Mandelbrot set.\n",
    "    - Input: `c` (complex number), `max_iterations` (integer, 1000 by default).\n",
    "    - Output: `n` (integer). Number of iterations for which the sequence $z_n$ associated with `c` has an absolute value greater than 2. Returns `max_iterations` if the previous condition is not fulfilled.\n",
    "2. (0/2) Create a grid of complex numbers using `np.meshgrid` representing points in the complex plane.\n",
    "3. (0/2) Calculate the escape times for each complex $c$ of the previous grid using the function from step 2.\n",
    "4. (0/4) Create an image that visualizes the Mandelbrot set using `plt.imshow()` or `plt.pcolor`. Customize the colormap for better visualization."
   ]
  },
  {
   "cell_type": "code",
   "execution_count": null,
   "id": "cee4057d",
   "metadata": {},
   "outputs": [],
   "source": []
  },
  {
   "cell_type": "markdown",
   "id": "27b5de69",
   "metadata": {},
   "source": [
    "## Scipy (Previous Homework)\n",
    "1. (0/10) Use Scipy to solve the applied part of the previous homework in few lines of code. Plotting is not necessary. "
   ]
  },
  {
   "cell_type": "code",
   "execution_count": null,
   "id": "eaf24152",
   "metadata": {},
   "outputs": [],
   "source": []
  },
  {
   "cell_type": "markdown",
   "id": "aa7829ba",
   "metadata": {},
   "source": [
    "## Sympy (Integration and Differentiation.\n",
    "1. (0/10) Create a function that receives the coefficients of a polynomial (list of real numbers), and returns the integral and derivative of that polynomial in Sympy form in a list."
   ]
  },
  {
   "cell_type": "code",
   "execution_count": null,
   "id": "4dec0dff",
   "metadata": {},
   "outputs": [],
   "source": []
  }
 ],
 "metadata": {
  "kernelspec": {
   "display_name": "Python 3 (ipykernel)",
   "language": "python",
   "name": "python3"
  },
  "language_info": {
   "codemirror_mode": {
    "name": "ipython",
    "version": 3
   },
   "file_extension": ".py",
   "mimetype": "text/x-python",
   "name": "python",
   "nbconvert_exporter": "python",
   "pygments_lexer": "ipython3",
   "version": "3.10.12"
  }
 },
 "nbformat": 4,
 "nbformat_minor": 5
}
